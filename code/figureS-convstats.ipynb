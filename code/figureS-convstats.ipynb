{
 "cells": [
  {
   "cell_type": "code",
   "execution_count": 15,
   "metadata": {},
   "outputs": [],
   "source": [
    "from glob import glob\n",
    "\n",
    "import pandas as pd\n",
    "import matplotlib.pyplot as plt\n",
    "\n",
    "from util.path import Path\n",
    "from constants import CONVS_STRANGERS"
   ]
  },
  {
   "cell_type": "code",
   "execution_count": 2,
   "metadata": {},
   "outputs": [
    {
     "name": "stdout",
     "output_type": "stream",
     "text": [
      "/scratch/gpfs/zzada/fconv\n"
     ]
    }
   ],
   "source": [
    "%cd .."
   ]
  },
  {
   "cell_type": "markdown",
   "metadata": {},
   "source": [
    "# num of turns per convo"
   ]
  },
  {
   "cell_type": "code",
   "execution_count": 7,
   "metadata": {},
   "outputs": [],
   "source": [
    "def reduce_consecutive(df: pd.DataFrame, on: str) -> pd.DataFrame:\n",
    "    newdf = df.copy()\n",
    "    newdf['key'] = (df[on] != df[on].shift(1)).astype(int).cumsum()\n",
    "    newdf = newdf.groupby('key').first()  # NOTE hardcoded function\n",
    "    newdf.reset_index(drop=True, inplace=True)\n",
    "    return newdf"
   ]
  },
  {
   "cell_type": "code",
   "execution_count": 27,
   "metadata": {},
   "outputs": [
    {
     "name": "stdout",
     "output_type": "stream",
     "text": [
      "590\n",
      "1816\n"
     ]
    },
    {
     "data": {
      "text/html": [
       "<div>\n",
       "<style scoped>\n",
       "    .dataframe tbody tr th:only-of-type {\n",
       "        vertical-align: middle;\n",
       "    }\n",
       "\n",
       "    .dataframe tbody tr th {\n",
       "        vertical-align: top;\n",
       "    }\n",
       "\n",
       "    .dataframe thead th {\n",
       "        text-align: right;\n",
       "    }\n",
       "</style>\n",
       "<table border=\"1\" class=\"dataframe\">\n",
       "  <thead>\n",
       "    <tr style=\"text-align: right;\">\n",
       "      <th></th>\n",
       "      <th>conv</th>\n",
       "      <th>run</th>\n",
       "      <th>trial</th>\n",
       "      <th>speaker</th>\n",
       "      <th>onset</th>\n",
       "      <th>text</th>\n",
       "    </tr>\n",
       "  </thead>\n",
       "  <tbody>\n",
       "    <tr>\n",
       "      <th>0</th>\n",
       "      <td>104</td>\n",
       "      <td>1</td>\n",
       "      <td>1</td>\n",
       "      <td>4</td>\n",
       "      <td>3</td>\n",
       "      <td>Um, I would not want to be famous in any capac...</td>\n",
       "    </tr>\n",
       "    <tr>\n",
       "      <th>1</th>\n",
       "      <td>104</td>\n",
       "      <td>1</td>\n",
       "      <td>1</td>\n",
       "      <td>104</td>\n",
       "      <td>26</td>\n",
       "      <td>Yeah, I think it's kind of bizarre, uh, in lik...</td>\n",
       "    </tr>\n",
       "    <tr>\n",
       "      <th>2</th>\n",
       "      <td>104</td>\n",
       "      <td>1</td>\n",
       "      <td>1</td>\n",
       "      <td>4</td>\n",
       "      <td>55</td>\n",
       "      <td>I agree. I think that you also give up a lot o...</td>\n",
       "    </tr>\n",
       "    <tr>\n",
       "      <th>3</th>\n",
       "      <td>104</td>\n",
       "      <td>1</td>\n",
       "      <td>1</td>\n",
       "      <td>104</td>\n",
       "      <td>83</td>\n",
       "      <td>Yeah, when you look at the examples like, Prin...</td>\n",
       "    </tr>\n",
       "    <tr>\n",
       "      <th>4</th>\n",
       "      <td>104</td>\n",
       "      <td>1</td>\n",
       "      <td>1</td>\n",
       "      <td>4</td>\n",
       "      <td>117</td>\n",
       "      <td>Um...actually couldn't hear you that well, but...</td>\n",
       "    </tr>\n",
       "  </tbody>\n",
       "</table>\n",
       "</div>"
      ],
      "text/plain": [
       "   conv  run  trial  speaker  onset  \\\n",
       "0   104    1      1        4      3   \n",
       "1   104    1      1      104     26   \n",
       "2   104    1      1        4     55   \n",
       "3   104    1      1      104     83   \n",
       "4   104    1      1        4    117   \n",
       "\n",
       "                                                text  \n",
       "0  Um, I would not want to be famous in any capac...  \n",
       "1  Yeah, I think it's kind of bizarre, uh, in lik...  \n",
       "2  I agree. I think that you also give up a lot o...  \n",
       "3  Yeah, when you look at the examples like, Prin...  \n",
       "4  Um...actually couldn't hear you that well, but...  "
      ]
     },
     "execution_count": 27,
     "metadata": {},
     "output_type": "execute_result"
    }
   ],
   "source": [
    "transpath = Path(root=\"stimuli\", datatype=\"transcript\", suffix=\"utterance\", ext=\".csv\")\n",
    "files = glob(transpath.starstr([\"conv\", \"datatype\"]))\n",
    "print(len(files))\n",
    "\n",
    "dfs = []\n",
    "for filename in files:\n",
    "    filepath = Path.frompath(filename)\n",
    "    if filepath['conv'] in CONVS_STRANGERS:\n",
    "        df = pd.read_csv(filename)\n",
    "        df.insert(0, \"trial\", filepath[\"trial\"])\n",
    "        df.insert(0, \"run\", filepath[\"run\"])\n",
    "        df.insert(0, \"conv\", filepath[\"conv\"])\n",
    "        dfs.append(df)\n",
    "df = pd.concat(dfs)\n",
    "df.sort_values([\"conv\", \"run\", \"trial\", \"onset\"], inplace=True)\n",
    "df.reset_index(drop=True, inplace=True)\n",
    "\n",
    "df['textlen'] = df.text.apply(len)\n",
    "\n",
    "print(len(df))\n",
    "df.head()"
   ]
  },
  {
   "cell_type": "code",
   "execution_count": 43,
   "metadata": {},
   "outputs": [
    {
     "data": {
      "text/plain": [
       "conv  run  trial\n",
       "104   1    1        2215\n",
       "           4        2607\n",
       "      2    6        2435\n",
       "           7        2631\n",
       "      3    10       2540\n",
       "                    ... \n",
       "174   3    12       2465\n",
       "      4    13       2678\n",
       "           15       2456\n",
       "      5    18       2583\n",
       "           20       2554\n",
       "Name: textlen, Length: 290, dtype: int64"
      ]
     },
     "execution_count": 43,
     "metadata": {},
     "output_type": "execute_result"
    }
   ],
   "source": [
    "dfl = df.groupby(['conv', 'run', 'trial']).textlen.sum()\n",
    "dfl"
   ]
  },
  {
   "cell_type": "code",
   "execution_count": 55,
   "metadata": {},
   "outputs": [
    {
     "data": {
      "text/plain": [
       "conv  run  trial\n",
       "104   1    1        6\n",
       "           4        4\n",
       "      2    6        9\n",
       "           7        6\n",
       "      3    10       6\n",
       "                   ..\n",
       "174   3    12       2\n",
       "      4    13       2\n",
       "           15       2\n",
       "      5    18       2\n",
       "           20       2\n",
       "Name: speaker, Length: 290, dtype: int64"
      ]
     },
     "execution_count": 55,
     "metadata": {},
     "output_type": "execute_result"
    }
   ],
   "source": [
    "df2 = reduce_consecutive(df, on='speaker')\n",
    "dfc = df2.groupby(['conv', 'run', 'trial']).speaker.count()\n",
    "dfc"
   ]
  },
  {
   "cell_type": "code",
   "execution_count": 62,
   "metadata": {},
   "outputs": [
    {
     "data": {
      "text/plain": [
       "conv  run  trial\n",
       "104   1    1        6\n",
       "           4        4\n",
       "      2    6        9\n",
       "           7        6\n",
       "      3    10       6\n",
       "                   ..\n",
       "174   3    12       2\n",
       "      4    13       2\n",
       "           15       2\n",
       "      5    18       2\n",
       "           20       2\n",
       "Name: onset, Length: 290, dtype: int64"
      ]
     },
     "execution_count": 62,
     "metadata": {},
     "output_type": "execute_result"
    }
   ],
   "source": [
    "df2.groupby(['conv', 'run', 'trial']).onset.count()"
   ]
  },
  {
   "cell_type": "code",
   "execution_count": 57,
   "metadata": {},
   "outputs": [
    {
     "data": {
      "text/plain": [
       "0        NaN\n",
       "1       23.0\n",
       "2       29.0\n",
       "3       28.0\n",
       "4       34.0\n",
       "        ... \n",
       "1408    59.0\n",
       "1409   -57.0\n",
       "1410    88.0\n",
       "1411   -72.0\n",
       "1412    92.0\n",
       "Name: onset, Length: 1413, dtype: float64"
      ]
     },
     "execution_count": 57,
     "metadata": {},
     "output_type": "execute_result"
    }
   ],
   "source": [
    "df2.onset.diff()"
   ]
  },
  {
   "cell_type": "code",
   "execution_count": 48,
   "metadata": {},
   "outputs": [
    {
     "data": {
      "text/html": [
       "<div>\n",
       "<style scoped>\n",
       "    .dataframe tbody tr th:only-of-type {\n",
       "        vertical-align: middle;\n",
       "    }\n",
       "\n",
       "    .dataframe tbody tr th {\n",
       "        vertical-align: top;\n",
       "    }\n",
       "\n",
       "    .dataframe thead th {\n",
       "        text-align: right;\n",
       "    }\n",
       "</style>\n",
       "<table border=\"1\" class=\"dataframe\">\n",
       "  <thead>\n",
       "    <tr style=\"text-align: right;\">\n",
       "      <th></th>\n",
       "      <th></th>\n",
       "      <th></th>\n",
       "      <th>textlen</th>\n",
       "      <th>speaker</th>\n",
       "    </tr>\n",
       "    <tr>\n",
       "      <th>conv</th>\n",
       "      <th>run</th>\n",
       "      <th>trial</th>\n",
       "      <th></th>\n",
       "      <th></th>\n",
       "    </tr>\n",
       "  </thead>\n",
       "  <tbody>\n",
       "    <tr>\n",
       "      <th rowspan=\"5\" valign=\"top\">104</th>\n",
       "      <th rowspan=\"2\" valign=\"top\">1</th>\n",
       "      <th>1</th>\n",
       "      <td>2215</td>\n",
       "      <td>6</td>\n",
       "    </tr>\n",
       "    <tr>\n",
       "      <th>4</th>\n",
       "      <td>2607</td>\n",
       "      <td>4</td>\n",
       "    </tr>\n",
       "    <tr>\n",
       "      <th rowspan=\"2\" valign=\"top\">2</th>\n",
       "      <th>6</th>\n",
       "      <td>2435</td>\n",
       "      <td>9</td>\n",
       "    </tr>\n",
       "    <tr>\n",
       "      <th>7</th>\n",
       "      <td>2631</td>\n",
       "      <td>6</td>\n",
       "    </tr>\n",
       "    <tr>\n",
       "      <th>3</th>\n",
       "      <th>10</th>\n",
       "      <td>2540</td>\n",
       "      <td>6</td>\n",
       "    </tr>\n",
       "    <tr>\n",
       "      <th>...</th>\n",
       "      <th>...</th>\n",
       "      <th>...</th>\n",
       "      <td>...</td>\n",
       "      <td>...</td>\n",
       "    </tr>\n",
       "    <tr>\n",
       "      <th rowspan=\"5\" valign=\"top\">174</th>\n",
       "      <th>3</th>\n",
       "      <th>12</th>\n",
       "      <td>2465</td>\n",
       "      <td>2</td>\n",
       "    </tr>\n",
       "    <tr>\n",
       "      <th rowspan=\"2\" valign=\"top\">4</th>\n",
       "      <th>13</th>\n",
       "      <td>2678</td>\n",
       "      <td>2</td>\n",
       "    </tr>\n",
       "    <tr>\n",
       "      <th>15</th>\n",
       "      <td>2456</td>\n",
       "      <td>2</td>\n",
       "    </tr>\n",
       "    <tr>\n",
       "      <th rowspan=\"2\" valign=\"top\">5</th>\n",
       "      <th>18</th>\n",
       "      <td>2583</td>\n",
       "      <td>2</td>\n",
       "    </tr>\n",
       "    <tr>\n",
       "      <th>20</th>\n",
       "      <td>2554</td>\n",
       "      <td>2</td>\n",
       "    </tr>\n",
       "  </tbody>\n",
       "</table>\n",
       "<p>290 rows × 2 columns</p>\n",
       "</div>"
      ],
      "text/plain": [
       "                textlen  speaker\n",
       "conv run trial                  \n",
       "104  1   1         2215        6\n",
       "         4         2607        4\n",
       "     2   6         2435        9\n",
       "         7         2631        6\n",
       "     3   10        2540        6\n",
       "...                 ...      ...\n",
       "174  3   12        2465        2\n",
       "     4   13        2678        2\n",
       "         15        2456        2\n",
       "     5   18        2583        2\n",
       "         20        2554        2\n",
       "\n",
       "[290 rows x 2 columns]"
      ]
     },
     "execution_count": 48,
     "metadata": {},
     "output_type": "execute_result"
    }
   ],
   "source": [
    "df2 = pd.concat((dfl, dfc), axis=1)\n",
    "df2"
   ]
  },
  {
   "cell_type": "code",
   "execution_count": 54,
   "metadata": {},
   "outputs": [
    {
     "data": {
      "text/plain": [
       "<Axes: xlabel='speaker', ylabel='textlen'>"
      ]
     },
     "execution_count": 54,
     "metadata": {},
     "output_type": "execute_result"
    },
    {
     "data": {
      "image/png": "[encoded data removed]",
      "text/plain": [
       "<Figure size 640x480 with 1 Axes>"
      ]
     },
     "metadata": {},
     "output_type": "display_data"
    }
   ],
   "source": [
    "df2.plot.scatter('speaker', 'textlen')"
   ]
  },
  {
   "cell_type": "code",
   "execution_count": 30,
   "metadata": {},
   "outputs": [
    {
     "data": {
      "image/png": "[encoded data removed]",
      "text/plain": [
       "<Figure size 640x480 with 1 Axes>"
      ]
     },
     "metadata": {},
     "output_type": "display_data"
    }
   ],
   "source": [
    "plt.hist(df2.groupby(['conv', 'run', 'trial']).speaker.count().values, bins=20);"
   ]
  },
  {
   "cell_type": "markdown",
   "metadata": {},
   "source": [
    "# surprising utterances\n",
    "\n",
    "do these relate to enjoyment more?"
   ]
  },
  {
   "cell_type": "code",
   "execution_count": null,
   "metadata": {},
   "outputs": [],
   "source": []
  }
 ],
 "metadata": {
  "kernelspec": {
   "display_name": "fconv",
   "language": "python",
   "name": "python3"
  },
  "language_info": {
   "codemirror_mode": {
    "name": "ipython",
    "version": 3
   },
   "file_extension": ".py",
   "mimetype": "text/x-python",
   "name": "python",
   "nbconvert_exporter": "python",
   "pygments_lexer": "ipython3",
   "version": "3.11.5"
  }
 },
 "nbformat": 4,
 "nbformat_minor": 2
}
