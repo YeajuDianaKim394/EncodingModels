{
 "cells": [
  {
   "cell_type": "code",
   "execution_count": 5,
   "metadata": {},
   "outputs": [
    {
     "name": "stdout",
     "output_type": "stream",
     "text": [
      "/mnt/cup/labs/hasson/zaid/fmri-convs\n"
     ]
    }
   ],
   "source": [
    "%cd .."
   ]
  },
  {
   "cell_type": "code",
   "execution_count": 1,
   "metadata": {},
   "outputs": [],
   "source": [
    "import pandas as pd\n",
    "from util.path import Path\n",
    "from glob import glob\n",
    "\n",
    "from constants import CONVS_STRANGERS"
   ]
  },
  {
   "attachments": {},
   "cell_type": "markdown",
   "metadata": {},
   "source": [
    "# Utterance transcripts\n",
    "\n",
    "verify that we have all transcripts ready to process"
   ]
  },
  {
   "cell_type": "code",
   "execution_count": 69,
   "metadata": {},
   "outputs": [
    {
     "data": {
      "text/plain": [
       "555"
      ]
     },
     "execution_count": 69,
     "metadata": {},
     "output_type": "execute_result"
    }
   ],
   "source": [
    "transpath = Path(root='stimuli', datatype='transcript', suffix='utterance', ext='.csv')\n",
    "files = glob(transpath.starstr(['conv', 'datatype']))\n",
    "len(files)"
   ]
  },
  {
   "cell_type": "code",
   "execution_count": 70,
   "metadata": {},
   "outputs": [
    {
     "name": "stdout",
     "output_type": "stream",
     "text": [
      "4114\n"
     ]
    },
    {
     "data": {
      "text/html": [
       "<div>\n",
       "<style scoped>\n",
       "    .dataframe tbody tr th:only-of-type {\n",
       "        vertical-align: middle;\n",
       "    }\n",
       "\n",
       "    .dataframe tbody tr th {\n",
       "        vertical-align: top;\n",
       "    }\n",
       "\n",
       "    .dataframe thead th {\n",
       "        text-align: right;\n",
       "    }\n",
       "</style>\n",
       "<table border=\"1\" class=\"dataframe\">\n",
       "  <thead>\n",
       "    <tr style=\"text-align: right;\">\n",
       "      <th></th>\n",
       "      <th>conv</th>\n",
       "      <th>run</th>\n",
       "      <th>trial</th>\n",
       "      <th>speaker</th>\n",
       "      <th>onset</th>\n",
       "      <th>text</th>\n",
       "    </tr>\n",
       "  </thead>\n",
       "  <tbody>\n",
       "    <tr>\n",
       "      <th>0</th>\n",
       "      <td>101</td>\n",
       "      <td>1</td>\n",
       "      <td>1</td>\n",
       "      <td>Speaker 2</td>\n",
       "      <td>4</td>\n",
       "      <td>Hi. Um, so given the choice of anyone in the w...</td>\n",
       "    </tr>\n",
       "    <tr>\n",
       "      <th>1</th>\n",
       "      <td>101</td>\n",
       "      <td>1</td>\n",
       "      <td>1</td>\n",
       "      <td>Speaker 1</td>\n",
       "      <td>59</td>\n",
       "      <td>I guess I'm not going to live up to his conver...</td>\n",
       "    </tr>\n",
       "    <tr>\n",
       "      <th>2</th>\n",
       "      <td>101</td>\n",
       "      <td>1</td>\n",
       "      <td>1</td>\n",
       "      <td>Speaker 2</td>\n",
       "      <td>119</td>\n",
       "      <td>Um, so, sorry about that, first of all, and so...</td>\n",
       "    </tr>\n",
       "    <tr>\n",
       "      <th>3</th>\n",
       "      <td>101</td>\n",
       "      <td>1</td>\n",
       "      <td>3</td>\n",
       "      <td>Speaker 1</td>\n",
       "      <td>2</td>\n",
       "      <td>Uh, so when I'm gonna make a telephone call, I...</td>\n",
       "    </tr>\n",
       "    <tr>\n",
       "      <th>4</th>\n",
       "      <td>101</td>\n",
       "      <td>1</td>\n",
       "      <td>3</td>\n",
       "      <td>Speaker 2</td>\n",
       "      <td>38</td>\n",
       "      <td>That makes sense. Um, for me, because I'm kind...</td>\n",
       "    </tr>\n",
       "  </tbody>\n",
       "</table>\n",
       "</div>"
      ],
      "text/plain": [
       "   conv  run  trial    speaker  onset   \n",
       "0   101    1      1  Speaker 2      4  \\\n",
       "1   101    1      1  Speaker 1     59   \n",
       "2   101    1      1  Speaker 2    119   \n",
       "3   101    1      3  Speaker 1      2   \n",
       "4   101    1      3  Speaker 2     38   \n",
       "\n",
       "                                                text  \n",
       "0  Hi. Um, so given the choice of anyone in the w...  \n",
       "1  I guess I'm not going to live up to his conver...  \n",
       "2  Um, so, sorry about that, first of all, and so...  \n",
       "3  Uh, so when I'm gonna make a telephone call, I...  \n",
       "4  That makes sense. Um, for me, because I'm kind...  "
      ]
     },
     "execution_count": 70,
     "metadata": {},
     "output_type": "execute_result"
    }
   ],
   "source": [
    "dfs = []\n",
    "for filename in files:\n",
    "    df = pd.read_csv(filename)\n",
    "    filepath = Path.frompath(filename)\n",
    "    df.insert(0, 'trial', filepath['trial'])\n",
    "    df.insert(0, 'run', filepath['run'])\n",
    "    df.insert(0, 'conv', filepath['conv'])\n",
    "    dfs.append(df)\n",
    "df = pd.concat(dfs)\n",
    "df.sort_values(['conv', 'run', 'trial', 'onset'], inplace=True)\n",
    "df.reset_index(drop=True, inplace=True)\n",
    "\n",
    "print(len(df))\n",
    "df.head()"
   ]
  },
  {
   "cell_type": "code",
   "execution_count": 71,
   "metadata": {},
   "outputs": [
    {
     "data": {
      "text/plain": [
       "{119}"
      ]
     },
     "execution_count": 71,
     "metadata": {},
     "output_type": "execute_result"
    }
   ],
   "source": [
    "# what conversations are missing?\n",
    "set(CONVS_STRANGERS) - set(df.conv.unique().tolist())"
   ]
  },
  {
   "attachments": {},
   "cell_type": "markdown",
   "metadata": {},
   "source": [
    "* conv-108 \n",
    "* conv-111\n",
    "* conv-116\n",
    "* conv-117\n",
    "* conv-119 conv-scan missing sub 109\n",
    "* conv-122\n",
    "* conv-129\n",
    "* conv-138\n",
    "* conv-143\n",
    "\n",
    "don't really know why these are missing. all bu 119 have usuable scans, some have incomplete field maps"
   ]
  },
  {
   "cell_type": "code",
   "execution_count": 72,
   "metadata": {},
   "outputs": [
    {
     "data": {
      "text/plain": [
       "conv\n",
       "143    11\n",
       "168     6\n",
       "171     8\n",
       "Name: trial, dtype: int64"
      ]
     },
     "execution_count": 72,
     "metadata": {},
     "output_type": "execute_result"
    }
   ],
   "source": [
    "# which conversations are missing transcripts?\n",
    "# conv-168 is missing runs 4 and 5\n",
    "# conv-171 is missing 1 run\n",
    "\n",
    "dfc = df[['conv', 'run', 'trial']].drop_duplicates().reset_index(drop=True)\n",
    "dft = dfc.groupby('conv').trial.count()\n",
    "dft[dft.values != 10]"
   ]
  },
  {
   "attachments": {},
   "cell_type": "markdown",
   "metadata": {},
   "source": [
    "# Word-level transcripts\n",
    "\n",
    "check out the processed transcripts"
   ]
  },
  {
   "cell_type": "code",
   "execution_count": 73,
   "metadata": {},
   "outputs": [
    {
     "data": {
      "text/plain": [
       "309"
      ]
     },
     "execution_count": 73,
     "metadata": {},
     "output_type": "execute_result"
    }
   ],
   "source": [
    "transpath = Path(root='stimuli', datatype='transcript', suffix='word', ext='.csv')\n",
    "files = glob(transpath.starstr(['conv', 'datatype']))\n",
    "len(files)"
   ]
  },
  {
   "cell_type": "code",
   "execution_count": 74,
   "metadata": {},
   "outputs": [
    {
     "name": "stdout",
     "output_type": "stream",
     "text": [
      "185312\n"
     ]
    },
    {
     "data": {
      "text/html": [
       "<div>\n",
       "<style scoped>\n",
       "    .dataframe tbody tr th:only-of-type {\n",
       "        vertical-align: middle;\n",
       "    }\n",
       "\n",
       "    .dataframe tbody tr th {\n",
       "        vertical-align: top;\n",
       "    }\n",
       "\n",
       "    .dataframe thead th {\n",
       "        text-align: right;\n",
       "    }\n",
       "</style>\n",
       "<table border=\"1\" class=\"dataframe\">\n",
       "  <thead>\n",
       "    <tr style=\"text-align: right;\">\n",
       "      <th></th>\n",
       "      <th>conv</th>\n",
       "      <th>run</th>\n",
       "      <th>trial</th>\n",
       "      <th>turn</th>\n",
       "      <th>utterance</th>\n",
       "      <th>speaker</th>\n",
       "      <th>onset</th>\n",
       "      <th>offset</th>\n",
       "      <th>sentence_id</th>\n",
       "      <th>is_punct</th>\n",
       "      <th>token</th>\n",
       "      <th>token_norm</th>\n",
       "    </tr>\n",
       "  </thead>\n",
       "  <tbody>\n",
       "    <tr>\n",
       "      <th>0</th>\n",
       "      <td>101</td>\n",
       "      <td>1</td>\n",
       "      <td>1</td>\n",
       "      <td>0</td>\n",
       "      <td>0</td>\n",
       "      <td>1</td>\n",
       "      <td>4</td>\n",
       "      <td>59.0</td>\n",
       "      <td>0.0</td>\n",
       "      <td>False</td>\n",
       "      <td>Hi</td>\n",
       "      <td>hi</td>\n",
       "    </tr>\n",
       "    <tr>\n",
       "      <th>1</th>\n",
       "      <td>101</td>\n",
       "      <td>1</td>\n",
       "      <td>1</td>\n",
       "      <td>0</td>\n",
       "      <td>0</td>\n",
       "      <td>1</td>\n",
       "      <td>4</td>\n",
       "      <td>59.0</td>\n",
       "      <td>0.0</td>\n",
       "      <td>True</td>\n",
       "      <td>.</td>\n",
       "      <td>NaN</td>\n",
       "    </tr>\n",
       "    <tr>\n",
       "      <th>2</th>\n",
       "      <td>101</td>\n",
       "      <td>1</td>\n",
       "      <td>1</td>\n",
       "      <td>0</td>\n",
       "      <td>0</td>\n",
       "      <td>1</td>\n",
       "      <td>4</td>\n",
       "      <td>59.0</td>\n",
       "      <td>1.0</td>\n",
       "      <td>False</td>\n",
       "      <td>Um</td>\n",
       "      <td>um</td>\n",
       "    </tr>\n",
       "    <tr>\n",
       "      <th>3</th>\n",
       "      <td>101</td>\n",
       "      <td>1</td>\n",
       "      <td>1</td>\n",
       "      <td>0</td>\n",
       "      <td>0</td>\n",
       "      <td>1</td>\n",
       "      <td>4</td>\n",
       "      <td>59.0</td>\n",
       "      <td>1.0</td>\n",
       "      <td>True</td>\n",
       "      <td>,</td>\n",
       "      <td>NaN</td>\n",
       "    </tr>\n",
       "    <tr>\n",
       "      <th>4</th>\n",
       "      <td>101</td>\n",
       "      <td>1</td>\n",
       "      <td>1</td>\n",
       "      <td>0</td>\n",
       "      <td>0</td>\n",
       "      <td>1</td>\n",
       "      <td>4</td>\n",
       "      <td>59.0</td>\n",
       "      <td>1.0</td>\n",
       "      <td>False</td>\n",
       "      <td>so</td>\n",
       "      <td>so</td>\n",
       "    </tr>\n",
       "  </tbody>\n",
       "</table>\n",
       "</div>"
      ],
      "text/plain": [
       "   conv  run  trial  turn  utterance  speaker  onset  offset  sentence_id   \n",
       "0   101    1      1     0          0        1      4    59.0          0.0  \\\n",
       "1   101    1      1     0          0        1      4    59.0          0.0   \n",
       "2   101    1      1     0          0        1      4    59.0          1.0   \n",
       "3   101    1      1     0          0        1      4    59.0          1.0   \n",
       "4   101    1      1     0          0        1      4    59.0          1.0   \n",
       "\n",
       "   is_punct token token_norm  \n",
       "0     False    Hi         hi  \n",
       "1      True    .         NaN  \n",
       "2     False    Um         um  \n",
       "3      True    ,         NaN  \n",
       "4     False   so          so  "
      ]
     },
     "execution_count": 74,
     "metadata": {},
     "output_type": "execute_result"
    }
   ],
   "source": [
    "dfs = []\n",
    "for filename in files:\n",
    "    df = pd.read_csv(filename)\n",
    "    filepath = Path.frompath(filename)\n",
    "    df.insert(0, 'trial', filepath['trial'])\n",
    "    df.insert(0, 'run', filepath['run'])\n",
    "    df.insert(0, 'conv', filepath['conv'])\n",
    "    dfs.append(df)\n",
    "df = pd.concat(dfs)\n",
    "df.sort_values(['conv', 'run', 'trial', 'onset'], inplace=True)\n",
    "df.reset_index(drop=True, inplace=True)\n",
    "\n",
    "print(len(df))\n",
    "df.head()"
   ]
  },
  {
   "cell_type": "code",
   "execution_count": 75,
   "metadata": {},
   "outputs": [
    {
     "data": {
      "text/plain": [
       "{119}"
      ]
     },
     "execution_count": 75,
     "metadata": {},
     "output_type": "execute_result"
    }
   ],
   "source": [
    "# what conversations are missing?\n",
    "set(CONVS_STRANGERS) - set(df.conv.unique().tolist())"
   ]
  },
  {
   "cell_type": "code",
   "execution_count": 76,
   "metadata": {},
   "outputs": [
    {
     "data": {
      "text/plain": [
       "conv\n",
       "143    11\n",
       "171     8\n",
       "Name: trial, dtype: int64"
      ]
     },
     "execution_count": 76,
     "metadata": {},
     "output_type": "execute_result"
    }
   ],
   "source": [
    "# Which trials are missing?\n",
    "dfc = df[['conv', 'run', 'trial']].drop_duplicates().reset_index(drop=True)\n",
    "dft = dfc.groupby('conv').trial.count()\n",
    "dft[dft.values != 10]"
   ]
  },
  {
   "attachments": {},
   "cell_type": "markdown",
   "metadata": {},
   "source": [
    "## Aligned transcripts"
   ]
  },
  {
   "attachments": {},
   "cell_type": "markdown",
   "metadata": {},
   "source": [
    "first, check MFA's TextGrids"
   ]
  },
  {
   "cell_type": "code",
   "execution_count": 77,
   "metadata": {},
   "outputs": [
    {
     "data": {
      "text/plain": [
       "15"
      ]
     },
     "execution_count": 77,
     "metadata": {},
     "output_type": "execute_result"
    }
   ],
   "source": [
    "transpath = Path(root='stimuli', datatype='aligned', ext='.TextGrid')\n",
    "files = glob(transpath.starstr(['conv', 'datatype']))\n",
    "len(files)"
   ]
  },
  {
   "cell_type": "code",
   "execution_count": 85,
   "metadata": {},
   "outputs": [
    {
     "data": {
      "text/html": [
       "<div>\n",
       "<style scoped>\n",
       "    .dataframe tbody tr th:only-of-type {\n",
       "        vertical-align: middle;\n",
       "    }\n",
       "\n",
       "    .dataframe tbody tr th {\n",
       "        vertical-align: top;\n",
       "    }\n",
       "\n",
       "    .dataframe thead th {\n",
       "        text-align: right;\n",
       "    }\n",
       "</style>\n",
       "<table border=\"1\" class=\"dataframe\">\n",
       "  <thead>\n",
       "    <tr style=\"text-align: right;\">\n",
       "      <th></th>\n",
       "      <th>conv</th>\n",
       "      <th>run</th>\n",
       "      <th>trial</th>\n",
       "    </tr>\n",
       "  </thead>\n",
       "  <tbody>\n",
       "    <tr>\n",
       "      <th>0</th>\n",
       "      <td>101</td>\n",
       "      <td>1</td>\n",
       "      <td>1</td>\n",
       "    </tr>\n",
       "    <tr>\n",
       "      <th>1</th>\n",
       "      <td>101</td>\n",
       "      <td>1</td>\n",
       "      <td>3</td>\n",
       "    </tr>\n",
       "    <tr>\n",
       "      <th>2</th>\n",
       "      <td>101</td>\n",
       "      <td>2</td>\n",
       "      <td>6</td>\n",
       "    </tr>\n",
       "    <tr>\n",
       "      <th>3</th>\n",
       "      <td>101</td>\n",
       "      <td>2</td>\n",
       "      <td>8</td>\n",
       "    </tr>\n",
       "    <tr>\n",
       "      <th>4</th>\n",
       "      <td>101</td>\n",
       "      <td>3</td>\n",
       "      <td>10</td>\n",
       "    </tr>\n",
       "    <tr>\n",
       "      <th>5</th>\n",
       "      <td>101</td>\n",
       "      <td>3</td>\n",
       "      <td>11</td>\n",
       "    </tr>\n",
       "    <tr>\n",
       "      <th>6</th>\n",
       "      <td>101</td>\n",
       "      <td>4</td>\n",
       "      <td>13</td>\n",
       "    </tr>\n",
       "    <tr>\n",
       "      <th>7</th>\n",
       "      <td>101</td>\n",
       "      <td>4</td>\n",
       "      <td>16</td>\n",
       "    </tr>\n",
       "    <tr>\n",
       "      <th>8</th>\n",
       "      <td>101</td>\n",
       "      <td>5</td>\n",
       "      <td>18</td>\n",
       "    </tr>\n",
       "    <tr>\n",
       "      <th>9</th>\n",
       "      <td>101</td>\n",
       "      <td>5</td>\n",
       "      <td>19</td>\n",
       "    </tr>\n",
       "    <tr>\n",
       "      <th>10</th>\n",
       "      <td>104</td>\n",
       "      <td>1</td>\n",
       "      <td>1</td>\n",
       "    </tr>\n",
       "    <tr>\n",
       "      <th>11</th>\n",
       "      <td>104</td>\n",
       "      <td>1</td>\n",
       "      <td>4</td>\n",
       "    </tr>\n",
       "    <tr>\n",
       "      <th>12</th>\n",
       "      <td>104</td>\n",
       "      <td>2</td>\n",
       "      <td>6</td>\n",
       "    </tr>\n",
       "    <tr>\n",
       "      <th>13</th>\n",
       "      <td>104</td>\n",
       "      <td>2</td>\n",
       "      <td>7</td>\n",
       "    </tr>\n",
       "    <tr>\n",
       "      <th>14</th>\n",
       "      <td>104</td>\n",
       "      <td>3</td>\n",
       "      <td>10</td>\n",
       "    </tr>\n",
       "  </tbody>\n",
       "</table>\n",
       "</div>"
      ],
      "text/plain": [
       "    conv  run  trial\n",
       "0    101    1      1\n",
       "1    101    1      3\n",
       "2    101    2      6\n",
       "3    101    2      8\n",
       "4    101    3     10\n",
       "5    101    3     11\n",
       "6    101    4     13\n",
       "7    101    4     16\n",
       "8    101    5     18\n",
       "9    101    5     19\n",
       "10   104    1      1\n",
       "11   104    1      4\n",
       "12   104    2      6\n",
       "13   104    2      7\n",
       "14   104    3     10"
      ]
     },
     "execution_count": 85,
     "metadata": {},
     "output_type": "execute_result"
    }
   ],
   "source": [
    "records = []\n",
    "for file in files:\n",
    "    path = Path.frompath(file)\n",
    "    records.append([path['conv'], path['run'], path['trial']])\n",
    "df = pd.DataFrame(records, columns=['conv', 'run', 'trial'])\n",
    "df.sort_values(['conv', 'run', 'trial'], inplace=True)\n",
    "df.reset_index(drop=True, inplace=True)\n",
    "df"
   ]
  },
  {
   "attachments": {},
   "cell_type": "markdown",
   "metadata": {},
   "source": [
    "now check if merging worked"
   ]
  },
  {
   "cell_type": "code",
   "execution_count": 3,
   "metadata": {},
   "outputs": [
    {
     "data": {
      "text/plain": [
       "202"
      ]
     },
     "execution_count": 3,
     "metadata": {},
     "output_type": "execute_result"
    }
   ],
   "source": [
    "transpath = Path(root='stimuli', datatype='transcript', suffix='transcript', ext='.csv')\n",
    "files = glob(transpath.starstr(['conv', 'datatype']))\n",
    "len(files)"
   ]
  },
  {
   "cell_type": "code",
   "execution_count": 4,
   "metadata": {},
   "outputs": [
    {
     "name": "stdout",
     "output_type": "stream",
     "text": [
      "98691\n"
     ]
    },
    {
     "data": {
      "text/html": [
       "<div>\n",
       "<style scoped>\n",
       "    .dataframe tbody tr th:only-of-type {\n",
       "        vertical-align: middle;\n",
       "    }\n",
       "\n",
       "    .dataframe tbody tr th {\n",
       "        vertical-align: top;\n",
       "    }\n",
       "\n",
       "    .dataframe thead th {\n",
       "        text-align: right;\n",
       "    }\n",
       "</style>\n",
       "<table border=\"1\" class=\"dataframe\">\n",
       "  <thead>\n",
       "    <tr style=\"text-align: right;\">\n",
       "      <th></th>\n",
       "      <th>conv</th>\n",
       "      <th>run</th>\n",
       "      <th>trial</th>\n",
       "      <th>speaker</th>\n",
       "      <th>turn</th>\n",
       "      <th>utterance</th>\n",
       "      <th>sentence_id</th>\n",
       "      <th>token</th>\n",
       "      <th>token_norm</th>\n",
       "      <th>onset</th>\n",
       "      <th>offset</th>\n",
       "    </tr>\n",
       "  </thead>\n",
       "  <tbody>\n",
       "    <tr>\n",
       "      <th>0</th>\n",
       "      <td>101</td>\n",
       "      <td>1</td>\n",
       "      <td>1</td>\n",
       "      <td>101</td>\n",
       "      <td>1</td>\n",
       "      <td>0</td>\n",
       "      <td>0.0</td>\n",
       "      <td>Hi</td>\n",
       "      <td>hi</td>\n",
       "      <td>4.00</td>\n",
       "      <td>4.34</td>\n",
       "    </tr>\n",
       "    <tr>\n",
       "      <th>1</th>\n",
       "      <td>101</td>\n",
       "      <td>1</td>\n",
       "      <td>1</td>\n",
       "      <td>101</td>\n",
       "      <td>1</td>\n",
       "      <td>0</td>\n",
       "      <td>1.0</td>\n",
       "      <td>Um</td>\n",
       "      <td>um</td>\n",
       "      <td>4.34</td>\n",
       "      <td>4.59</td>\n",
       "    </tr>\n",
       "    <tr>\n",
       "      <th>2</th>\n",
       "      <td>101</td>\n",
       "      <td>1</td>\n",
       "      <td>1</td>\n",
       "      <td>101</td>\n",
       "      <td>1</td>\n",
       "      <td>0</td>\n",
       "      <td>1.0</td>\n",
       "      <td>so</td>\n",
       "      <td>so</td>\n",
       "      <td>4.72</td>\n",
       "      <td>5.18</td>\n",
       "    </tr>\n",
       "    <tr>\n",
       "      <th>3</th>\n",
       "      <td>101</td>\n",
       "      <td>1</td>\n",
       "      <td>1</td>\n",
       "      <td>101</td>\n",
       "      <td>1</td>\n",
       "      <td>0</td>\n",
       "      <td>1.0</td>\n",
       "      <td>given</td>\n",
       "      <td>given</td>\n",
       "      <td>5.36</td>\n",
       "      <td>5.69</td>\n",
       "    </tr>\n",
       "    <tr>\n",
       "      <th>4</th>\n",
       "      <td>101</td>\n",
       "      <td>1</td>\n",
       "      <td>1</td>\n",
       "      <td>101</td>\n",
       "      <td>1</td>\n",
       "      <td>0</td>\n",
       "      <td>1.0</td>\n",
       "      <td>the</td>\n",
       "      <td>the</td>\n",
       "      <td>5.69</td>\n",
       "      <td>7.92</td>\n",
       "    </tr>\n",
       "  </tbody>\n",
       "</table>\n",
       "</div>"
      ],
      "text/plain": [
       "   conv  run  trial  speaker  turn  utterance  sentence_id   token token_norm   \n",
       "0   101    1      1      101     1          0          0.0      Hi         hi  \\\n",
       "1   101    1      1      101     1          0          1.0      Um         um   \n",
       "2   101    1      1      101     1          0          1.0     so          so   \n",
       "3   101    1      1      101     1          0          1.0  given       given   \n",
       "4   101    1      1      101     1          0          1.0    the         the   \n",
       "\n",
       "   onset  offset  \n",
       "0   4.00    4.34  \n",
       "1   4.34    4.59  \n",
       "2   4.72    5.18  \n",
       "3   5.36    5.69  \n",
       "4   5.69    7.92  "
      ]
     },
     "execution_count": 4,
     "metadata": {},
     "output_type": "execute_result"
    }
   ],
   "source": [
    "dfs = []\n",
    "for filename in files:\n",
    "    df = pd.read_csv(filename, index_col=0)\n",
    "    filepath = Path.frompath(filename)\n",
    "    df.insert(0, 'conv', filepath['conv'])\n",
    "    dfs.append(df)\n",
    "df = pd.concat(dfs)\n",
    "df.sort_values(['conv', 'run', 'trial', 'onset'], inplace=True)\n",
    "df.reset_index(drop=True, inplace=True)\n",
    "\n",
    "print(len(df))\n",
    "df.head()"
   ]
  },
  {
   "cell_type": "code",
   "execution_count": 10,
   "metadata": {},
   "outputs": [
    {
     "data": {
      "text/html": [
       "<div>\n",
       "<style scoped>\n",
       "    .dataframe tbody tr th:only-of-type {\n",
       "        vertical-align: middle;\n",
       "    }\n",
       "\n",
       "    .dataframe tbody tr th {\n",
       "        vertical-align: top;\n",
       "    }\n",
       "\n",
       "    .dataframe thead th {\n",
       "        text-align: right;\n",
       "    }\n",
       "</style>\n",
       "<table border=\"1\" class=\"dataframe\">\n",
       "  <thead>\n",
       "    <tr style=\"text-align: right;\">\n",
       "      <th></th>\n",
       "      <th>trial</th>\n",
       "    </tr>\n",
       "    <tr>\n",
       "      <th>conv</th>\n",
       "      <th></th>\n",
       "    </tr>\n",
       "  </thead>\n",
       "  <tbody>\n",
       "    <tr>\n",
       "      <th>101</th>\n",
       "      <td>10</td>\n",
       "    </tr>\n",
       "    <tr>\n",
       "      <th>104</th>\n",
       "      <td>10</td>\n",
       "    </tr>\n",
       "    <tr>\n",
       "      <th>105</th>\n",
       "      <td>10</td>\n",
       "    </tr>\n",
       "    <tr>\n",
       "      <th>106</th>\n",
       "      <td>10</td>\n",
       "    </tr>\n",
       "    <tr>\n",
       "      <th>107</th>\n",
       "      <td>10</td>\n",
       "    </tr>\n",
       "    <tr>\n",
       "      <th>112</th>\n",
       "      <td>10</td>\n",
       "    </tr>\n",
       "    <tr>\n",
       "      <th>114</th>\n",
       "      <td>10</td>\n",
       "    </tr>\n",
       "    <tr>\n",
       "      <th>120</th>\n",
       "      <td>10</td>\n",
       "    </tr>\n",
       "    <tr>\n",
       "      <th>123</th>\n",
       "      <td>10</td>\n",
       "    </tr>\n",
       "    <tr>\n",
       "      <th>126</th>\n",
       "      <td>10</td>\n",
       "    </tr>\n",
       "    <tr>\n",
       "      <th>128</th>\n",
       "      <td>9</td>\n",
       "    </tr>\n",
       "    <tr>\n",
       "      <th>131</th>\n",
       "      <td>8</td>\n",
       "    </tr>\n",
       "    <tr>\n",
       "      <th>132</th>\n",
       "      <td>2</td>\n",
       "    </tr>\n",
       "    <tr>\n",
       "      <th>133</th>\n",
       "      <td>9</td>\n",
       "    </tr>\n",
       "    <tr>\n",
       "      <th>137</th>\n",
       "      <td>5</td>\n",
       "    </tr>\n",
       "    <tr>\n",
       "      <th>142</th>\n",
       "      <td>7</td>\n",
       "    </tr>\n",
       "    <tr>\n",
       "      <th>153</th>\n",
       "      <td>9</td>\n",
       "    </tr>\n",
       "    <tr>\n",
       "      <th>156</th>\n",
       "      <td>6</td>\n",
       "    </tr>\n",
       "    <tr>\n",
       "      <th>157</th>\n",
       "      <td>10</td>\n",
       "    </tr>\n",
       "    <tr>\n",
       "      <th>158</th>\n",
       "      <td>6</td>\n",
       "    </tr>\n",
       "    <tr>\n",
       "      <th>163</th>\n",
       "      <td>8</td>\n",
       "    </tr>\n",
       "    <tr>\n",
       "      <th>171</th>\n",
       "      <td>7</td>\n",
       "    </tr>\n",
       "    <tr>\n",
       "      <th>173</th>\n",
       "      <td>9</td>\n",
       "    </tr>\n",
       "    <tr>\n",
       "      <th>174</th>\n",
       "      <td>7</td>\n",
       "    </tr>\n",
       "  </tbody>\n",
       "</table>\n",
       "</div>"
      ],
      "text/plain": [
       "      trial\n",
       "conv       \n",
       "101      10\n",
       "104      10\n",
       "105      10\n",
       "106      10\n",
       "107      10\n",
       "112      10\n",
       "114      10\n",
       "120      10\n",
       "123      10\n",
       "126      10\n",
       "128       9\n",
       "131       8\n",
       "132       2\n",
       "133       9\n",
       "137       5\n",
       "142       7\n",
       "153       9\n",
       "156       6\n",
       "157      10\n",
       "158       6\n",
       "163       8\n",
       "171       7\n",
       "173       9\n",
       "174       7"
      ]
     },
     "execution_count": 10,
     "metadata": {},
     "output_type": "execute_result"
    }
   ],
   "source": [
    "# which conversations are missing transcripts?\n",
    "tcount = df[['conv', 'trial']].drop_duplicates().groupby(['conv']).count()\n",
    "tcount"
   ]
  },
  {
   "cell_type": "code",
   "execution_count": 28,
   "metadata": {},
   "outputs": [
    {
     "data": {
      "text/plain": [
       "Index([101, 104, 105, 106, 107, 112, 114, 120, 123, 126, 157], dtype='int64', name='conv')"
      ]
     },
     "execution_count": 28,
     "metadata": {},
     "output_type": "execute_result"
    }
   ],
   "source": [
    "tcount[tcount['trial'] == 10].indexA"
   ]
  },
  {
   "cell_type": "code",
   "execution_count": 25,
   "metadata": {},
   "outputs": [
    {
     "data": {
      "text/html": [
       "<div>\n",
       "<style scoped>\n",
       "    .dataframe tbody tr th:only-of-type {\n",
       "        vertical-align: middle;\n",
       "    }\n",
       "\n",
       "    .dataframe tbody tr th {\n",
       "        vertical-align: top;\n",
       "    }\n",
       "\n",
       "    .dataframe thead th {\n",
       "        text-align: right;\n",
       "    }\n",
       "</style>\n",
       "<table border=\"1\" class=\"dataframe\">\n",
       "  <thead>\n",
       "    <tr style=\"text-align: right;\">\n",
       "      <th></th>\n",
       "      <th>conv</th>\n",
       "      <th>run</th>\n",
       "      <th>trial</th>\n",
       "    </tr>\n",
       "  </thead>\n",
       "  <tbody>\n",
       "    <tr>\n",
       "      <th>50517</th>\n",
       "      <td>128</td>\n",
       "      <td>1</td>\n",
       "      <td>1</td>\n",
       "    </tr>\n",
       "    <tr>\n",
       "      <th>50873</th>\n",
       "      <td>128</td>\n",
       "      <td>1</td>\n",
       "      <td>4</td>\n",
       "    </tr>\n",
       "    <tr>\n",
       "      <th>51312</th>\n",
       "      <td>128</td>\n",
       "      <td>2</td>\n",
       "      <td>8</td>\n",
       "    </tr>\n",
       "    <tr>\n",
       "      <th>51790</th>\n",
       "      <td>128</td>\n",
       "      <td>3</td>\n",
       "      <td>9</td>\n",
       "    </tr>\n",
       "    <tr>\n",
       "      <th>52233</th>\n",
       "      <td>128</td>\n",
       "      <td>3</td>\n",
       "      <td>11</td>\n",
       "    </tr>\n",
       "    <tr>\n",
       "      <th>...</th>\n",
       "      <td>...</td>\n",
       "      <td>...</td>\n",
       "      <td>...</td>\n",
       "    </tr>\n",
       "    <tr>\n",
       "      <th>96214</th>\n",
       "      <td>174</td>\n",
       "      <td>3</td>\n",
       "      <td>12</td>\n",
       "    </tr>\n",
       "    <tr>\n",
       "      <th>96677</th>\n",
       "      <td>174</td>\n",
       "      <td>4</td>\n",
       "      <td>13</td>\n",
       "    </tr>\n",
       "    <tr>\n",
       "      <th>97198</th>\n",
       "      <td>174</td>\n",
       "      <td>4</td>\n",
       "      <td>15</td>\n",
       "    </tr>\n",
       "    <tr>\n",
       "      <th>97683</th>\n",
       "      <td>174</td>\n",
       "      <td>5</td>\n",
       "      <td>18</td>\n",
       "    </tr>\n",
       "    <tr>\n",
       "      <th>98202</th>\n",
       "      <td>174</td>\n",
       "      <td>5</td>\n",
       "      <td>20</td>\n",
       "    </tr>\n",
       "  </tbody>\n",
       "</table>\n",
       "<p>92 rows × 3 columns</p>\n",
       "</div>"
      ],
      "text/plain": [
       "       conv  run  trial\n",
       "50517   128    1      1\n",
       "50873   128    1      4\n",
       "51312   128    2      8\n",
       "51790   128    3      9\n",
       "52233   128    3     11\n",
       "...     ...  ...    ...\n",
       "96214   174    3     12\n",
       "96677   174    4     13\n",
       "97198   174    4     15\n",
       "97683   174    5     18\n",
       "98202   174    5     20\n",
       "\n",
       "[92 rows x 3 columns]"
      ]
     },
     "execution_count": 25,
     "metadata": {},
     "output_type": "execute_result"
    }
   ],
   "source": [
    "# which trials are missing transcripts?\n",
    "tdf = df[['conv', 'run', 'trial']].drop_duplicates()\n",
    "tdf[tdf.conv.isin(tcount[(tcount['trial'] < 10)].index.values)]"
   ]
  },
  {
   "cell_type": "code",
   "execution_count": 6,
   "metadata": {},
   "outputs": [
    {
     "data": {
      "text/plain": [
       "count    191.000000\n",
       "mean     488.596859\n",
       "std       55.491866\n",
       "min      285.000000\n",
       "25%      462.500000\n",
       "50%      493.000000\n",
       "75%      521.500000\n",
       "max      665.000000\n",
       "Name: token, dtype: float64"
      ]
     },
     "execution_count": 6,
     "metadata": {},
     "output_type": "execute_result"
    }
   ],
   "source": [
    "# Number of words per trial\n",
    "df.groupby(['conv', 'run', 'trial']).token.count().describe()"
   ]
  },
  {
   "cell_type": "code",
   "execution_count": 7,
   "metadata": {},
   "outputs": [
    {
     "data": {
      "text/plain": [
       "count    382.000000\n",
       "mean     244.298429\n",
       "std       62.107222\n",
       "min       58.000000\n",
       "25%      205.000000\n",
       "50%      244.500000\n",
       "75%      280.000000\n",
       "max      469.000000\n",
       "Name: token, dtype: float64"
      ]
     },
     "execution_count": 7,
     "metadata": {},
     "output_type": "execute_result"
    }
   ],
   "source": [
    "# Number of words per trial per speaker (how short turns are between speakers)\n",
    "df.groupby(['conv', 'run', 'trial', 'speaker']).token.count().describe()"
   ]
  },
  {
   "cell_type": "code",
   "execution_count": 33,
   "metadata": {},
   "outputs": [
    {
     "data": {
      "text/plain": [
       "conv\n",
       "101    4958\n",
       "104    4351\n",
       "105    4546\n",
       "106    4734\n",
       "107    5456\n",
       "112    4544\n",
       "114    4721\n",
       "120    3945\n",
       "123    3596\n",
       "126    5291\n",
       "128    4003\n",
       "131    3154\n",
       "132     995\n",
       "133    3573\n",
       "137    2515\n",
       "142    3408\n",
       "153    4568\n",
       "156    3129\n",
       "157    4502\n",
       "158    2684\n",
       "163    3920\n",
       "171    3584\n",
       "173    3683\n",
       "174    3462\n",
       "Name: count, dtype: int64"
      ]
     },
     "execution_count": 33,
     "metadata": {},
     "output_type": "execute_result"
    }
   ],
   "source": [
    "# Number of words per conversations\n",
    "df.conv.value_counts(sort=False)"
   ]
  },
  {
   "cell_type": "code",
   "execution_count": 47,
   "metadata": {},
   "outputs": [
    {
     "data": {
      "text/plain": [
       "count      24.000000\n",
       "mean     3888.416667\n",
       "std       988.321674\n",
       "min       995.000000\n",
       "25%      3448.500000\n",
       "50%      3932.500000\n",
       "75%      4551.500000\n",
       "max      5456.000000\n",
       "Name: count, dtype: float64"
      ]
     },
     "execution_count": 47,
     "metadata": {},
     "output_type": "execute_result"
    }
   ],
   "source": [
    "df.conv.value_counts().describe()"
   ]
  },
  {
   "cell_type": "code",
   "execution_count": 42,
   "metadata": {},
   "outputs": [
    {
     "data": {
      "text/plain": [
       "conv\n",
       "101    5\n",
       "104    5\n",
       "105    5\n",
       "106    5\n",
       "107    5\n",
       "112    5\n",
       "114    5\n",
       "120    5\n",
       "123    5\n",
       "126    5\n",
       "128    5\n",
       "131    4\n",
       "132    2\n",
       "133    5\n",
       "137    4\n",
       "142    5\n",
       "153    5\n",
       "156    4\n",
       "157    5\n",
       "158    4\n",
       "163    5\n",
       "171    4\n",
       "173    5\n",
       "174    4\n",
       "Name: run, dtype: int64"
      ]
     },
     "execution_count": 42,
     "metadata": {},
     "output_type": "execute_result"
    }
   ],
   "source": [
    "# Runs per conversation\n",
    "# Should be 5 runs per conversation\n",
    "df[['conv', 'run']].drop_duplicates().reset_index(drop=True).groupby('conv').run.count()"
   ]
  },
  {
   "cell_type": "code",
   "execution_count": 7,
   "metadata": {},
   "outputs": [
    {
     "data": {
      "text/plain": [
       "conv\n",
       "101    10\n",
       "104     9\n",
       "105     9\n",
       "106    10\n",
       "107    10\n",
       "112     9\n",
       "114     9\n",
       "120     8\n",
       "123     8\n",
       "126     9\n",
       "128     9\n",
       "131     7\n",
       "132     2\n",
       "133     9\n",
       "137     5\n",
       "142     7\n",
       "153     9\n",
       "156     6\n",
       "157     9\n",
       "158     6\n",
       "163     8\n",
       "171     7\n",
       "173     9\n",
       "174     7\n",
       "Name: trial, dtype: int64"
      ]
     },
     "execution_count": 7,
     "metadata": {},
     "output_type": "execute_result"
    }
   ],
   "source": [
    "df[['conv', 'trial']].drop_duplicates().reset_index(drop=True).groupby('conv').trial.count()"
   ]
  },
  {
   "cell_type": "code",
   "execution_count": 6,
   "metadata": {},
   "outputs": [
    {
     "name": "stdout",
     "output_type": "stream",
     "text": [
      "conv  run\n",
      "101   1      2\n",
      "      2      2\n",
      "      3      2\n",
      "      4      2\n",
      "      5      2\n",
      "104   1      2\n",
      "      2      2\n",
      "      3      2\n",
      "      4      2\n",
      "      5      2\n",
      "105   1      2\n",
      "      2      2\n",
      "      3      2\n",
      "      4      2\n",
      "      5      2\n",
      "106   1      2\n",
      "      2      2\n",
      "      3      2\n",
      "      4      2\n",
      "      5      2\n",
      "107   1      2\n",
      "      2      2\n",
      "      3      2\n",
      "      4      2\n",
      "      5      2\n",
      "112   1      2\n",
      "      2      2\n",
      "      3      2\n",
      "      4      2\n",
      "      5      2\n",
      "114   1      2\n",
      "      2      2\n",
      "      3      2\n",
      "      4      2\n",
      "      5      2\n",
      "120   1      2\n",
      "      2      2\n",
      "      3      2\n",
      "      4      2\n",
      "      5      2\n",
      "123   1      2\n",
      "      2      2\n",
      "      3      2\n",
      "      4      2\n",
      "      5      2\n",
      "126   1      2\n",
      "      2      2\n",
      "      3      2\n",
      "      4      2\n",
      "      5      2\n",
      "128   1      2\n",
      "      2      1\n",
      "      3      2\n",
      "      4      2\n",
      "      5      2\n",
      "131   1      2\n",
      "      2      2\n",
      "      3      2\n",
      "      4      2\n",
      "132   1      1\n",
      "      4      1\n",
      "133   1      1\n",
      "      2      2\n",
      "      3      2\n",
      "      4      2\n",
      "      5      2\n",
      "137   1      2\n",
      "      2      1\n",
      "      3      1\n",
      "      5      1\n",
      "142   1      1\n",
      "      2      1\n",
      "      3      2\n",
      "      4      1\n",
      "      5      2\n",
      "153   1      2\n",
      "      2      1\n",
      "      3      2\n",
      "      4      2\n",
      "      5      2\n",
      "156   2      1\n",
      "      3      1\n",
      "      4      2\n",
      "      5      2\n",
      "157   1      2\n",
      "      2      2\n",
      "      3      2\n",
      "      4      2\n",
      "      5      2\n",
      "158   1      2\n",
      "      2      2\n",
      "      3      1\n",
      "      4      1\n",
      "163   1      2\n",
      "      2      1\n",
      "      3      2\n",
      "      4      2\n",
      "      5      1\n",
      "171   1      2\n",
      "      2      2\n",
      "      3      1\n",
      "      4      2\n",
      "173   1      2\n",
      "      2      2\n",
      "      3      2\n",
      "      4      2\n",
      "      5      1\n",
      "174   1      1\n",
      "      3      2\n",
      "      4      2\n",
      "      5      2\n",
      "Name: trial, dtype: int64\n"
     ]
    }
   ],
   "source": [
    "# Trials per conversation\n",
    "# Should be 20 trials per conversation, or 4 per run, 2 generate, 2 read\n",
    "with pd.option_context('display.max_rows', None):\n",
    "    print(df[['conv', 'run', 'trial']].drop_duplicates().reset_index(drop=True).groupby(['conv', 'run']).trial.count())"
   ]
  },
  {
   "cell_type": "code",
   "execution_count": 35,
   "metadata": {},
   "outputs": [
    {
     "data": {
      "text/plain": [
       "conv  run\n",
       "101   1       943\n",
       "      2       947\n",
       "      3       999\n",
       "      4      1029\n",
       "      5      1040\n",
       "             ... \n",
       "173   5       405\n",
       "174   1       468\n",
       "      3       980\n",
       "      4      1006\n",
       "      5      1008\n",
       "Name: run, Length: 111, dtype: int64"
      ]
     },
     "execution_count": 35,
     "metadata": {},
     "output_type": "execute_result"
    }
   ],
   "source": [
    "df.groupby(['conv', 'run']).run.count()"
   ]
  }
 ],
 "metadata": {
  "kernelspec": {
   "display_name": "fb2b",
   "language": "python",
   "name": "python3"
  },
  "language_info": {
   "codemirror_mode": {
    "name": "ipython",
    "version": 3
   },
   "file_extension": ".py",
   "mimetype": "text/x-python",
   "name": "python",
   "nbconvert_exporter": "python",
   "pygments_lexer": "ipython3",
   "version": "3.10.11"
  },
  "orig_nbformat": 4
 },
 "nbformat": 4,
 "nbformat_minor": 2
}
