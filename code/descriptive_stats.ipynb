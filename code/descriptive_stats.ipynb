{
 "cells": [
  {
   "cell_type": "code",
   "execution_count": 1,
   "metadata": {},
   "outputs": [
    {
     "name": "stdout",
     "output_type": "stream",
     "text": [
      "/mnt/cup/labs/hasson/zaid/fmri-convs\n"
     ]
    }
   ],
   "source": [
    "%cd .."
   ]
  },
  {
   "cell_type": "code",
   "execution_count": 7,
   "metadata": {},
   "outputs": [],
   "source": [
    "from glob import glob\n",
    "\n",
    "import nibabel as nib\n",
    "import pandas as pd\n",
    "import numpy as np\n",
    "import matplotlib.pyplot as plt\n",
    "\n",
    "from util.path import Path\n",
    "from constants import CONVS_STRANGERS"
   ]
  },
  {
   "attachments": {},
   "cell_type": "markdown",
   "metadata": {},
   "source": [
    "# Utterance transcripts\n",
    "\n",
    "verify that we have all transcripts ready to process"
   ]
  },
  {
   "cell_type": "code",
   "execution_count": 66,
   "metadata": {},
   "outputs": [
    {
     "data": {
      "text/plain": [
       "555"
      ]
     },
     "execution_count": 66,
     "metadata": {},
     "output_type": "execute_result"
    }
   ],
   "source": [
    "transpath = Path(root='stimuli', datatype='transcript', suffix='utterance', ext='.csv')\n",
    "files = glob(transpath.starstr(['conv', 'datatype']))\n",
    "len(files)"
   ]
  },
  {
   "cell_type": "code",
   "execution_count": 67,
   "metadata": {},
   "outputs": [
    {
     "name": "stdout",
     "output_type": "stream",
     "text": [
      "4114\n"
     ]
    },
    {
     "data": {
      "text/html": [
       "<div>\n",
       "<style scoped>\n",
       "    .dataframe tbody tr th:only-of-type {\n",
       "        vertical-align: middle;\n",
       "    }\n",
       "\n",
       "    .dataframe tbody tr th {\n",
       "        vertical-align: top;\n",
       "    }\n",
       "\n",
       "    .dataframe thead th {\n",
       "        text-align: right;\n",
       "    }\n",
       "</style>\n",
       "<table border=\"1\" class=\"dataframe\">\n",
       "  <thead>\n",
       "    <tr style=\"text-align: right;\">\n",
       "      <th></th>\n",
       "      <th>conv</th>\n",
       "      <th>run</th>\n",
       "      <th>trial</th>\n",
       "      <th>speaker</th>\n",
       "      <th>onset</th>\n",
       "      <th>text</th>\n",
       "    </tr>\n",
       "  </thead>\n",
       "  <tbody>\n",
       "    <tr>\n",
       "      <th>0</th>\n",
       "      <td>101</td>\n",
       "      <td>1</td>\n",
       "      <td>1</td>\n",
       "      <td>Speaker 2</td>\n",
       "      <td>4</td>\n",
       "      <td>Hi. Um, so given the choice of anyone in the w...</td>\n",
       "    </tr>\n",
       "    <tr>\n",
       "      <th>1</th>\n",
       "      <td>101</td>\n",
       "      <td>1</td>\n",
       "      <td>1</td>\n",
       "      <td>Speaker 1</td>\n",
       "      <td>59</td>\n",
       "      <td>I guess I'm not going to live up to his conver...</td>\n",
       "    </tr>\n",
       "    <tr>\n",
       "      <th>2</th>\n",
       "      <td>101</td>\n",
       "      <td>1</td>\n",
       "      <td>1</td>\n",
       "      <td>Speaker 2</td>\n",
       "      <td>119</td>\n",
       "      <td>Um, so, sorry about that, first of all, and so...</td>\n",
       "    </tr>\n",
       "    <tr>\n",
       "      <th>3</th>\n",
       "      <td>101</td>\n",
       "      <td>1</td>\n",
       "      <td>3</td>\n",
       "      <td>Speaker 1</td>\n",
       "      <td>2</td>\n",
       "      <td>Uh, so when I'm gonna make a telephone call, I...</td>\n",
       "    </tr>\n",
       "    <tr>\n",
       "      <th>4</th>\n",
       "      <td>101</td>\n",
       "      <td>1</td>\n",
       "      <td>3</td>\n",
       "      <td>Speaker 2</td>\n",
       "      <td>38</td>\n",
       "      <td>That makes sense. Um, for me, because I'm kind...</td>\n",
       "    </tr>\n",
       "  </tbody>\n",
       "</table>\n",
       "</div>"
      ],
      "text/plain": [
       "   conv  run  trial    speaker  onset   \n",
       "0   101    1      1  Speaker 2      4  \\\n",
       "1   101    1      1  Speaker 1     59   \n",
       "2   101    1      1  Speaker 2    119   \n",
       "3   101    1      3  Speaker 1      2   \n",
       "4   101    1      3  Speaker 2     38   \n",
       "\n",
       "                                                text  \n",
       "0  Hi. Um, so given the choice of anyone in the w...  \n",
       "1  I guess I'm not going to live up to his conver...  \n",
       "2  Um, so, sorry about that, first of all, and so...  \n",
       "3  Uh, so when I'm gonna make a telephone call, I...  \n",
       "4  That makes sense. Um, for me, because I'm kind...  "
      ]
     },
     "execution_count": 67,
     "metadata": {},
     "output_type": "execute_result"
    }
   ],
   "source": [
    "dfs = []\n",
    "for filename in files:\n",
    "    df = pd.read_csv(filename)\n",
    "    filepath = Path.frompath(filename)\n",
    "    df.insert(0, 'trial', filepath['trial'])\n",
    "    df.insert(0, 'run', filepath['run'])\n",
    "    df.insert(0, 'conv', filepath['conv'])\n",
    "    dfs.append(df)\n",
    "df = pd.concat(dfs)\n",
    "df.sort_values(['conv', 'run', 'trial', 'onset'], inplace=True)\n",
    "df.reset_index(drop=True, inplace=True)\n",
    "\n",
    "print(len(df))\n",
    "df.head()"
   ]
  },
  {
   "cell_type": "code",
   "execution_count": 5,
   "metadata": {},
   "outputs": [
    {
     "data": {
      "text/plain": [
       "{119}"
      ]
     },
     "execution_count": 5,
     "metadata": {},
     "output_type": "execute_result"
    }
   ],
   "source": [
    "# what conversations are missing?\n",
    "set(CONVS_STRANGERS) - set(df.conv.unique().tolist())"
   ]
  },
  {
   "attachments": {},
   "cell_type": "markdown",
   "metadata": {},
   "source": [
    "* conv-108 \n",
    "* conv-111\n",
    "* conv-116\n",
    "* conv-117\n",
    "* conv-119 conv-scan_db missing sub 109\n",
    "* conv-122\n",
    "* conv-129\n",
    "* conv-138\n",
    "* conv-143\n",
    "\n",
    "don't really know why these are missing. all bu 119 have usuable scans, some have incomplete field maps"
   ]
  },
  {
   "cell_type": "code",
   "execution_count": 68,
   "metadata": {},
   "outputs": [
    {
     "data": {
      "text/plain": [
       "conv\n",
       "143    11\n",
       "168     6\n",
       "171     8\n",
       "Name: trial, dtype: int64"
      ]
     },
     "execution_count": 68,
     "metadata": {},
     "output_type": "execute_result"
    }
   ],
   "source": [
    "# which conversations are missing transcripts?\n",
    "dfc = df[['conv', 'run', 'trial']].drop_duplicates().reset_index(drop=True)\n",
    "dft = dfc.groupby('conv').trial.count()\n",
    "dft[dft.values != 10]"
   ]
  },
  {
   "cell_type": "code",
   "execution_count": 69,
   "metadata": {},
   "outputs": [
    {
     "data": {
      "text/html": [
       "<div>\n",
       "<style scoped>\n",
       "    .dataframe tbody tr th:only-of-type {\n",
       "        vertical-align: middle;\n",
       "    }\n",
       "\n",
       "    .dataframe tbody tr th {\n",
       "        vertical-align: top;\n",
       "    }\n",
       "\n",
       "    .dataframe thead th {\n",
       "        text-align: right;\n",
       "    }\n",
       "</style>\n",
       "<table border=\"1\" class=\"dataframe\">\n",
       "  <thead>\n",
       "    <tr style=\"text-align: right;\">\n",
       "      <th></th>\n",
       "      <th>conv</th>\n",
       "      <th>run</th>\n",
       "      <th>trial</th>\n",
       "      <th>speaker</th>\n",
       "      <th>onset</th>\n",
       "      <th>text</th>\n",
       "    </tr>\n",
       "  </thead>\n",
       "  <tbody>\n",
       "    <tr>\n",
       "      <th>1746</th>\n",
       "      <td>143</td>\n",
       "      <td>1</td>\n",
       "      <td>2</td>\n",
       "      <td>Speaker 1</td>\n",
       "      <td>3</td>\n",
       "      <td>I think I'd want to be famous in a more academ...</td>\n",
       "    </tr>\n",
       "    <tr>\n",
       "      <th>1747</th>\n",
       "      <td>143</td>\n",
       "      <td>1</td>\n",
       "      <td>2</td>\n",
       "      <td>Speaker 2</td>\n",
       "      <td>55</td>\n",
       "      <td>Um, yeah, I agree, honestly. I feel like, uh, ...</td>\n",
       "    </tr>\n",
       "    <tr>\n",
       "      <th>1748</th>\n",
       "      <td>143</td>\n",
       "      <td>1</td>\n",
       "      <td>2</td>\n",
       "      <td>Speaker 1</td>\n",
       "      <td>81</td>\n",
       "      <td>Definitely. Like, I think research is such a h...</td>\n",
       "    </tr>\n",
       "    <tr>\n",
       "      <th>1749</th>\n",
       "      <td>143</td>\n",
       "      <td>1</td>\n",
       "      <td>2</td>\n",
       "      <td>Speaker 2</td>\n",
       "      <td>143</td>\n",
       "      <td>Yeah, I think it would be, like, really cumber...</td>\n",
       "    </tr>\n",
       "    <tr>\n",
       "      <th>1750</th>\n",
       "      <td>143</td>\n",
       "      <td>1</td>\n",
       "      <td>2</td>\n",
       "      <td>Speaker 1</td>\n",
       "      <td>173</td>\n",
       "      <td>Yeah, I definitely agree. It's, like, a differ...</td>\n",
       "    </tr>\n",
       "    <tr>\n",
       "      <th>1751</th>\n",
       "      <td>143</td>\n",
       "      <td>1</td>\n",
       "      <td>4</td>\n",
       "      <td>Speaker 1</td>\n",
       "      <td>1</td>\n",
       "      <td>I think a perfect day for me would be waking u...</td>\n",
       "    </tr>\n",
       "    <tr>\n",
       "      <th>1752</th>\n",
       "      <td>143</td>\n",
       "      <td>1</td>\n",
       "      <td>4</td>\n",
       "      <td>Speaker 2</td>\n",
       "      <td>73</td>\n",
       "      <td>Yeah. I feel like for me, it would be somewhat...</td>\n",
       "    </tr>\n",
       "    <tr>\n",
       "      <th>1753</th>\n",
       "      <td>143</td>\n",
       "      <td>1</td>\n",
       "      <td>4</td>\n",
       "      <td>Speaker 1</td>\n",
       "      <td>131</td>\n",
       "      <td>Yeah, I think that's like the key thing, like ...</td>\n",
       "    </tr>\n",
       "    <tr>\n",
       "      <th>1754</th>\n",
       "      <td>143</td>\n",
       "      <td>1</td>\n",
       "      <td>4</td>\n",
       "      <td>Speaker 2</td>\n",
       "      <td>161</td>\n",
       "      <td>Yeah. I feel like it's hard to like have the p...</td>\n",
       "    </tr>\n",
       "    <tr>\n",
       "      <th>1755</th>\n",
       "      <td>143</td>\n",
       "      <td>2</td>\n",
       "      <td>5</td>\n",
       "      <td>Speaker 1</td>\n",
       "      <td>2</td>\n",
       "      <td>That's really hard, um, but I'd say the mind o...</td>\n",
       "    </tr>\n",
       "    <tr>\n",
       "      <th>1756</th>\n",
       "      <td>143</td>\n",
       "      <td>2</td>\n",
       "      <td>5</td>\n",
       "      <td>Speaker 2</td>\n",
       "      <td>51</td>\n",
       "      <td>Yeah, um, I completely agree. I feel like, I.....</td>\n",
       "    </tr>\n",
       "    <tr>\n",
       "      <th>1757</th>\n",
       "      <td>143</td>\n",
       "      <td>2</td>\n",
       "      <td>5</td>\n",
       "      <td>Speaker 1</td>\n",
       "      <td>107</td>\n",
       "      <td>Yeah, I definitely agree. It's... I think, um,...</td>\n",
       "    </tr>\n",
       "    <tr>\n",
       "      <th>1758</th>\n",
       "      <td>143</td>\n",
       "      <td>2</td>\n",
       "      <td>5</td>\n",
       "      <td>Speaker 2</td>\n",
       "      <td>174</td>\n",
       "      <td>Yeah, I agree. I think, the thing about, like,...</td>\n",
       "    </tr>\n",
       "    <tr>\n",
       "      <th>1759</th>\n",
       "      <td>143</td>\n",
       "      <td>2</td>\n",
       "      <td>8</td>\n",
       "      <td>Speaker 1</td>\n",
       "      <td>2</td>\n",
       "      <td>Um, in terms of what in my life I feel most gr...</td>\n",
       "    </tr>\n",
       "    <tr>\n",
       "      <th>1760</th>\n",
       "      <td>143</td>\n",
       "      <td>2</td>\n",
       "      <td>8</td>\n",
       "      <td>Speaker 2</td>\n",
       "      <td>53</td>\n",
       "      <td>Um, I definitely agree. I think opportunity wi...</td>\n",
       "    </tr>\n",
       "    <tr>\n",
       "      <th>1761</th>\n",
       "      <td>143</td>\n",
       "      <td>2</td>\n",
       "      <td>8</td>\n",
       "      <td>Speaker 1</td>\n",
       "      <td>108</td>\n",
       "      <td>Yeah, I agree. I'm definitely really grateful ...</td>\n",
       "    </tr>\n",
       "    <tr>\n",
       "      <th>1762</th>\n",
       "      <td>143</td>\n",
       "      <td>2</td>\n",
       "      <td>8</td>\n",
       "      <td>Speaker 2</td>\n",
       "      <td>161</td>\n",
       "      <td>Yeah, definitely. I think, like you said, like...</td>\n",
       "    </tr>\n",
       "    <tr>\n",
       "      <th>1763</th>\n",
       "      <td>143</td>\n",
       "      <td>3</td>\n",
       "      <td>2</td>\n",
       "      <td>Speaker 1</td>\n",
       "      <td>1</td>\n",
       "      <td>Yeah, like I said before, I really want to tra...</td>\n",
       "    </tr>\n",
       "    <tr>\n",
       "      <th>1764</th>\n",
       "      <td>143</td>\n",
       "      <td>3</td>\n",
       "      <td>2</td>\n",
       "      <td>Speaker 2</td>\n",
       "      <td>27</td>\n",
       "      <td>Yeah, I feel like, for me, I really have not h...</td>\n",
       "    </tr>\n",
       "    <tr>\n",
       "      <th>1765</th>\n",
       "      <td>143</td>\n",
       "      <td>3</td>\n",
       "      <td>2</td>\n",
       "      <td>Speaker 1</td>\n",
       "      <td>76</td>\n",
       "      <td>Yeah, no, that's, that's the goal, like hoping...</td>\n",
       "    </tr>\n",
       "    <tr>\n",
       "      <th>1766</th>\n",
       "      <td>143</td>\n",
       "      <td>3</td>\n",
       "      <td>2</td>\n",
       "      <td>Speaker 1</td>\n",
       "      <td>119</td>\n",
       "      <td>Also, like go to different continents other th...</td>\n",
       "    </tr>\n",
       "    <tr>\n",
       "      <th>1767</th>\n",
       "      <td>143</td>\n",
       "      <td>3</td>\n",
       "      <td>2</td>\n",
       "      <td>Speaker 2</td>\n",
       "      <td>153</td>\n",
       "      <td>Yeah, I agree. I, I definitely like do want to...</td>\n",
       "    </tr>\n",
       "    <tr>\n",
       "      <th>1768</th>\n",
       "      <td>143</td>\n",
       "      <td>3</td>\n",
       "      <td>3</td>\n",
       "      <td>Speaker 1</td>\n",
       "      <td>1</td>\n",
       "      <td>I guess... Okay, two things I realized. Firstl...</td>\n",
       "    </tr>\n",
       "    <tr>\n",
       "      <th>1769</th>\n",
       "      <td>143</td>\n",
       "      <td>3</td>\n",
       "      <td>3</td>\n",
       "      <td>Speaker 1</td>\n",
       "      <td>47</td>\n",
       "      <td>I also think... I did research in Alabama this...</td>\n",
       "    </tr>\n",
       "    <tr>\n",
       "      <th>1770</th>\n",
       "      <td>143</td>\n",
       "      <td>3</td>\n",
       "      <td>3</td>\n",
       "      <td>Speaker 2</td>\n",
       "      <td>98</td>\n",
       "      <td>Yeah. Um, I feel like for me, obviously like, ...</td>\n",
       "    </tr>\n",
       "    <tr>\n",
       "      <th>1771</th>\n",
       "      <td>143</td>\n",
       "      <td>3</td>\n",
       "      <td>3</td>\n",
       "      <td>Speaker 1</td>\n",
       "      <td>172</td>\n",
       "      <td>Yeah, for sure, I agree. Like, I definitely be...</td>\n",
       "    </tr>\n",
       "    <tr>\n",
       "      <th>1772</th>\n",
       "      <td>143</td>\n",
       "      <td>3</td>\n",
       "      <td>10</td>\n",
       "      <td>Speaker 1</td>\n",
       "      <td>2</td>\n",
       "      <td>Um, I don't know. I- I don't have like, a spec...</td>\n",
       "    </tr>\n",
       "    <tr>\n",
       "      <th>1773</th>\n",
       "      <td>143</td>\n",
       "      <td>3</td>\n",
       "      <td>10</td>\n",
       "      <td>Speaker 1</td>\n",
       "      <td>55</td>\n",
       "      <td>And like, um, my parents, um, although were li...</td>\n",
       "    </tr>\n",
       "    <tr>\n",
       "      <th>1774</th>\n",
       "      <td>143</td>\n",
       "      <td>3</td>\n",
       "      <td>10</td>\n",
       "      <td>Speaker 2</td>\n",
       "      <td>86</td>\n",
       "      <td>Yeah, I agree. I think I like, also would wann...</td>\n",
       "    </tr>\n",
       "    <tr>\n",
       "      <th>1775</th>\n",
       "      <td>143</td>\n",
       "      <td>3</td>\n",
       "      <td>10</td>\n",
       "      <td>Speaker 1</td>\n",
       "      <td>147</td>\n",
       "      <td>That sounds really cool. Um, I really... I wen...</td>\n",
       "    </tr>\n",
       "    <tr>\n",
       "      <th>1776</th>\n",
       "      <td>143</td>\n",
       "      <td>4</td>\n",
       "      <td>5</td>\n",
       "      <td>Speaker 1</td>\n",
       "      <td>2</td>\n",
       "      <td>Oh my God. Uh, this is hard because I feel lik...</td>\n",
       "    </tr>\n",
       "    <tr>\n",
       "      <th>1777</th>\n",
       "      <td>143</td>\n",
       "      <td>4</td>\n",
       "      <td>5</td>\n",
       "      <td>Speaker 2</td>\n",
       "      <td>49</td>\n",
       "      <td>Oh. Okay. (laughs) you were kind of mid-senten...</td>\n",
       "    </tr>\n",
       "    <tr>\n",
       "      <th>1778</th>\n",
       "      <td>143</td>\n",
       "      <td>4</td>\n",
       "      <td>5</td>\n",
       "      <td>Speaker 1</td>\n",
       "      <td>60</td>\n",
       "      <td>Okay. Oh my God, sorry, that was by accident. ...</td>\n",
       "    </tr>\n",
       "    <tr>\n",
       "      <th>1779</th>\n",
       "      <td>143</td>\n",
       "      <td>4</td>\n",
       "      <td>5</td>\n",
       "      <td>Speaker 2</td>\n",
       "      <td>63</td>\n",
       "      <td>Yeah.</td>\n",
       "    </tr>\n",
       "    <tr>\n",
       "      <th>1780</th>\n",
       "      <td>143</td>\n",
       "      <td>4</td>\n",
       "      <td>5</td>\n",
       "      <td>Speaker 1</td>\n",
       "      <td>64</td>\n",
       "      <td>Um, sorry. Um, but I just meant that like she'...</td>\n",
       "    </tr>\n",
       "    <tr>\n",
       "      <th>1781</th>\n",
       "      <td>143</td>\n",
       "      <td>4</td>\n",
       "      <td>5</td>\n",
       "      <td>Speaker 2</td>\n",
       "      <td>117</td>\n",
       "      <td>Yeah, no problem. Um, I feel like that sounds ...</td>\n",
       "    </tr>\n",
       "    <tr>\n",
       "      <th>1782</th>\n",
       "      <td>143</td>\n",
       "      <td>4</td>\n",
       "      <td>8</td>\n",
       "      <td>Speaker 1</td>\n",
       "      <td>3</td>\n",
       "      <td>I wish I had someone that I could share my- my...</td>\n",
       "    </tr>\n",
       "    <tr>\n",
       "      <th>1783</th>\n",
       "      <td>143</td>\n",
       "      <td>4</td>\n",
       "      <td>8</td>\n",
       "      <td>Speaker 1</td>\n",
       "      <td>54</td>\n",
       "      <td>Hmm. I... I feel like that's a really hard que...</td>\n",
       "    </tr>\n",
       "    <tr>\n",
       "      <th>1784</th>\n",
       "      <td>143</td>\n",
       "      <td>4</td>\n",
       "      <td>8</td>\n",
       "      <td>Speaker 1</td>\n",
       "      <td>118</td>\n",
       "      <td>No, I like get that a lot, actually. I feel li...</td>\n",
       "    </tr>\n",
       "    <tr>\n",
       "      <th>1785</th>\n",
       "      <td>143</td>\n",
       "      <td>5</td>\n",
       "      <td>10</td>\n",
       "      <td>Speaker 1</td>\n",
       "      <td>2</td>\n",
       "      <td>Oh. Um, I don't know. I mean, I feel like this...</td>\n",
       "    </tr>\n",
       "    <tr>\n",
       "      <th>1786</th>\n",
       "      <td>143</td>\n",
       "      <td>5</td>\n",
       "      <td>10</td>\n",
       "      <td>Speaker 1</td>\n",
       "      <td>66</td>\n",
       "      <td>But if you like, are just meeting someone or l...</td>\n",
       "    </tr>\n",
       "    <tr>\n",
       "      <th>1787</th>\n",
       "      <td>143</td>\n",
       "      <td>5</td>\n",
       "      <td>10</td>\n",
       "      <td>Speaker 2</td>\n",
       "      <td>75</td>\n",
       "      <td>Yeah, I completely agree. I feel like there ar...</td>\n",
       "    </tr>\n",
       "    <tr>\n",
       "      <th>1788</th>\n",
       "      <td>143</td>\n",
       "      <td>5</td>\n",
       "      <td>10</td>\n",
       "      <td>Speaker 1</td>\n",
       "      <td>136</td>\n",
       "      <td>No, totally. And I feel like if you're best fr...</td>\n",
       "    </tr>\n",
       "    <tr>\n",
       "      <th>1789</th>\n",
       "      <td>143</td>\n",
       "      <td>5</td>\n",
       "      <td>12</td>\n",
       "      <td>Speaker 1</td>\n",
       "      <td>2</td>\n",
       "      <td>Um, I guess a personal problem with this semes...</td>\n",
       "    </tr>\n",
       "    <tr>\n",
       "      <th>1790</th>\n",
       "      <td>143</td>\n",
       "      <td>5</td>\n",
       "      <td>12</td>\n",
       "      <td>Speaker 2</td>\n",
       "      <td>50</td>\n",
       "      <td>Yeah. I feel like that's really a problem that...</td>\n",
       "    </tr>\n",
       "    <tr>\n",
       "      <th>1791</th>\n",
       "      <td>143</td>\n",
       "      <td>5</td>\n",
       "      <td>12</td>\n",
       "      <td>Speaker 1</td>\n",
       "      <td>119</td>\n",
       "      <td>Yeah, um, yeah, definitely. I think- I write t...</td>\n",
       "    </tr>\n",
       "    <tr>\n",
       "      <th>1792</th>\n",
       "      <td>143</td>\n",
       "      <td>5</td>\n",
       "      <td>12</td>\n",
       "      <td>Speaker 2</td>\n",
       "      <td>144</td>\n",
       "      <td>Yeah. I would say probably the biggest, like, ...</td>\n",
       "    </tr>\n",
       "  </tbody>\n",
       "</table>\n",
       "</div>"
      ],
      "text/plain": [
       "      conv  run  trial    speaker  onset   \n",
       "1746   143    1      2  Speaker 1      3  \\\n",
       "1747   143    1      2  Speaker 2     55   \n",
       "1748   143    1      2  Speaker 1     81   \n",
       "1749   143    1      2  Speaker 2    143   \n",
       "1750   143    1      2  Speaker 1    173   \n",
       "1751   143    1      4  Speaker 1      1   \n",
       "1752   143    1      4  Speaker 2     73   \n",
       "1753   143    1      4  Speaker 1    131   \n",
       "1754   143    1      4  Speaker 2    161   \n",
       "1755   143    2      5  Speaker 1      2   \n",
       "1756   143    2      5  Speaker 2     51   \n",
       "1757   143    2      5  Speaker 1    107   \n",
       "1758   143    2      5  Speaker 2    174   \n",
       "1759   143    2      8  Speaker 1      2   \n",
       "1760   143    2      8  Speaker 2     53   \n",
       "1761   143    2      8  Speaker 1    108   \n",
       "1762   143    2      8  Speaker 2    161   \n",
       "1763   143    3      2  Speaker 1      1   \n",
       "1764   143    3      2  Speaker 2     27   \n",
       "1765   143    3      2  Speaker 1     76   \n",
       "1766   143    3      2  Speaker 1    119   \n",
       "1767   143    3      2  Speaker 2    153   \n",
       "1768   143    3      3  Speaker 1      1   \n",
       "1769   143    3      3  Speaker 1     47   \n",
       "1770   143    3      3  Speaker 2     98   \n",
       "1771   143    3      3  Speaker 1    172   \n",
       "1772   143    3     10  Speaker 1      2   \n",
       "1773   143    3     10  Speaker 1     55   \n",
       "1774   143    3     10  Speaker 2     86   \n",
       "1775   143    3     10  Speaker 1    147   \n",
       "1776   143    4      5  Speaker 1      2   \n",
       "1777   143    4      5  Speaker 2     49   \n",
       "1778   143    4      5  Speaker 1     60   \n",
       "1779   143    4      5  Speaker 2     63   \n",
       "1780   143    4      5  Speaker 1     64   \n",
       "1781   143    4      5  Speaker 2    117   \n",
       "1782   143    4      8  Speaker 1      3   \n",
       "1783   143    4      8  Speaker 1     54   \n",
       "1784   143    4      8  Speaker 1    118   \n",
       "1785   143    5     10  Speaker 1      2   \n",
       "1786   143    5     10  Speaker 1     66   \n",
       "1787   143    5     10  Speaker 2     75   \n",
       "1788   143    5     10  Speaker 1    136   \n",
       "1789   143    5     12  Speaker 1      2   \n",
       "1790   143    5     12  Speaker 2     50   \n",
       "1791   143    5     12  Speaker 1    119   \n",
       "1792   143    5     12  Speaker 2    144   \n",
       "\n",
       "                                                   text  \n",
       "1746  I think I'd want to be famous in a more academ...  \n",
       "1747  Um, yeah, I agree, honestly. I feel like, uh, ...  \n",
       "1748  Definitely. Like, I think research is such a h...  \n",
       "1749  Yeah, I think it would be, like, really cumber...  \n",
       "1750  Yeah, I definitely agree. It's, like, a differ...  \n",
       "1751  I think a perfect day for me would be waking u...  \n",
       "1752  Yeah. I feel like for me, it would be somewhat...  \n",
       "1753  Yeah, I think that's like the key thing, like ...  \n",
       "1754  Yeah. I feel like it's hard to like have the p...  \n",
       "1755  That's really hard, um, but I'd say the mind o...  \n",
       "1756  Yeah, um, I completely agree. I feel like, I.....  \n",
       "1757  Yeah, I definitely agree. It's... I think, um,...  \n",
       "1758  Yeah, I agree. I think, the thing about, like,...  \n",
       "1759  Um, in terms of what in my life I feel most gr...  \n",
       "1760  Um, I definitely agree. I think opportunity wi...  \n",
       "1761  Yeah, I agree. I'm definitely really grateful ...  \n",
       "1762  Yeah, definitely. I think, like you said, like...  \n",
       "1763  Yeah, like I said before, I really want to tra...  \n",
       "1764  Yeah, I feel like, for me, I really have not h...  \n",
       "1765  Yeah, no, that's, that's the goal, like hoping...  \n",
       "1766  Also, like go to different continents other th...  \n",
       "1767  Yeah, I agree. I, I definitely like do want to...  \n",
       "1768  I guess... Okay, two things I realized. Firstl...  \n",
       "1769  I also think... I did research in Alabama this...  \n",
       "1770  Yeah. Um, I feel like for me, obviously like, ...  \n",
       "1771  Yeah, for sure, I agree. Like, I definitely be...  \n",
       "1772  Um, I don't know. I- I don't have like, a spec...  \n",
       "1773  And like, um, my parents, um, although were li...  \n",
       "1774  Yeah, I agree. I think I like, also would wann...  \n",
       "1775  That sounds really cool. Um, I really... I wen...  \n",
       "1776  Oh my God. Uh, this is hard because I feel lik...  \n",
       "1777  Oh. Okay. (laughs) you were kind of mid-senten...  \n",
       "1778  Okay. Oh my God, sorry, that was by accident. ...  \n",
       "1779                                              Yeah.  \n",
       "1780  Um, sorry. Um, but I just meant that like she'...  \n",
       "1781  Yeah, no problem. Um, I feel like that sounds ...  \n",
       "1782  I wish I had someone that I could share my- my...  \n",
       "1783  Hmm. I... I feel like that's a really hard que...  \n",
       "1784  No, I like get that a lot, actually. I feel li...  \n",
       "1785  Oh. Um, I don't know. I mean, I feel like this...  \n",
       "1786  But if you like, are just meeting someone or l...  \n",
       "1787  Yeah, I completely agree. I feel like there ar...  \n",
       "1788  No, totally. And I feel like if you're best fr...  \n",
       "1789  Um, I guess a personal problem with this semes...  \n",
       "1790  Yeah. I feel like that's really a problem that...  \n",
       "1791  Yeah, um, yeah, definitely. I think- I write t...  \n",
       "1792  Yeah. I would say probably the biggest, like, ...  "
      ]
     },
     "execution_count": 69,
     "metadata": {},
     "output_type": "execute_result"
    }
   ],
   "source": [
    "df[df.conv == 143]"
   ]
  },
  {
   "attachments": {},
   "cell_type": "markdown",
   "metadata": {},
   "source": [
    "- **168: moved a lot and stopped early, only 3 valid runs**\n",
    "- **171: stopped early. only 3 valid runs**\n",
    "- 143: had to take out in the middle of the scan and put back in - only have 1 set of field maps (I - Incomplete)"
   ]
  },
  {
   "attachments": {},
   "cell_type": "markdown",
   "metadata": {},
   "source": [
    "# Word-level transcripts\n",
    "\n",
    "check out the processed transcripts"
   ]
  },
  {
   "cell_type": "code",
   "execution_count": 7,
   "metadata": {},
   "outputs": [
    {
     "data": {
      "text/plain": [
       "309"
      ]
     },
     "execution_count": 7,
     "metadata": {},
     "output_type": "execute_result"
    }
   ],
   "source": [
    "transpath = Path(root='stimuli', datatype='transcript', suffix='word', ext='.csv')\n",
    "files = glob(transpath.starstr(['conv', 'datatype']))\n",
    "len(files)"
   ]
  },
  {
   "cell_type": "code",
   "execution_count": 8,
   "metadata": {},
   "outputs": [
    {
     "name": "stdout",
     "output_type": "stream",
     "text": [
      "185312\n"
     ]
    },
    {
     "data": {
      "text/html": [
       "<div>\n",
       "<style scoped>\n",
       "    .dataframe tbody tr th:only-of-type {\n",
       "        vertical-align: middle;\n",
       "    }\n",
       "\n",
       "    .dataframe tbody tr th {\n",
       "        vertical-align: top;\n",
       "    }\n",
       "\n",
       "    .dataframe thead th {\n",
       "        text-align: right;\n",
       "    }\n",
       "</style>\n",
       "<table border=\"1\" class=\"dataframe\">\n",
       "  <thead>\n",
       "    <tr style=\"text-align: right;\">\n",
       "      <th></th>\n",
       "      <th>conv</th>\n",
       "      <th>run</th>\n",
       "      <th>trial</th>\n",
       "      <th>turn</th>\n",
       "      <th>utterance</th>\n",
       "      <th>speaker</th>\n",
       "      <th>onset</th>\n",
       "      <th>offset</th>\n",
       "      <th>sentence_id</th>\n",
       "      <th>is_punct</th>\n",
       "      <th>token</th>\n",
       "      <th>token_norm</th>\n",
       "    </tr>\n",
       "  </thead>\n",
       "  <tbody>\n",
       "    <tr>\n",
       "      <th>0</th>\n",
       "      <td>101</td>\n",
       "      <td>1</td>\n",
       "      <td>1</td>\n",
       "      <td>0</td>\n",
       "      <td>0</td>\n",
       "      <td>1</td>\n",
       "      <td>4</td>\n",
       "      <td>59.0</td>\n",
       "      <td>0.0</td>\n",
       "      <td>False</td>\n",
       "      <td>Hi</td>\n",
       "      <td>hi</td>\n",
       "    </tr>\n",
       "    <tr>\n",
       "      <th>1</th>\n",
       "      <td>101</td>\n",
       "      <td>1</td>\n",
       "      <td>1</td>\n",
       "      <td>0</td>\n",
       "      <td>0</td>\n",
       "      <td>1</td>\n",
       "      <td>4</td>\n",
       "      <td>59.0</td>\n",
       "      <td>0.0</td>\n",
       "      <td>True</td>\n",
       "      <td>.</td>\n",
       "      <td>NaN</td>\n",
       "    </tr>\n",
       "    <tr>\n",
       "      <th>2</th>\n",
       "      <td>101</td>\n",
       "      <td>1</td>\n",
       "      <td>1</td>\n",
       "      <td>0</td>\n",
       "      <td>0</td>\n",
       "      <td>1</td>\n",
       "      <td>4</td>\n",
       "      <td>59.0</td>\n",
       "      <td>1.0</td>\n",
       "      <td>False</td>\n",
       "      <td>Um</td>\n",
       "      <td>um</td>\n",
       "    </tr>\n",
       "    <tr>\n",
       "      <th>3</th>\n",
       "      <td>101</td>\n",
       "      <td>1</td>\n",
       "      <td>1</td>\n",
       "      <td>0</td>\n",
       "      <td>0</td>\n",
       "      <td>1</td>\n",
       "      <td>4</td>\n",
       "      <td>59.0</td>\n",
       "      <td>1.0</td>\n",
       "      <td>True</td>\n",
       "      <td>,</td>\n",
       "      <td>NaN</td>\n",
       "    </tr>\n",
       "    <tr>\n",
       "      <th>4</th>\n",
       "      <td>101</td>\n",
       "      <td>1</td>\n",
       "      <td>1</td>\n",
       "      <td>0</td>\n",
       "      <td>0</td>\n",
       "      <td>1</td>\n",
       "      <td>4</td>\n",
       "      <td>59.0</td>\n",
       "      <td>1.0</td>\n",
       "      <td>False</td>\n",
       "      <td>so</td>\n",
       "      <td>so</td>\n",
       "    </tr>\n",
       "  </tbody>\n",
       "</table>\n",
       "</div>"
      ],
      "text/plain": [
       "   conv  run  trial  turn  utterance  speaker  onset  offset  sentence_id   \n",
       "0   101    1      1     0          0        1      4    59.0          0.0  \\\n",
       "1   101    1      1     0          0        1      4    59.0          0.0   \n",
       "2   101    1      1     0          0        1      4    59.0          1.0   \n",
       "3   101    1      1     0          0        1      4    59.0          1.0   \n",
       "4   101    1      1     0          0        1      4    59.0          1.0   \n",
       "\n",
       "   is_punct token token_norm  \n",
       "0     False    Hi         hi  \n",
       "1      True    .         NaN  \n",
       "2     False    Um         um  \n",
       "3      True    ,         NaN  \n",
       "4     False   so          so  "
      ]
     },
     "execution_count": 8,
     "metadata": {},
     "output_type": "execute_result"
    }
   ],
   "source": [
    "dfs = []\n",
    "for filename in files:\n",
    "    df = pd.read_csv(filename)\n",
    "    filepath = Path.frompath(filename)\n",
    "    df.insert(0, 'trial', filepath['trial'])\n",
    "    df.insert(0, 'run', filepath['run'])\n",
    "    df.insert(0, 'conv', filepath['conv'])\n",
    "    dfs.append(df)\n",
    "df = pd.concat(dfs)\n",
    "df.sort_values(['conv', 'run', 'trial', 'onset'], inplace=True)\n",
    "df.reset_index(drop=True, inplace=True)\n",
    "\n",
    "print(len(df))\n",
    "df.head()"
   ]
  },
  {
   "cell_type": "code",
   "execution_count": 9,
   "metadata": {},
   "outputs": [
    {
     "data": {
      "text/plain": [
       "{119}"
      ]
     },
     "execution_count": 9,
     "metadata": {},
     "output_type": "execute_result"
    }
   ],
   "source": [
    "# what conversations are missing?\n",
    "set(CONVS_STRANGERS) - set(df.conv.unique().tolist())"
   ]
  },
  {
   "cell_type": "code",
   "execution_count": 10,
   "metadata": {},
   "outputs": [
    {
     "data": {
      "text/plain": [
       "conv\n",
       "143    11\n",
       "171     8\n",
       "Name: trial, dtype: int64"
      ]
     },
     "execution_count": 10,
     "metadata": {},
     "output_type": "execute_result"
    }
   ],
   "source": [
    "# Which trials are missing?\n",
    "dfc = df[['conv', 'run', 'trial']].drop_duplicates().reset_index(drop=True)\n",
    "dft = dfc.groupby('conv').trial.count()\n",
    "dft[dft.values != 10]"
   ]
  },
  {
   "attachments": {},
   "cell_type": "markdown",
   "metadata": {},
   "source": [
    "## Aligned transcripts\n",
    "first, check that MFA created TextGrids"
   ]
  },
  {
   "cell_type": "code",
   "execution_count": 36,
   "metadata": {},
   "outputs": [
    {
     "data": {
      "text/plain": [
       "309"
      ]
     },
     "execution_count": 36,
     "metadata": {},
     "output_type": "execute_result"
    }
   ],
   "source": [
    "transpath = Path(root='stimuli', datatype='aligned', ext='.TextGrid')\n",
    "files = glob(transpath.starstr(['conv', 'datatype']))\n",
    "len(files)"
   ]
  },
  {
   "cell_type": "code",
   "execution_count": 37,
   "metadata": {},
   "outputs": [
    {
     "data": {
      "text/html": [
       "<div>\n",
       "<style scoped>\n",
       "    .dataframe tbody tr th:only-of-type {\n",
       "        vertical-align: middle;\n",
       "    }\n",
       "\n",
       "    .dataframe tbody tr th {\n",
       "        vertical-align: top;\n",
       "    }\n",
       "\n",
       "    .dataframe thead th {\n",
       "        text-align: right;\n",
       "    }\n",
       "</style>\n",
       "<table border=\"1\" class=\"dataframe\">\n",
       "  <thead>\n",
       "    <tr style=\"text-align: right;\">\n",
       "      <th></th>\n",
       "      <th>conv</th>\n",
       "      <th>run</th>\n",
       "      <th>trial</th>\n",
       "    </tr>\n",
       "  </thead>\n",
       "  <tbody>\n",
       "    <tr>\n",
       "      <th>0</th>\n",
       "      <td>101</td>\n",
       "      <td>1</td>\n",
       "      <td>1</td>\n",
       "    </tr>\n",
       "    <tr>\n",
       "      <th>1</th>\n",
       "      <td>101</td>\n",
       "      <td>1</td>\n",
       "      <td>3</td>\n",
       "    </tr>\n",
       "    <tr>\n",
       "      <th>2</th>\n",
       "      <td>101</td>\n",
       "      <td>2</td>\n",
       "      <td>6</td>\n",
       "    </tr>\n",
       "    <tr>\n",
       "      <th>3</th>\n",
       "      <td>101</td>\n",
       "      <td>2</td>\n",
       "      <td>8</td>\n",
       "    </tr>\n",
       "    <tr>\n",
       "      <th>4</th>\n",
       "      <td>101</td>\n",
       "      <td>3</td>\n",
       "      <td>10</td>\n",
       "    </tr>\n",
       "    <tr>\n",
       "      <th>...</th>\n",
       "      <td>...</td>\n",
       "      <td>...</td>\n",
       "      <td>...</td>\n",
       "    </tr>\n",
       "    <tr>\n",
       "      <th>304</th>\n",
       "      <td>174</td>\n",
       "      <td>3</td>\n",
       "      <td>12</td>\n",
       "    </tr>\n",
       "    <tr>\n",
       "      <th>305</th>\n",
       "      <td>174</td>\n",
       "      <td>4</td>\n",
       "      <td>13</td>\n",
       "    </tr>\n",
       "    <tr>\n",
       "      <th>306</th>\n",
       "      <td>174</td>\n",
       "      <td>4</td>\n",
       "      <td>15</td>\n",
       "    </tr>\n",
       "    <tr>\n",
       "      <th>307</th>\n",
       "      <td>174</td>\n",
       "      <td>5</td>\n",
       "      <td>18</td>\n",
       "    </tr>\n",
       "    <tr>\n",
       "      <th>308</th>\n",
       "      <td>174</td>\n",
       "      <td>5</td>\n",
       "      <td>20</td>\n",
       "    </tr>\n",
       "  </tbody>\n",
       "</table>\n",
       "<p>309 rows × 3 columns</p>\n",
       "</div>"
      ],
      "text/plain": [
       "     conv  run  trial\n",
       "0     101    1      1\n",
       "1     101    1      3\n",
       "2     101    2      6\n",
       "3     101    2      8\n",
       "4     101    3     10\n",
       "..    ...  ...    ...\n",
       "304   174    3     12\n",
       "305   174    4     13\n",
       "306   174    4     15\n",
       "307   174    5     18\n",
       "308   174    5     20\n",
       "\n",
       "[309 rows x 3 columns]"
      ]
     },
     "execution_count": 37,
     "metadata": {},
     "output_type": "execute_result"
    }
   ],
   "source": [
    "records = []\n",
    "for file in files:\n",
    "    path = Path.frompath(file)\n",
    "    records.append([path['conv'], path['run'], path['trial']])\n",
    "df = pd.DataFrame(records, columns=['conv', 'run', 'trial'])\n",
    "df.sort_values(['conv', 'run', 'trial'], inplace=True)\n",
    "df.reset_index(drop=True, inplace=True)\n",
    "df"
   ]
  },
  {
   "cell_type": "code",
   "execution_count": 38,
   "metadata": {},
   "outputs": [
    {
     "data": {
      "text/plain": [
       "{119}"
      ]
     },
     "execution_count": 38,
     "metadata": {},
     "output_type": "execute_result"
    }
   ],
   "source": [
    "# what conversations are missing?\n",
    "set(CONVS_STRANGERS) - set(df.conv.unique().tolist())"
   ]
  },
  {
   "cell_type": "code",
   "execution_count": 39,
   "metadata": {},
   "outputs": [
    {
     "data": {
      "text/plain": [
       "conv\n",
       "143    11\n",
       "171     8\n",
       "Name: trial, dtype: int64"
      ]
     },
     "execution_count": 39,
     "metadata": {},
     "output_type": "execute_result"
    }
   ],
   "source": [
    "# Which trials are missing?\n",
    "dft = df.groupby('conv').trial.count()\n",
    "dft[dft.values != 10]"
   ]
  },
  {
   "attachments": {},
   "cell_type": "markdown",
   "metadata": {},
   "source": [
    "# Merged transcripts"
   ]
  },
  {
   "cell_type": "code",
   "execution_count": 51,
   "metadata": {},
   "outputs": [
    {
     "data": {
      "text/plain": [
       "332"
      ]
     },
     "execution_count": 51,
     "metadata": {},
     "output_type": "execute_result"
    }
   ],
   "source": [
    "transpath = Path(root='stimuli', datatype='aligned', ext='.csv')\n",
    "files = glob(transpath.starstr(['conv', 'datatype']))\n",
    "len(files)"
   ]
  },
  {
   "cell_type": "code",
   "execution_count": 54,
   "metadata": {},
   "outputs": [
    {
     "name": "stdout",
     "output_type": "stream",
     "text": [
      "147285\n"
     ]
    },
    {
     "data": {
      "text/html": [
       "<div>\n",
       "<style scoped>\n",
       "    .dataframe tbody tr th:only-of-type {\n",
       "        vertical-align: middle;\n",
       "    }\n",
       "\n",
       "    .dataframe tbody tr th {\n",
       "        vertical-align: top;\n",
       "    }\n",
       "\n",
       "    .dataframe thead th {\n",
       "        text-align: right;\n",
       "    }\n",
       "</style>\n",
       "<table border=\"1\" class=\"dataframe\">\n",
       "  <thead>\n",
       "    <tr style=\"text-align: right;\">\n",
       "      <th></th>\n",
       "      <th>conv</th>\n",
       "      <th>run</th>\n",
       "      <th>trial</th>\n",
       "      <th>turn</th>\n",
       "      <th>utterance</th>\n",
       "      <th>speaker</th>\n",
       "      <th>sentence_id</th>\n",
       "      <th>token</th>\n",
       "      <th>token_norm</th>\n",
       "      <th>onset</th>\n",
       "      <th>offset</th>\n",
       "    </tr>\n",
       "  </thead>\n",
       "  <tbody>\n",
       "    <tr>\n",
       "      <th>0</th>\n",
       "      <td>101</td>\n",
       "      <td>1</td>\n",
       "      <td>1</td>\n",
       "      <td>0</td>\n",
       "      <td>0</td>\n",
       "      <td>1</td>\n",
       "      <td>0.0</td>\n",
       "      <td>Hi</td>\n",
       "      <td>hi</td>\n",
       "      <td>4.00</td>\n",
       "      <td>4.34</td>\n",
       "    </tr>\n",
       "    <tr>\n",
       "      <th>1</th>\n",
       "      <td>101</td>\n",
       "      <td>1</td>\n",
       "      <td>1</td>\n",
       "      <td>0</td>\n",
       "      <td>0</td>\n",
       "      <td>1</td>\n",
       "      <td>1.0</td>\n",
       "      <td>Um</td>\n",
       "      <td>um</td>\n",
       "      <td>4.34</td>\n",
       "      <td>4.59</td>\n",
       "    </tr>\n",
       "    <tr>\n",
       "      <th>2</th>\n",
       "      <td>101</td>\n",
       "      <td>1</td>\n",
       "      <td>1</td>\n",
       "      <td>0</td>\n",
       "      <td>0</td>\n",
       "      <td>1</td>\n",
       "      <td>1.0</td>\n",
       "      <td>so</td>\n",
       "      <td>so</td>\n",
       "      <td>4.72</td>\n",
       "      <td>5.18</td>\n",
       "    </tr>\n",
       "    <tr>\n",
       "      <th>3</th>\n",
       "      <td>101</td>\n",
       "      <td>1</td>\n",
       "      <td>1</td>\n",
       "      <td>0</td>\n",
       "      <td>0</td>\n",
       "      <td>1</td>\n",
       "      <td>1.0</td>\n",
       "      <td>given</td>\n",
       "      <td>given</td>\n",
       "      <td>5.36</td>\n",
       "      <td>5.69</td>\n",
       "    </tr>\n",
       "    <tr>\n",
       "      <th>4</th>\n",
       "      <td>101</td>\n",
       "      <td>1</td>\n",
       "      <td>1</td>\n",
       "      <td>0</td>\n",
       "      <td>0</td>\n",
       "      <td>1</td>\n",
       "      <td>1.0</td>\n",
       "      <td>the</td>\n",
       "      <td>the</td>\n",
       "      <td>5.69</td>\n",
       "      <td>7.92</td>\n",
       "    </tr>\n",
       "  </tbody>\n",
       "</table>\n",
       "</div>"
      ],
      "text/plain": [
       "   conv  run  trial  turn  utterance  speaker  sentence_id   token token_norm   \n",
       "0   101    1      1     0          0        1          0.0      Hi         hi  \\\n",
       "1   101    1      1     0          0        1          1.0      Um         um   \n",
       "2   101    1      1     0          0        1          1.0     so          so   \n",
       "3   101    1      1     0          0        1          1.0  given       given   \n",
       "4   101    1      1     0          0        1          1.0    the         the   \n",
       "\n",
       "   onset  offset  \n",
       "0   4.00    4.34  \n",
       "1   4.34    4.59  \n",
       "2   4.72    5.18  \n",
       "3   5.36    5.69  \n",
       "4   5.69    7.92  "
      ]
     },
     "execution_count": 54,
     "metadata": {},
     "output_type": "execute_result"
    }
   ],
   "source": [
    "dfs = []\n",
    "for filename in files:\n",
    "    if 'analysis' in filename:\n",
    "        continue\n",
    "    df = pd.read_csv(filename, index_col=0)\n",
    "    filepath = Path.frompath(filename)\n",
    "    df.insert(0, 'conv', filepath['conv'])\n",
    "    dfs.append(df)\n",
    "df = pd.concat(dfs)\n",
    "df.sort_values(['conv', 'run', 'trial', 'onset'], inplace=True)\n",
    "df.reset_index(drop=True, inplace=True)\n",
    "\n",
    "print(len(df))\n",
    "df.head()"
   ]
  },
  {
   "cell_type": "code",
   "execution_count": 56,
   "metadata": {},
   "outputs": [
    {
     "data": {
      "text/plain": [
       "{119, 171}"
      ]
     },
     "execution_count": 56,
     "metadata": {},
     "output_type": "execute_result"
    }
   ],
   "source": [
    "# what conversations are missing?\n",
    "set(CONVS_STRANGERS) - set(df.conv.unique().tolist())"
   ]
  },
  {
   "cell_type": "code",
   "execution_count": 57,
   "metadata": {},
   "outputs": [
    {
     "data": {
      "text/plain": [
       "conv\n",
       "143    11\n",
       "Name: trial, dtype: int64"
      ]
     },
     "execution_count": 57,
     "metadata": {},
     "output_type": "execute_result"
    }
   ],
   "source": [
    "# Which trials are missing?\n",
    "dfc = df[['conv', 'run', 'trial']].drop_duplicates().reset_index(drop=True)\n",
    "dft = dfc.groupby('conv').trial.count()\n",
    "dft[dft.values != 10]"
   ]
  },
  {
   "cell_type": "code",
   "execution_count": 61,
   "metadata": {},
   "outputs": [
    {
     "data": {
      "text/plain": [
       "conv\n",
       "101    10\n",
       "104    10\n",
       "105    10\n",
       "106    10\n",
       "107    10\n",
       "108    10\n",
       "111    10\n",
       "112    10\n",
       "114    10\n",
       "116    10\n",
       "117    10\n",
       "120    10\n",
       "122    10\n",
       "123    10\n",
       "126    10\n",
       "128    10\n",
       "129    10\n",
       "131    10\n",
       "132    10\n",
       "133    10\n",
       "137    10\n",
       "138    10\n",
       "142    10\n",
       "143    11\n",
       "153    10\n",
       "156    10\n",
       "157    10\n",
       "158    10\n",
       "163    10\n",
       "174    10\n",
       "Name: trial, dtype: int64"
      ]
     },
     "execution_count": 61,
     "metadata": {},
     "output_type": "execute_result"
    }
   ],
   "source": [
    "dft"
   ]
  },
  {
   "cell_type": "code",
   "execution_count": 62,
   "metadata": {},
   "outputs": [
    {
     "data": {
      "text/plain": [
       "count    301.000000\n",
       "mean     489.318937\n",
       "std       59.304451\n",
       "min      123.000000\n",
       "25%      458.000000\n",
       "50%      492.000000\n",
       "75%      525.000000\n",
       "max      665.000000\n",
       "Name: token, dtype: float64"
      ]
     },
     "execution_count": 62,
     "metadata": {},
     "output_type": "execute_result"
    }
   ],
   "source": [
    "# Number of words per trial\n",
    "df.groupby(['conv', 'run', 'trial']).token.count().describe()"
   ]
  },
  {
   "cell_type": "code",
   "execution_count": 7,
   "metadata": {},
   "outputs": [
    {
     "data": {
      "text/plain": [
       "count    382.000000\n",
       "mean     244.298429\n",
       "std       62.107222\n",
       "min       58.000000\n",
       "25%      205.000000\n",
       "50%      244.500000\n",
       "75%      280.000000\n",
       "max      469.000000\n",
       "Name: token, dtype: float64"
      ]
     },
     "execution_count": 7,
     "metadata": {},
     "output_type": "execute_result"
    }
   ],
   "source": [
    "# Number of words per trial per speaker (how short turns are between speakers)\n",
    "df.groupby(['conv', 'run', 'trial', 'speaker']).token.count().describe()"
   ]
  },
  {
   "cell_type": "code",
   "execution_count": 64,
   "metadata": {},
   "outputs": [
    {
     "data": {
      "text/plain": [
       "conv\n",
       "101    4958\n",
       "104    4848\n",
       "105    5021\n",
       "106    4734\n",
       "107    5456\n",
       "108    5181\n",
       "111    4702\n",
       "112    5036\n",
       "114    5235\n",
       "116    4204\n",
       "117    5847\n",
       "120    4907\n",
       "122    4760\n",
       "123    4457\n",
       "126    5865\n",
       "128    4477\n",
       "129    5087\n",
       "131    4570\n",
       "132    4287\n",
       "133    3985\n",
       "137    5157\n",
       "138    5565\n",
       "142    4868\n",
       "143    4501\n",
       "153    5092\n",
       "156    5121\n",
       "157    5002\n",
       "158    4591\n",
       "163    4786\n",
       "174    4985\n",
       "Name: count, dtype: int64"
      ]
     },
     "execution_count": 64,
     "metadata": {},
     "output_type": "execute_result"
    }
   ],
   "source": [
    "# Number of words per conversations\n",
    "df.conv.value_counts(sort=False)"
   ]
  },
  {
   "cell_type": "code",
   "execution_count": 63,
   "metadata": {},
   "outputs": [
    {
     "data": {
      "text/plain": [
       "conv\n",
       "101    5\n",
       "104    5\n",
       "105    5\n",
       "106    5\n",
       "107    5\n",
       "108    5\n",
       "111    5\n",
       "112    5\n",
       "114    5\n",
       "116    5\n",
       "117    5\n",
       "120    5\n",
       "122    5\n",
       "123    5\n",
       "126    5\n",
       "128    5\n",
       "129    5\n",
       "131    5\n",
       "132    5\n",
       "133    5\n",
       "137    5\n",
       "138    5\n",
       "142    5\n",
       "143    5\n",
       "153    5\n",
       "156    5\n",
       "157    5\n",
       "158    5\n",
       "163    5\n",
       "174    5\n",
       "Name: run, dtype: int64"
      ]
     },
     "execution_count": 63,
     "metadata": {},
     "output_type": "execute_result"
    }
   ],
   "source": [
    "# Runs per conversation\n",
    "# Should be 5 runs per conversation\n",
    "df[['conv', 'run']].drop_duplicates().reset_index(drop=True).groupby('conv').run.count()"
   ]
  },
  {
   "attachments": {},
   "cell_type": "markdown",
   "metadata": {},
   "source": [
    "# Brain confounds"
   ]
  },
  {
   "cell_type": "code",
   "execution_count": 31,
   "metadata": {},
   "outputs": [],
   "source": [
    "CONFOUNDS = set(['a_comp_cor_00', 'a_comp_cor_01', 'a_comp_cor_02', 'a_comp_cor_03',\n",
    "'a_comp_cor_04','trans_x', 'trans_y', 'trans_z', 'rot_x', 'rot_y', 'rot_z',\n",
    "'cosine00'])"
   ]
  },
  {
   "cell_type": "code",
   "execution_count": 19,
   "metadata": {},
   "outputs": [
    {
     "data": {
      "text/plain": [
       "data/derivatives/fmriprep/sub-*/ses-1/func/sub-*_ses-1_desc-confounds_timeseries.tsv"
      ]
     },
     "execution_count": 19,
     "metadata": {},
     "output_type": "execute_result"
    }
   ],
   "source": [
    "path = Path(root='data/derivatives/fmriprep', datatype='func', sub='*', ses='1', desc='confounds', suffix='timeseries', ext='.tsv')\n",
    "path"
   ]
  },
  {
   "cell_type": "code",
   "execution_count": 22,
   "metadata": {},
   "outputs": [
    {
     "data": {
      "text/plain": [
       "739"
      ]
     },
     "execution_count": 22,
     "metadata": {},
     "output_type": "execute_result"
    }
   ],
   "source": [
    "files = glob(path.starstr(['sub', 'ses', 'datatype']))\n",
    "len(files)"
   ]
  },
  {
   "cell_type": "code",
   "execution_count": 33,
   "metadata": {},
   "outputs": [
    {
     "name": "stdout",
     "output_type": "stream",
     "text": [
      "data/derivatives/fmriprep/sub-101/ses-1/func/sub-101_ses-1_task-Conv_run-1_desc-confounds_timeseries.tsv\n",
      "1\n"
     ]
    }
   ],
   "source": [
    "badfiles = []\n",
    "for filepath in files:\n",
    "    df = pd.read_csv(filepath, sep='\\t', nrows=0)\n",
    "    if len(CONFOUNDS.intersection(set(df.columns.tolist()))) < len(CONFOUNDS):\n",
    "        print(filepath)\n",
    "        badfiles.append(filepath)\n",
    "print(len(badfiles))"
   ]
  },
  {
   "cell_type": "code",
   "execution_count": 34,
   "metadata": {},
   "outputs": [
    {
     "data": {
      "text/html": [
       "<div>\n",
       "<style scoped>\n",
       "    .dataframe tbody tr th:only-of-type {\n",
       "        vertical-align: middle;\n",
       "    }\n",
       "\n",
       "    .dataframe tbody tr th {\n",
       "        vertical-align: top;\n",
       "    }\n",
       "\n",
       "    .dataframe thead th {\n",
       "        text-align: right;\n",
       "    }\n",
       "</style>\n",
       "<table border=\"1\" class=\"dataframe\">\n",
       "  <thead>\n",
       "    <tr style=\"text-align: right;\">\n",
       "      <th></th>\n",
       "      <th>global_signal</th>\n",
       "      <th>global_signal_derivative1</th>\n",
       "      <th>global_signal_power2</th>\n",
       "      <th>global_signal_derivative1_power2</th>\n",
       "      <th>csf</th>\n",
       "      <th>csf_derivative1</th>\n",
       "      <th>csf_power2</th>\n",
       "      <th>csf_derivative1_power2</th>\n",
       "      <th>white_matter</th>\n",
       "      <th>white_matter_derivative1</th>\n",
       "      <th>...</th>\n",
       "      <th>motion_outlier17</th>\n",
       "      <th>motion_outlier18</th>\n",
       "      <th>motion_outlier19</th>\n",
       "      <th>motion_outlier20</th>\n",
       "      <th>motion_outlier21</th>\n",
       "      <th>motion_outlier22</th>\n",
       "      <th>motion_outlier23</th>\n",
       "      <th>motion_outlier24</th>\n",
       "      <th>motion_outlier25</th>\n",
       "      <th>motion_outlier26</th>\n",
       "    </tr>\n",
       "  </thead>\n",
       "  <tbody>\n",
       "    <tr>\n",
       "      <th>0</th>\n",
       "      <td>618.441162</td>\n",
       "      <td>NaN</td>\n",
       "      <td>382469.471237</td>\n",
       "      <td>NaN</td>\n",
       "      <td>426.450592</td>\n",
       "      <td>NaN</td>\n",
       "      <td>181860.107275</td>\n",
       "      <td>NaN</td>\n",
       "      <td>520.307416</td>\n",
       "      <td>NaN</td>\n",
       "      <td>...</td>\n",
       "      <td>0.0</td>\n",
       "      <td>0.0</td>\n",
       "      <td>0.0</td>\n",
       "      <td>0.0</td>\n",
       "      <td>0.0</td>\n",
       "      <td>0.0</td>\n",
       "      <td>0.0</td>\n",
       "      <td>0.0</td>\n",
       "      <td>0.0</td>\n",
       "      <td>0.0</td>\n",
       "    </tr>\n",
       "    <tr>\n",
       "      <th>1</th>\n",
       "      <td>617.029841</td>\n",
       "      <td>-1.411321</td>\n",
       "      <td>380725.824613</td>\n",
       "      <td>1.991828</td>\n",
       "      <td>422.433100</td>\n",
       "      <td>-4.017492</td>\n",
       "      <td>178449.723778</td>\n",
       "      <td>16.140243</td>\n",
       "      <td>519.439973</td>\n",
       "      <td>-0.867443</td>\n",
       "      <td>...</td>\n",
       "      <td>0.0</td>\n",
       "      <td>0.0</td>\n",
       "      <td>0.0</td>\n",
       "      <td>0.0</td>\n",
       "      <td>0.0</td>\n",
       "      <td>0.0</td>\n",
       "      <td>0.0</td>\n",
       "      <td>0.0</td>\n",
       "      <td>0.0</td>\n",
       "      <td>0.0</td>\n",
       "    </tr>\n",
       "    <tr>\n",
       "      <th>2</th>\n",
       "      <td>616.414654</td>\n",
       "      <td>-0.615187</td>\n",
       "      <td>379967.025821</td>\n",
       "      <td>0.378455</td>\n",
       "      <td>422.615533</td>\n",
       "      <td>0.182433</td>\n",
       "      <td>178603.888907</td>\n",
       "      <td>0.033282</td>\n",
       "      <td>519.557217</td>\n",
       "      <td>0.117244</td>\n",
       "      <td>...</td>\n",
       "      <td>0.0</td>\n",
       "      <td>0.0</td>\n",
       "      <td>0.0</td>\n",
       "      <td>0.0</td>\n",
       "      <td>0.0</td>\n",
       "      <td>0.0</td>\n",
       "      <td>0.0</td>\n",
       "      <td>0.0</td>\n",
       "      <td>0.0</td>\n",
       "      <td>0.0</td>\n",
       "    </tr>\n",
       "    <tr>\n",
       "      <th>3</th>\n",
       "      <td>614.814679</td>\n",
       "      <td>-1.599975</td>\n",
       "      <td>377997.089620</td>\n",
       "      <td>2.559920</td>\n",
       "      <td>421.459828</td>\n",
       "      <td>-1.155705</td>\n",
       "      <td>177628.386916</td>\n",
       "      <td>1.335654</td>\n",
       "      <td>518.813584</td>\n",
       "      <td>-0.743632</td>\n",
       "      <td>...</td>\n",
       "      <td>0.0</td>\n",
       "      <td>0.0</td>\n",
       "      <td>0.0</td>\n",
       "      <td>0.0</td>\n",
       "      <td>0.0</td>\n",
       "      <td>0.0</td>\n",
       "      <td>0.0</td>\n",
       "      <td>0.0</td>\n",
       "      <td>0.0</td>\n",
       "      <td>0.0</td>\n",
       "    </tr>\n",
       "    <tr>\n",
       "      <th>4</th>\n",
       "      <td>615.233214</td>\n",
       "      <td>0.418535</td>\n",
       "      <td>378511.907310</td>\n",
       "      <td>0.175171</td>\n",
       "      <td>419.217436</td>\n",
       "      <td>-2.242393</td>\n",
       "      <td>175743.258343</td>\n",
       "      <td>5.028325</td>\n",
       "      <td>518.718417</td>\n",
       "      <td>-0.095167</td>\n",
       "      <td>...</td>\n",
       "      <td>0.0</td>\n",
       "      <td>0.0</td>\n",
       "      <td>0.0</td>\n",
       "      <td>0.0</td>\n",
       "      <td>0.0</td>\n",
       "      <td>0.0</td>\n",
       "      <td>0.0</td>\n",
       "      <td>0.0</td>\n",
       "      <td>0.0</td>\n",
       "      <td>0.0</td>\n",
       "    </tr>\n",
       "    <tr>\n",
       "      <th>...</th>\n",
       "      <td>...</td>\n",
       "      <td>...</td>\n",
       "      <td>...</td>\n",
       "      <td>...</td>\n",
       "      <td>...</td>\n",
       "      <td>...</td>\n",
       "      <td>...</td>\n",
       "      <td>...</td>\n",
       "      <td>...</td>\n",
       "      <td>...</td>\n",
       "      <td>...</td>\n",
       "      <td>...</td>\n",
       "      <td>...</td>\n",
       "      <td>...</td>\n",
       "      <td>...</td>\n",
       "      <td>...</td>\n",
       "      <td>...</td>\n",
       "      <td>...</td>\n",
       "      <td>...</td>\n",
       "      <td>...</td>\n",
       "      <td>...</td>\n",
       "    </tr>\n",
       "    <tr>\n",
       "      <th>61</th>\n",
       "      <td>607.126079</td>\n",
       "      <td>1.027816</td>\n",
       "      <td>368602.075615</td>\n",
       "      <td>1.056407</td>\n",
       "      <td>418.517448</td>\n",
       "      <td>-0.579977</td>\n",
       "      <td>175156.854325</td>\n",
       "      <td>0.336373</td>\n",
       "      <td>516.491259</td>\n",
       "      <td>-0.837065</td>\n",
       "      <td>...</td>\n",
       "      <td>0.0</td>\n",
       "      <td>0.0</td>\n",
       "      <td>0.0</td>\n",
       "      <td>0.0</td>\n",
       "      <td>0.0</td>\n",
       "      <td>0.0</td>\n",
       "      <td>0.0</td>\n",
       "      <td>0.0</td>\n",
       "      <td>0.0</td>\n",
       "      <td>0.0</td>\n",
       "    </tr>\n",
       "    <tr>\n",
       "      <th>62</th>\n",
       "      <td>609.078719</td>\n",
       "      <td>1.952640</td>\n",
       "      <td>370976.885342</td>\n",
       "      <td>3.812802</td>\n",
       "      <td>420.560703</td>\n",
       "      <td>2.043255</td>\n",
       "      <td>176871.304556</td>\n",
       "      <td>4.174889</td>\n",
       "      <td>517.687123</td>\n",
       "      <td>1.195864</td>\n",
       "      <td>...</td>\n",
       "      <td>0.0</td>\n",
       "      <td>0.0</td>\n",
       "      <td>0.0</td>\n",
       "      <td>0.0</td>\n",
       "      <td>0.0</td>\n",
       "      <td>0.0</td>\n",
       "      <td>0.0</td>\n",
       "      <td>0.0</td>\n",
       "      <td>1.0</td>\n",
       "      <td>0.0</td>\n",
       "    </tr>\n",
       "    <tr>\n",
       "      <th>63</th>\n",
       "      <td>608.902201</td>\n",
       "      <td>-0.176517</td>\n",
       "      <td>370761.890736</td>\n",
       "      <td>0.031158</td>\n",
       "      <td>413.767731</td>\n",
       "      <td>-6.792971</td>\n",
       "      <td>171203.735356</td>\n",
       "      <td>46.144461</td>\n",
       "      <td>517.119241</td>\n",
       "      <td>-0.567882</td>\n",
       "      <td>...</td>\n",
       "      <td>0.0</td>\n",
       "      <td>0.0</td>\n",
       "      <td>0.0</td>\n",
       "      <td>0.0</td>\n",
       "      <td>0.0</td>\n",
       "      <td>0.0</td>\n",
       "      <td>0.0</td>\n",
       "      <td>0.0</td>\n",
       "      <td>0.0</td>\n",
       "      <td>0.0</td>\n",
       "    </tr>\n",
       "    <tr>\n",
       "      <th>64</th>\n",
       "      <td>607.437951</td>\n",
       "      <td>-1.464250</td>\n",
       "      <td>368980.864067</td>\n",
       "      <td>2.144030</td>\n",
       "      <td>412.636644</td>\n",
       "      <td>-1.131087</td>\n",
       "      <td>170268.999840</td>\n",
       "      <td>1.279359</td>\n",
       "      <td>517.380701</td>\n",
       "      <td>0.261460</td>\n",
       "      <td>...</td>\n",
       "      <td>0.0</td>\n",
       "      <td>0.0</td>\n",
       "      <td>0.0</td>\n",
       "      <td>0.0</td>\n",
       "      <td>0.0</td>\n",
       "      <td>0.0</td>\n",
       "      <td>0.0</td>\n",
       "      <td>0.0</td>\n",
       "      <td>0.0</td>\n",
       "      <td>0.0</td>\n",
       "    </tr>\n",
       "    <tr>\n",
       "      <th>65</th>\n",
       "      <td>611.756504</td>\n",
       "      <td>4.318554</td>\n",
       "      <td>374246.020680</td>\n",
       "      <td>18.649905</td>\n",
       "      <td>416.859135</td>\n",
       "      <td>4.222492</td>\n",
       "      <td>173771.538776</td>\n",
       "      <td>17.829435</td>\n",
       "      <td>518.833695</td>\n",
       "      <td>1.452994</td>\n",
       "      <td>...</td>\n",
       "      <td>0.0</td>\n",
       "      <td>0.0</td>\n",
       "      <td>0.0</td>\n",
       "      <td>0.0</td>\n",
       "      <td>0.0</td>\n",
       "      <td>0.0</td>\n",
       "      <td>0.0</td>\n",
       "      <td>0.0</td>\n",
       "      <td>0.0</td>\n",
       "      <td>1.0</td>\n",
       "    </tr>\n",
       "  </tbody>\n",
       "</table>\n",
       "<p>66 rows × 101 columns</p>\n",
       "</div>"
      ],
      "text/plain": [
       "    global_signal  global_signal_derivative1  global_signal_power2   \n",
       "0      618.441162                        NaN         382469.471237  \\\n",
       "1      617.029841                  -1.411321         380725.824613   \n",
       "2      616.414654                  -0.615187         379967.025821   \n",
       "3      614.814679                  -1.599975         377997.089620   \n",
       "4      615.233214                   0.418535         378511.907310   \n",
       "..            ...                        ...                   ...   \n",
       "61     607.126079                   1.027816         368602.075615   \n",
       "62     609.078719                   1.952640         370976.885342   \n",
       "63     608.902201                  -0.176517         370761.890736   \n",
       "64     607.437951                  -1.464250         368980.864067   \n",
       "65     611.756504                   4.318554         374246.020680   \n",
       "\n",
       "    global_signal_derivative1_power2         csf  csf_derivative1   \n",
       "0                                NaN  426.450592              NaN  \\\n",
       "1                           1.991828  422.433100        -4.017492   \n",
       "2                           0.378455  422.615533         0.182433   \n",
       "3                           2.559920  421.459828        -1.155705   \n",
       "4                           0.175171  419.217436        -2.242393   \n",
       "..                               ...         ...              ...   \n",
       "61                          1.056407  418.517448        -0.579977   \n",
       "62                          3.812802  420.560703         2.043255   \n",
       "63                          0.031158  413.767731        -6.792971   \n",
       "64                          2.144030  412.636644        -1.131087   \n",
       "65                         18.649905  416.859135         4.222492   \n",
       "\n",
       "       csf_power2  csf_derivative1_power2  white_matter   \n",
       "0   181860.107275                     NaN    520.307416  \\\n",
       "1   178449.723778               16.140243    519.439973   \n",
       "2   178603.888907                0.033282    519.557217   \n",
       "3   177628.386916                1.335654    518.813584   \n",
       "4   175743.258343                5.028325    518.718417   \n",
       "..            ...                     ...           ...   \n",
       "61  175156.854325                0.336373    516.491259   \n",
       "62  176871.304556                4.174889    517.687123   \n",
       "63  171203.735356               46.144461    517.119241   \n",
       "64  170268.999840                1.279359    517.380701   \n",
       "65  173771.538776               17.829435    518.833695   \n",
       "\n",
       "    white_matter_derivative1  ...  motion_outlier17  motion_outlier18   \n",
       "0                        NaN  ...               0.0               0.0  \\\n",
       "1                  -0.867443  ...               0.0               0.0   \n",
       "2                   0.117244  ...               0.0               0.0   \n",
       "3                  -0.743632  ...               0.0               0.0   \n",
       "4                  -0.095167  ...               0.0               0.0   \n",
       "..                       ...  ...               ...               ...   \n",
       "61                 -0.837065  ...               0.0               0.0   \n",
       "62                  1.195864  ...               0.0               0.0   \n",
       "63                 -0.567882  ...               0.0               0.0   \n",
       "64                  0.261460  ...               0.0               0.0   \n",
       "65                  1.452994  ...               0.0               0.0   \n",
       "\n",
       "    motion_outlier19  motion_outlier20  motion_outlier21  motion_outlier22   \n",
       "0                0.0               0.0               0.0               0.0  \\\n",
       "1                0.0               0.0               0.0               0.0   \n",
       "2                0.0               0.0               0.0               0.0   \n",
       "3                0.0               0.0               0.0               0.0   \n",
       "4                0.0               0.0               0.0               0.0   \n",
       "..               ...               ...               ...               ...   \n",
       "61               0.0               0.0               0.0               0.0   \n",
       "62               0.0               0.0               0.0               0.0   \n",
       "63               0.0               0.0               0.0               0.0   \n",
       "64               0.0               0.0               0.0               0.0   \n",
       "65               0.0               0.0               0.0               0.0   \n",
       "\n",
       "    motion_outlier23  motion_outlier24  motion_outlier25  motion_outlier26  \n",
       "0                0.0               0.0               0.0               0.0  \n",
       "1                0.0               0.0               0.0               0.0  \n",
       "2                0.0               0.0               0.0               0.0  \n",
       "3                0.0               0.0               0.0               0.0  \n",
       "4                0.0               0.0               0.0               0.0  \n",
       "..               ...               ...               ...               ...  \n",
       "61               0.0               0.0               0.0               0.0  \n",
       "62               0.0               0.0               1.0               0.0  \n",
       "63               0.0               0.0               0.0               0.0  \n",
       "64               0.0               0.0               0.0               0.0  \n",
       "65               0.0               0.0               0.0               1.0  \n",
       "\n",
       "[66 rows x 101 columns]"
      ]
     },
     "execution_count": 34,
     "metadata": {},
     "output_type": "execute_result"
    }
   ],
   "source": [
    "df = pd.read_csv('data/derivatives/fmriprep/sub-101/ses-1/func/sub-101_ses-1_task-Conv_run-1_desc-confounds_timeseries.tsv', sep='\\t')\n",
    "df"
   ]
  },
  {
   "cell_type": "code",
   "execution_count": 42,
   "metadata": {},
   "outputs": [
    {
     "data": {
      "text/plain": [
       "[]"
      ]
     },
     "execution_count": 42,
     "metadata": {},
     "output_type": "execute_result"
    }
   ],
   "source": [
    "[c for c in df.columns.tolist() if 'cosine' in c]"
   ]
  },
  {
   "cell_type": "code",
   "execution_count": 58,
   "metadata": {},
   "outputs": [
    {
     "name": "stdout",
     "output_type": "stream",
     "text": [
      "-r--r--r--. 1 ltsoi g_tamir  16M Sep 11  2022 data/sub-101/ses-1/func/sub-101_ses-1_task-Conv_run-01_bold.nii.gz\n",
      "-r--r--r--. 1 ltsoi g_tamir 128M Sep 11  2022 data/sub-101/ses-1/func/sub-101_ses-1_task-Conv_run-02_bold.nii.gz\n",
      "-r--r--r--. 1 ltsoi g_tamir 127M Sep 11  2022 data/sub-101/ses-1/func/sub-101_ses-1_task-Conv_run-03_bold.nii.gz\n",
      "-r--r--r--. 1 ltsoi g_tamir 127M Sep 11  2022 data/sub-101/ses-1/func/sub-101_ses-1_task-Conv_run-04_bold.nii.gz\n",
      "-r--r--r--. 1 ltsoi g_tamir 127M Sep 11  2022 data/sub-101/ses-1/func/sub-101_ses-1_task-Conv_run-05_bold.nii.gz\n"
     ]
    }
   ],
   "source": [
    "!ls -lhtr data/sub-101/ses-1/func/*task-Conv*gz"
   ]
  },
  {
   "cell_type": "code",
   "execution_count": 96,
   "metadata": {},
   "outputs": [
    {
     "name": "stdout",
     "output_type": "stream",
     "text": [
      "109 1 (74, 74, 46, 544)\n",
      "109 2 (74, 74, 46, 544)\n",
      "109 3 (74, 74, 46, 544)\n",
      "109 4 (74, 74, 46, 544)\n",
      "109 5 (74, 74, 46, 544)\n"
     ]
    }
   ],
   "source": [
    "sub = 109\n",
    "for run in range(1, 6):\n",
    "    img = nib.load(f'data/sub-{sub:03d}/ses-1/func/sub-{sub:03d}_ses-1_task-Conv_run-{run:02d}_bold.nii.gz')\n",
    "    print(sub, run, img.shape)\n",
    "    del img"
   ]
  },
  {
   "cell_type": "code",
   "execution_count": 52,
   "metadata": {},
   "outputs": [
    {
     "name": "stdout",
     "output_type": "stream",
     "text": [
      "-rw-rw-r--. 1 ltsoi games 216M May 16  2022 data/derivatives/fmriprep/sub-101/ses-1/func/sub-101_ses-1_task-Conv_run-5_space-MNI152NLin2009cAsym_desc-preproc_bold.nii.gz\n",
      "-rw-rw-r--. 1 ltsoi games 215M May 16  2022 data/derivatives/fmriprep/sub-101/ses-1/func/sub-101_ses-1_task-Conv_run-4_space-MNI152NLin2009cAsym_desc-preproc_bold.nii.gz\n",
      "-rw-rw-r--. 1 ltsoi games 215M May 16  2022 data/derivatives/fmriprep/sub-101/ses-1/func/sub-101_ses-1_task-Conv_run-3_space-MNI152NLin2009cAsym_desc-preproc_bold.nii.gz\n",
      "-rw-rw-r--. 1 ltsoi games 216M May 16  2022 data/derivatives/fmriprep/sub-101/ses-1/func/sub-101_ses-1_task-Conv_run-2_space-MNI152NLin2009cAsym_desc-preproc_bold.nii.gz\n",
      "-rw-rw-r--. 1 ltsoi games  26M May 16  2022 data/derivatives/fmriprep/sub-101/ses-1/func/sub-101_ses-1_task-Conv_run-1_space-MNI152NLin2009cAsym_desc-preproc_bold.nii.gz\n"
     ]
    }
   ],
   "source": [
    "!ls -lhtr data/derivatives/fmriprep/sub-101/ses-1/func/sub-101_ses-1_task-Conv_run-*_space-MNI152NLin2009cAsym_desc-preproc_bold.nii.gz"
   ]
  },
  {
   "attachments": {},
   "cell_type": "markdown",
   "metadata": {},
   "source": [
    "# Atlases"
   ]
  },
  {
   "cell_type": "code",
   "execution_count": 30,
   "metadata": {},
   "outputs": [],
   "source": [
    "from nilearn import datasets, image"
   ]
  },
  {
   "cell_type": "code",
   "execution_count": 24,
   "metadata": {},
   "outputs": [],
   "source": [
    "from neuromaps.datasets import fetch_mni152"
   ]
  },
  {
   "cell_type": "code",
   "execution_count": 61,
   "metadata": {},
   "outputs": [
    {
     "data": {
      "text/plain": [
       "(74, 74, 46, 544)"
      ]
     },
     "execution_count": 61,
     "metadata": {},
     "output_type": "execute_result"
    }
   ],
   "source": [
    "# this is original data\n",
    "nib.load('data/sub-104/ses-1/func/sub-104_ses-1_task-Conv_run-03_bold.nii.gz').shape"
   ]
  },
  {
   "cell_type": "code",
   "execution_count": 62,
   "metadata": {},
   "outputs": [
    {
     "data": {
      "text/plain": [
       "(65, 77, 65)"
      ]
     },
     "execution_count": 62,
     "metadata": {},
     "output_type": "execute_result"
    }
   ],
   "source": [
    "# this is bold mask from this space\n",
    "our_bm = nib.load('data/derivatives/fmriprep/sub-104/ses-1/func/sub-104_ses-1_task-Conv_run-3_space-MNI152NLin2009cAsym_desc-brain_mask.nii.gz')\n",
    "our_bm.shape"
   ]
  },
  {
   "cell_type": "code",
   "execution_count": 63,
   "metadata": {},
   "outputs": [
    {
     "data": {
      "text/plain": [
       "(65, 77, 65, 544)"
      ]
     },
     "execution_count": 63,
     "metadata": {},
     "output_type": "execute_result"
    }
   ],
   "source": [
    "# this is bold data from this space\n",
    "our_bold = nib.load('data/derivatives/fmriprep/sub-104/ses-1/func/sub-104_ses-1_task-Conv_run-3_space-MNI152NLin2009cAsym_desc-preproc_bold.nii.gz')\n",
    "our_bold.shape"
   ]
  },
  {
   "cell_type": "code",
   "execution_count": 64,
   "metadata": {},
   "outputs": [
    {
     "data": {
      "text/plain": [
       "(65, 77, 65)"
      ]
     },
     "execution_count": 64,
     "metadata": {},
     "output_type": "execute_result"
    }
   ],
   "source": [
    "mni_atlases = fetch_mni152(density='3mm')\n",
    "mni_atlas = nib.load(mni_atlases['2009cAsym_brainmask'])\n",
    "mni_atlas.shape"
   ]
  },
  {
   "cell_type": "code",
   "execution_count": 54,
   "metadata": {},
   "outputs": [
    {
     "name": "stdout",
     "output_type": "stream",
     "text": [
      "(array([0., 1.]), array([242071,  83254]))\n",
      "(array([0.        , 1.00000006]), array([255445,  69880]))\n"
     ]
    }
   ],
   "source": [
    "print(np.unique(our_bm.get_fdata(), return_counts=True))  # (array([0., 1.]), array([246755,  78570]))\n",
    "print(np.unique(mni_atlas.get_fdata(), return_counts=True))"
   ]
  },
  {
   "cell_type": "code",
   "execution_count": null,
   "metadata": {},
   "outputs": [],
   "source": [
    "img = nib.Nifti1Image(data, np.eye(4))"
   ]
  },
  {
   "cell_type": "code",
   "execution_count": 52,
   "metadata": {},
   "outputs": [
    {
     "data": {
      "text/plain": [
       "array([[   3. ,    0. ,    0. ,  -96.5],\n",
       "       [   0. ,    3. ,    0. , -132.5],\n",
       "       [   0. ,    0. ,    3. ,  -78.5],\n",
       "       [   0. ,    0. ,    0. ,    1. ]])"
      ]
     },
     "execution_count": 52,
     "metadata": {},
     "output_type": "execute_result"
    }
   ],
   "source": [
    "our_bm.affine"
   ]
  },
  {
   "cell_type": "code",
   "execution_count": 51,
   "metadata": {},
   "outputs": [
    {
     "data": {
      "text/plain": [
       "array([[   3.,    0.,    0.,  -96.],\n",
       "       [   0.,    3.,    0., -132.],\n",
       "       [   0.,    0.,    3.,  -78.],\n",
       "       [   0.,    0.,    0.,    1.]])"
      ]
     },
     "execution_count": 51,
     "metadata": {},
     "output_type": "execute_result"
    }
   ],
   "source": [
    "mni_atlas.affine"
   ]
  },
  {
   "cell_type": "code",
   "execution_count": 58,
   "metadata": {},
   "outputs": [
    {
     "data": {
      "text/plain": [
       "array([[   3. ,    0. ,    0. ,  -96.5],\n",
       "       [   0. ,    3. ,    0. , -132.5],\n",
       "       [   0. ,    0. ,    3. ,  -78.5],\n",
       "       [   0. ,    0. ,    0. ,    1. ]])"
      ]
     },
     "execution_count": 58,
     "metadata": {},
     "output_type": "execute_result"
    }
   ],
   "source": [
    "our_bold.affine"
   ]
  },
  {
   "cell_type": "code",
   "execution_count": 118,
   "metadata": {},
   "outputs": [
    {
     "data": {
      "text/plain": [
       "(182, 218, 182)"
      ]
     },
     "execution_count": 118,
     "metadata": {},
     "output_type": "execute_result"
    }
   ],
   "source": [
    "atlas = datasets.fetch_atlas_schaefer_2018(n_rois=100, yeo_networks=7, resolution_mm=1)\n",
    "atlasimg = nib.load(atlas['maps'])\n",
    "atlasimg.shape"
   ]
  },
  {
   "cell_type": "code",
   "execution_count": 119,
   "metadata": {},
   "outputs": [],
   "source": [
    "records = []\n",
    "for item in atlas['labels']:\n",
    "    records.append(item.decode().split('_')[1:])\n",
    "df = pd.DataFrame(records, columns=['hemi', 'network', 'area', 'n'])"
   ]
  },
  {
   "cell_type": "code",
   "execution_count": 122,
   "metadata": {},
   "outputs": [
    {
     "data": {
      "text/plain": [
       "network\n",
       "Default        24\n",
       "Vis            17\n",
       "DorsAttn       15\n",
       "SomMot         14\n",
       "Cont           13\n",
       "SalVentAttn    12\n",
       "Limbic          5\n",
       "Name: count, dtype: int64"
      ]
     },
     "execution_count": 122,
     "metadata": {},
     "output_type": "execute_result"
    }
   ],
   "source": [
    "df.network.value_counts()"
   ]
  },
  {
   "cell_type": "code",
   "execution_count": 120,
   "metadata": {},
   "outputs": [
    {
     "data": {
      "text/html": [
       "<div>\n",
       "<style scoped>\n",
       "    .dataframe tbody tr th:only-of-type {\n",
       "        vertical-align: middle;\n",
       "    }\n",
       "\n",
       "    .dataframe tbody tr th {\n",
       "        vertical-align: top;\n",
       "    }\n",
       "\n",
       "    .dataframe thead th {\n",
       "        text-align: right;\n",
       "    }\n",
       "</style>\n",
       "<table border=\"1\" class=\"dataframe\">\n",
       "  <thead>\n",
       "    <tr style=\"text-align: right;\">\n",
       "      <th></th>\n",
       "      <th></th>\n",
       "      <th>hemi</th>\n",
       "      <th>n</th>\n",
       "    </tr>\n",
       "    <tr>\n",
       "      <th>network</th>\n",
       "      <th>area</th>\n",
       "      <th></th>\n",
       "      <th></th>\n",
       "    </tr>\n",
       "  </thead>\n",
       "  <tbody>\n",
       "    <tr>\n",
       "      <th rowspan=\"5\" valign=\"top\">Cont</th>\n",
       "      <th>Cing</th>\n",
       "      <td>2</td>\n",
       "      <td>2</td>\n",
       "    </tr>\n",
       "    <tr>\n",
       "      <th>PFCl</th>\n",
       "      <td>5</td>\n",
       "      <td>5</td>\n",
       "    </tr>\n",
       "    <tr>\n",
       "      <th>PFCmp</th>\n",
       "      <td>1</td>\n",
       "      <td>1</td>\n",
       "    </tr>\n",
       "    <tr>\n",
       "      <th>Par</th>\n",
       "      <td>3</td>\n",
       "      <td>3</td>\n",
       "    </tr>\n",
       "    <tr>\n",
       "      <th>pCun</th>\n",
       "      <td>2</td>\n",
       "      <td>2</td>\n",
       "    </tr>\n",
       "    <tr>\n",
       "      <th rowspan=\"6\" valign=\"top\">Default</th>\n",
       "      <th>PFC</th>\n",
       "      <td>7</td>\n",
       "      <td>7</td>\n",
       "    </tr>\n",
       "    <tr>\n",
       "      <th>PFCdPFCm</th>\n",
       "      <td>3</td>\n",
       "      <td>3</td>\n",
       "    </tr>\n",
       "    <tr>\n",
       "      <th>PFCv</th>\n",
       "      <td>2</td>\n",
       "      <td>2</td>\n",
       "    </tr>\n",
       "    <tr>\n",
       "      <th>Par</th>\n",
       "      <td>3</td>\n",
       "      <td>3</td>\n",
       "    </tr>\n",
       "    <tr>\n",
       "      <th>Temp</th>\n",
       "      <td>5</td>\n",
       "      <td>5</td>\n",
       "    </tr>\n",
       "    <tr>\n",
       "      <th>pCunPCC</th>\n",
       "      <td>4</td>\n",
       "      <td>4</td>\n",
       "    </tr>\n",
       "    <tr>\n",
       "      <th rowspan=\"3\" valign=\"top\">DorsAttn</th>\n",
       "      <th>FEF</th>\n",
       "      <td>2</td>\n",
       "      <td>2</td>\n",
       "    </tr>\n",
       "    <tr>\n",
       "      <th>Post</th>\n",
       "      <td>11</td>\n",
       "      <td>11</td>\n",
       "    </tr>\n",
       "    <tr>\n",
       "      <th>PrCv</th>\n",
       "      <td>2</td>\n",
       "      <td>2</td>\n",
       "    </tr>\n",
       "    <tr>\n",
       "      <th rowspan=\"2\" valign=\"top\">Limbic</th>\n",
       "      <th>OFC</th>\n",
       "      <td>2</td>\n",
       "      <td>2</td>\n",
       "    </tr>\n",
       "    <tr>\n",
       "      <th>TempPole</th>\n",
       "      <td>3</td>\n",
       "      <td>3</td>\n",
       "    </tr>\n",
       "    <tr>\n",
       "      <th rowspan=\"5\" valign=\"top\">SalVentAttn</th>\n",
       "      <th>FrOperIns</th>\n",
       "      <td>3</td>\n",
       "      <td>3</td>\n",
       "    </tr>\n",
       "    <tr>\n",
       "      <th>Med</th>\n",
       "      <td>5</td>\n",
       "      <td>5</td>\n",
       "    </tr>\n",
       "    <tr>\n",
       "      <th>PFCl</th>\n",
       "      <td>1</td>\n",
       "      <td>1</td>\n",
       "    </tr>\n",
       "    <tr>\n",
       "      <th>ParOper</th>\n",
       "      <td>1</td>\n",
       "      <td>1</td>\n",
       "    </tr>\n",
       "    <tr>\n",
       "      <th>TempOccPar</th>\n",
       "      <td>2</td>\n",
       "      <td>2</td>\n",
       "    </tr>\n",
       "    <tr>\n",
       "      <th rowspan=\"8\" valign=\"top\">SomMot</th>\n",
       "      <th>1</th>\n",
       "      <td>2</td>\n",
       "      <td>0</td>\n",
       "    </tr>\n",
       "    <tr>\n",
       "      <th>2</th>\n",
       "      <td>2</td>\n",
       "      <td>0</td>\n",
       "    </tr>\n",
       "    <tr>\n",
       "      <th>3</th>\n",
       "      <td>2</td>\n",
       "      <td>0</td>\n",
       "    </tr>\n",
       "    <tr>\n",
       "      <th>4</th>\n",
       "      <td>2</td>\n",
       "      <td>0</td>\n",
       "    </tr>\n",
       "    <tr>\n",
       "      <th>5</th>\n",
       "      <td>2</td>\n",
       "      <td>0</td>\n",
       "    </tr>\n",
       "    <tr>\n",
       "      <th>6</th>\n",
       "      <td>2</td>\n",
       "      <td>0</td>\n",
       "    </tr>\n",
       "    <tr>\n",
       "      <th>7</th>\n",
       "      <td>1</td>\n",
       "      <td>0</td>\n",
       "    </tr>\n",
       "    <tr>\n",
       "      <th>8</th>\n",
       "      <td>1</td>\n",
       "      <td>0</td>\n",
       "    </tr>\n",
       "    <tr>\n",
       "      <th rowspan=\"9\" valign=\"top\">Vis</th>\n",
       "      <th>1</th>\n",
       "      <td>2</td>\n",
       "      <td>0</td>\n",
       "    </tr>\n",
       "    <tr>\n",
       "      <th>2</th>\n",
       "      <td>2</td>\n",
       "      <td>0</td>\n",
       "    </tr>\n",
       "    <tr>\n",
       "      <th>3</th>\n",
       "      <td>2</td>\n",
       "      <td>0</td>\n",
       "    </tr>\n",
       "    <tr>\n",
       "      <th>4</th>\n",
       "      <td>2</td>\n",
       "      <td>0</td>\n",
       "    </tr>\n",
       "    <tr>\n",
       "      <th>5</th>\n",
       "      <td>2</td>\n",
       "      <td>0</td>\n",
       "    </tr>\n",
       "    <tr>\n",
       "      <th>6</th>\n",
       "      <td>2</td>\n",
       "      <td>0</td>\n",
       "    </tr>\n",
       "    <tr>\n",
       "      <th>7</th>\n",
       "      <td>2</td>\n",
       "      <td>0</td>\n",
       "    </tr>\n",
       "    <tr>\n",
       "      <th>8</th>\n",
       "      <td>2</td>\n",
       "      <td>0</td>\n",
       "    </tr>\n",
       "    <tr>\n",
       "      <th>9</th>\n",
       "      <td>1</td>\n",
       "      <td>0</td>\n",
       "    </tr>\n",
       "  </tbody>\n",
       "</table>\n",
       "</div>"
      ],
      "text/plain": [
       "                        hemi   n\n",
       "network     area                \n",
       "Cont        Cing           2   2\n",
       "            PFCl           5   5\n",
       "            PFCmp          1   1\n",
       "            Par            3   3\n",
       "            pCun           2   2\n",
       "Default     PFC            7   7\n",
       "            PFCdPFCm       3   3\n",
       "            PFCv           2   2\n",
       "            Par            3   3\n",
       "            Temp           5   5\n",
       "            pCunPCC        4   4\n",
       "DorsAttn    FEF            2   2\n",
       "            Post          11  11\n",
       "            PrCv           2   2\n",
       "Limbic      OFC            2   2\n",
       "            TempPole       3   3\n",
       "SalVentAttn FrOperIns      3   3\n",
       "            Med            5   5\n",
       "            PFCl           1   1\n",
       "            ParOper        1   1\n",
       "            TempOccPar     2   2\n",
       "SomMot      1              2   0\n",
       "            2              2   0\n",
       "            3              2   0\n",
       "            4              2   0\n",
       "            5              2   0\n",
       "            6              2   0\n",
       "            7              1   0\n",
       "            8              1   0\n",
       "Vis         1              2   0\n",
       "            2              2   0\n",
       "            3              2   0\n",
       "            4              2   0\n",
       "            5              2   0\n",
       "            6              2   0\n",
       "            7              2   0\n",
       "            8              2   0\n",
       "            9              1   0"
      ]
     },
     "execution_count": 120,
     "metadata": {},
     "output_type": "execute_result"
    }
   ],
   "source": [
    "df.groupby(['network', 'area']).count()"
   ]
  },
  {
   "cell_type": "code",
   "execution_count": 96,
   "metadata": {},
   "outputs": [
    {
     "data": {
      "text/plain": [
       "(65, 77, 65)"
      ]
     },
     "execution_count": 96,
     "metadata": {},
     "output_type": "execute_result"
    }
   ],
   "source": [
    "new_schaefer = image.resample_img(atlas['maps'],\n",
    "                                  clip=False,\n",
    "                                  interpolation='nearest',\n",
    "                                  target_affine=mni_atlas.affine,\n",
    "                                  target_shape=mni_atlas.shape)\n",
    "new_schaefer.shape"
   ]
  },
  {
   "cell_type": "code",
   "execution_count": null,
   "metadata": {},
   "outputs": [],
   "source": [
    "nib.save(new_schaefer, 'newschaefer.nii.gz')"
   ]
  },
  {
   "cell_type": "code",
   "execution_count": 86,
   "metadata": {},
   "outputs": [
    {
     "data": {
      "text/plain": [
       "((91, 109, 91),\n",
       " ['LH_IFGorb',\n",
       "  'LH_IFG',\n",
       "  'LH_MFG',\n",
       "  'LH_AntTemp',\n",
       "  'LH_PostTemp',\n",
       "  'RH_IFGorb',\n",
       "  'RH_IFG',\n",
       "  'RH_MFG',\n",
       "  'RH_AntTemp',\n",
       "  'RH_PostTemp'])"
      ]
     },
     "execution_count": 86,
     "metadata": {},
     "output_type": "execute_result"
    }
   ],
   "source": [
    "atlas = nib.load('allParcels_language_SN220.nii')\n",
    "labels = pd.read_csv('allParcels_language_SN220.txt', header=None).iloc[:, 0].tolist()\n",
    "atlas.shape, labels"
   ]
  },
  {
   "cell_type": "code",
   "execution_count": 88,
   "metadata": {},
   "outputs": [
    {
     "data": {
      "text/plain": [
       "(65, 77, 65)"
      ]
     },
     "execution_count": 88,
     "metadata": {},
     "output_type": "execute_result"
    }
   ],
   "source": [
    "new_evlab = image.resample_img('allParcels_language_SN220.nii',\n",
    "                               clip=False,\n",
    "                               interpolation='nearest',\n",
    "                               target_affine=mni_atlas.affine,\n",
    "                               target_shape=mni_atlas.shape)\n",
    "new_evlab.shape"
   ]
  },
  {
   "cell_type": "code",
   "execution_count": 3,
   "metadata": {},
   "outputs": [
    {
     "data": {
      "text/plain": [
       "(74, 74, 46, 544)"
      ]
     },
     "execution_count": 3,
     "metadata": {},
     "output_type": "execute_result"
    }
   ],
   "source": [
    "sub, run = 104, 1\n",
    "img = nib.load(f'data/sub-{sub:03d}/ses-1/func/sub-{sub:03d}_ses-1_task-Conv_run-{run:02d}_bold.nii.gz')\n",
    "img.shape"
   ]
  },
  {
   "attachments": {},
   "cell_type": "markdown",
   "metadata": {},
   "source": [
    "our data shape is 74, 74, 46 which is from 2.5 × 2.5 × 2.75 mm voxels\n",
    "\n",
    "- https://andysbrainbook.readthedocs.io/en/latest/FrequentlyAskedQuestions/FrequentlyAskedQuestions.html\n",
    "\n",
    "```\n",
    "module load afni\n",
    "\n",
    "# resample the 1 mm atlas to 3 mm \n",
    "3dresample -input Schaefer2018_1000Parcels_Kong2022_17Networks_order_FSLMNI152_1mm.nii.gz \\\n",
    "            -prefix Schaefer2018_1000Parcels_Kong2022_17Networks_order_FSLMNI152_3mm.nii.gz \\\n",
    "            -dxyz 2.5 2.5 2.75 -rmode NN\n",
    "\n",
    "```"
   ]
  },
  {
   "cell_type": "markdown",
   "metadata": {},
   "source": [
    "# HRF"
   ]
  },
  {
   "cell_type": "code",
   "execution_count": 2,
   "metadata": {},
   "outputs": [],
   "source": [
    "from nilearn.glm.first_level import glover_hrf\n",
    "from constants import TR"
   ]
  },
  {
   "cell_type": "code",
   "execution_count": 28,
   "metadata": {},
   "outputs": [
    {
     "name": "stdout",
     "output_type": "stream",
     "text": [
      "\u001b[0;31mSignature:\u001b[0m \u001b[0mglover_hrf\u001b[0m\u001b[0;34m(\u001b[0m\u001b[0mtr\u001b[0m\u001b[0;34m,\u001b[0m \u001b[0moversampling\u001b[0m\u001b[0;34m=\u001b[0m\u001b[0;36m50\u001b[0m\u001b[0;34m,\u001b[0m \u001b[0mtime_length\u001b[0m\u001b[0;34m=\u001b[0m\u001b[0;36m32.0\u001b[0m\u001b[0;34m,\u001b[0m \u001b[0monset\u001b[0m\u001b[0;34m=\u001b[0m\u001b[0;36m0.0\u001b[0m\u001b[0;34m)\u001b[0m\u001b[0;34m\u001b[0m\u001b[0;34m\u001b[0m\u001b[0m\n",
      "\u001b[0;31mDocstring:\u001b[0m\n",
      "Implement the Glover hrf model.\n",
      "\n",
      "Parameters\n",
      "----------\n",
      "tr : float\n",
      "    Scan repeat time, in seconds.\n",
      "\n",
      "oversampling : int, optional\n",
      "    Temporal oversampling factor. Default=50.\n",
      "\n",
      "time_length : float, optional\n",
      "    hrf kernel length, in seconds. Default=32.\n",
      "\n",
      "onset : float, optional\n",
      "    Onset of the response. Default=0.\n",
      "\n",
      "Returns\n",
      "-------\n",
      "hrf : array of shape(length / tr * oversampling, dtype=float)\n",
      "     hrf sampling on the oversampled time grid.\n",
      "\u001b[0;31mFile:\u001b[0m      /scratch/zzada/cache/conda/envs/fb2b/lib/python3.10/site-packages/nilearn/glm/first_level/hemodynamic_models.py\n",
      "\u001b[0;31mType:\u001b[0m      function"
     ]
    }
   ],
   "source": [
    "?glover_hrf"
   ]
  },
  {
   "cell_type": "code",
   "execution_count": 33,
   "metadata": {},
   "outputs": [
    {
     "data": {
      "text/plain": [
       "(13,)"
      ]
     },
     "execution_count": 33,
     "metadata": {},
     "output_type": "execute_result"
    }
   ],
   "source": [
    "hrf = glover_hrf(TR, oversampling=1, time_length=20)\n",
    "hrf.shape"
   ]
  },
  {
   "cell_type": "code",
   "execution_count": 34,
   "metadata": {},
   "outputs": [
    {
     "data": {
      "text/plain": [
       "[<matplotlib.lines.Line2D at 0x7f5e0e70b9d0>]"
      ]
     },
     "execution_count": 34,
     "metadata": {},
     "output_type": "execute_result"
    },
    {
     "data": {
      "image/png": "[encoded data removed]",
      "text/plain": [
       "<Figure size 640x480 with 1 Axes>"
      ]
     },
     "metadata": {},
     "output_type": "display_data"
    }
   ],
   "source": [
    "plt.plot(hrf)"
   ]
  },
  {
   "cell_type": "code",
   "execution_count": 45,
   "metadata": {},
   "outputs": [],
   "source": [
    "impulse = np.zeros(120)\n",
    "impulse[[20,60,100]] = 1\n",
    "impulse_hrf = np.convolve(impulse, hrf)[:len(impulse)]"
   ]
  },
  {
   "cell_type": "code",
   "execution_count": 46,
   "metadata": {},
   "outputs": [
    {
     "data": {
      "text/plain": [
       "[<matplotlib.lines.Line2D at 0x7f5e0e40d510>]"
      ]
     },
     "execution_count": 46,
     "metadata": {},
     "output_type": "execute_result"
    },
    {
     "data": {
      "image/png": "[encoded data removed]",
      "text/plain": [
       "<Figure size 640x480 with 1 Axes>"
      ]
     },
     "metadata": {},
     "output_type": "display_data"
    }
   ],
   "source": [
    "plt.plot(impulse)\n",
    "plt.plot(impulse_hrf)"
   ]
  },
  {
   "attachments": {},
   "cell_type": "markdown",
   "metadata": {},
   "source": [
    "# Delayer"
   ]
  },
  {
   "cell_type": "code",
   "execution_count": 47,
   "metadata": {},
   "outputs": [],
   "source": [
    "from voxelwise_tutorials.delayer import Delayer"
   ]
  },
  {
   "cell_type": "code",
   "execution_count": 66,
   "metadata": {},
   "outputs": [],
   "source": [
    "delayer = Delayer(delays=[0,1,2,3,4,5])"
   ]
  },
  {
   "cell_type": "code",
   "execution_count": 67,
   "metadata": {},
   "outputs": [],
   "source": [
    "data = np.arange(1, 11).reshape(-1, 1)"
   ]
  },
  {
   "cell_type": "code",
   "execution_count": 68,
   "metadata": {},
   "outputs": [
    {
     "data": {
      "text/plain": [
       "array([[ 1],\n",
       "       [ 2],\n",
       "       [ 3],\n",
       "       [ 4],\n",
       "       [ 5],\n",
       "       [ 6],\n",
       "       [ 7],\n",
       "       [ 8],\n",
       "       [ 9],\n",
       "       [10]])"
      ]
     },
     "execution_count": 68,
     "metadata": {},
     "output_type": "execute_result"
    }
   ],
   "source": [
    "data"
   ]
  },
  {
   "cell_type": "code",
   "execution_count": 69,
   "metadata": {},
   "outputs": [
    {
     "data": {
      "text/plain": [
       "array([[ 1,  0,  0,  0,  0,  0],\n",
       "       [ 2,  1,  0,  0,  0,  0],\n",
       "       [ 3,  2,  1,  0,  0,  0],\n",
       "       [ 4,  3,  2,  1,  0,  0],\n",
       "       [ 5,  4,  3,  2,  1,  0],\n",
       "       [ 6,  5,  4,  3,  2,  1],\n",
       "       [ 7,  6,  5,  4,  3,  2],\n",
       "       [ 8,  7,  6,  5,  4,  3],\n",
       "       [ 9,  8,  7,  6,  5,  4],\n",
       "       [10,  9,  8,  7,  6,  5]])"
      ]
     },
     "execution_count": 69,
     "metadata": {},
     "output_type": "execute_result"
    }
   ],
   "source": [
    "delayer.fit_transform(data)"
   ]
  }
 ],
 "metadata": {
  "kernelspec": {
   "display_name": "fb2b",
   "language": "python",
   "name": "python3"
  },
  "language_info": {
   "codemirror_mode": {
    "name": "ipython",
    "version": 3
   },
   "file_extension": ".py",
   "mimetype": "text/x-python",
   "name": "python",
   "nbconvert_exporter": "python",
   "pygments_lexer": "ipython3",
   "version": "3.10.11"
  },
  "orig_nbformat": 4
 },
 "nbformat": 4,
 "nbformat_minor": 2
}
