{
 "cells": [
  {
   "cell_type": "code",
   "execution_count": 1,
   "metadata": {},
   "outputs": [
    {
     "name": "stdout",
     "output_type": "stream",
     "text": [
      "/mnt/cup/labs/hasson/zaid/fmri-convs\n"
     ]
    }
   ],
   "source": [
    "%cd .."
   ]
  },
  {
   "cell_type": "code",
   "execution_count": 2,
   "metadata": {},
   "outputs": [],
   "source": [
    "from glob import glob\n",
    "\n",
    "import nibabel as nib\n",
    "import pandas as pd\n",
    "import numpy as np\n",
    "import matplotlib.pyplot as plt\n",
    "\n",
    "from nilearn import datasets, image\n",
    "from neuromaps.datasets import fetch_mni152\n",
    "from util.atlas import get_schaefer\n",
    "\n",
    "from util.path import Path\n",
    "from constants import CONVS_STRANGERS, CONVS_FRIENDS, CONVS"
   ]
  },
  {
   "cell_type": "code",
   "execution_count": 3,
   "metadata": {},
   "outputs": [],
   "source": [
    "def reduce_consecutive(df: pd.DataFrame, on: str) -> pd.DataFrame:\n",
    "    newdf = df.copy()\n",
    "    newdf['key'] = (df[on] != df[on].shift(1)).astype(int).cumsum()\n",
    "    newdf = newdf.groupby('key').first()  # NOTE hardcoded function\n",
    "    newdf.reset_index(drop=True, inplace=True)\n",
    "    return newdf"
   ]
  },
  {
   "attachments": {},
   "cell_type": "markdown",
   "metadata": {},
   "source": [
    "# Timing files\n",
    "validate timing files after `copy_timings.py`"
   ]
  },
  {
   "cell_type": "code",
   "execution_count": 4,
   "metadata": {},
   "outputs": [
    {
     "data": {
      "text/plain": [
       "295"
      ]
     },
     "execution_count": 4,
     "metadata": {},
     "output_type": "execute_result"
    }
   ],
   "source": [
    "timepath = Path(root=\"stimuli\", datatype=\"timing\", suffix=\"events\", ext=\".csv\")\n",
    "files = glob(timepath.starstr([\"conv\", \"datatype\"]))\n",
    "len(files)"
   ]
  },
  {
   "cell_type": "code",
   "execution_count": 5,
   "metadata": {},
   "outputs": [
    {
     "name": "stdout",
     "output_type": "stream",
     "text": [
      "8921\n"
     ]
    },
    {
     "data": {
      "text/html": [
       "<div>\n",
       "<style scoped>\n",
       "    .dataframe tbody tr th:only-of-type {\n",
       "        vertical-align: middle;\n",
       "    }\n",
       "\n",
       "    .dataframe tbody tr th {\n",
       "        vertical-align: top;\n",
       "    }\n",
       "\n",
       "    .dataframe thead th {\n",
       "        text-align: right;\n",
       "    }\n",
       "</style>\n",
       "<table border=\"1\" class=\"dataframe\">\n",
       "  <thead>\n",
       "    <tr style=\"text-align: right;\">\n",
       "      <th></th>\n",
       "      <th>conv</th>\n",
       "      <th>run</th>\n",
       "      <th>trial</th>\n",
       "      <th>item</th>\n",
       "      <th>condition</th>\n",
       "      <th>role</th>\n",
       "      <th>time.time</th>\n",
       "      <th>run.time</th>\n",
       "      <th>comm.time</th>\n",
       "      <th>audio_position</th>\n",
       "    </tr>\n",
       "  </thead>\n",
       "  <tbody>\n",
       "    <tr>\n",
       "      <th>0</th>\n",
       "      <td>103</td>\n",
       "      <td>1</td>\n",
       "      <td>1.0</td>\n",
       "      <td>1.0</td>\n",
       "      <td>R</td>\n",
       "      <td>trial_intro</td>\n",
       "      <td>1.579303e+09</td>\n",
       "      <td>12.071489</td>\n",
       "      <td>NaN</td>\n",
       "      <td>0</td>\n",
       "    </tr>\n",
       "    <tr>\n",
       "      <th>1</th>\n",
       "      <td>103</td>\n",
       "      <td>1</td>\n",
       "      <td>1.0</td>\n",
       "      <td>1.0</td>\n",
       "      <td>R</td>\n",
       "      <td>listener</td>\n",
       "      <td>1.579303e+09</td>\n",
       "      <td>21.085684</td>\n",
       "      <td>0.013840</td>\n",
       "      <td>0</td>\n",
       "    </tr>\n",
       "    <tr>\n",
       "      <th>2</th>\n",
       "      <td>103</td>\n",
       "      <td>1</td>\n",
       "      <td>1.0</td>\n",
       "      <td>1.0</td>\n",
       "      <td>R</td>\n",
       "      <td>speaker</td>\n",
       "      <td>1.579303e+09</td>\n",
       "      <td>32.169620</td>\n",
       "      <td>11.097776</td>\n",
       "      <td>352256</td>\n",
       "    </tr>\n",
       "    <tr>\n",
       "      <th>3</th>\n",
       "      <td>103</td>\n",
       "      <td>1</td>\n",
       "      <td>1.0</td>\n",
       "      <td>1.0</td>\n",
       "      <td>R</td>\n",
       "      <td>listener</td>\n",
       "      <td>1.579303e+09</td>\n",
       "      <td>173.450472</td>\n",
       "      <td>152.378629</td>\n",
       "      <td>4861952</td>\n",
       "    </tr>\n",
       "    <tr>\n",
       "      <th>4</th>\n",
       "      <td>103</td>\n",
       "      <td>1</td>\n",
       "      <td>1.0</td>\n",
       "      <td>1.0</td>\n",
       "      <td>R</td>\n",
       "      <td>trial_end</td>\n",
       "      <td>1.579303e+09</td>\n",
       "      <td>201.116802</td>\n",
       "      <td>180.044958</td>\n",
       "      <td>5746688</td>\n",
       "    </tr>\n",
       "  </tbody>\n",
       "</table>\n",
       "</div>"
      ],
      "text/plain": [
       "   conv  run  trial  item condition         role     time.time    run.time   \n",
       "0   103    1    1.0   1.0         R  trial_intro  1.579303e+09   12.071489  \\\n",
       "1   103    1    1.0   1.0         R     listener  1.579303e+09   21.085684   \n",
       "2   103    1    1.0   1.0         R      speaker  1.579303e+09   32.169620   \n",
       "3   103    1    1.0   1.0         R     listener  1.579303e+09  173.450472   \n",
       "4   103    1    1.0   1.0         R    trial_end  1.579303e+09  201.116802   \n",
       "\n",
       "    comm.time  audio_position  \n",
       "0         NaN               0  \n",
       "1    0.013840               0  \n",
       "2   11.097776          352256  \n",
       "3  152.378629         4861952  \n",
       "4  180.044958         5746688  "
      ]
     },
     "execution_count": 5,
     "metadata": {},
     "output_type": "execute_result"
    }
   ],
   "source": [
    "# create one df of all timing files\n",
    "dfs = []\n",
    "for filename in files:\n",
    "    df = pd.read_csv(filename)\n",
    "    filepath = Path.frompath(filename)\n",
    "    df.insert(0, \"conv\", filepath[\"conv\"])\n",
    "    dfs.append(df)\n",
    "df = pd.concat(dfs)\n",
    "df.sort_values([\"conv\", \"run\", \"trial\"], inplace=True)\n",
    "df.reset_index(drop=True, inplace=True)\n",
    "timingdf = df\n",
    "\n",
    "print(len(df))\n",
    "df.head()"
   ]
  },
  {
   "cell_type": "code",
   "execution_count": 6,
   "metadata": {},
   "outputs": [
    {
     "data": {
      "text/plain": [
       "set()"
      ]
     },
     "execution_count": 6,
     "metadata": {},
     "output_type": "execute_result"
    }
   ],
   "source": [
    "# any missing conversations?\n",
    "set(CONVS) - set(df.conv.unique().tolist())"
   ]
  },
  {
   "cell_type": "code",
   "execution_count": 8,
   "metadata": {},
   "outputs": [
    {
     "data": {
      "text/plain": [
       "Series([], Name: run, dtype: int64)"
      ]
     },
     "execution_count": 8,
     "metadata": {},
     "output_type": "execute_result"
    }
   ],
   "source": [
    "# any conversations missing runs?\n",
    "dfc = df[[\"conv\", \"run\"]].drop_duplicates().reset_index(drop=True)\n",
    "dft = dfc.groupby(\"conv\").run.count()\n",
    "dft[dft.values != 5]"
   ]
  },
  {
   "cell_type": "code",
   "execution_count": 10,
   "metadata": {},
   "outputs": [
    {
     "data": {
      "text/plain": [
       "Series([], Name: trial, dtype: int64)"
      ]
     },
     "execution_count": 10,
     "metadata": {},
     "output_type": "execute_result"
    }
   ],
   "source": [
    "# any conversations missing transcripts?\n",
    "dfc = df[[\"conv\", \"run\", \"trial\"]].drop_duplicates().reset_index(drop=True)\n",
    "dft = dfc.groupby(\"conv\").trial.count()\n",
    "dft[dft.values != 20]"
   ]
  },
  {
   "attachments": {},
   "cell_type": "markdown",
   "metadata": {},
   "source": [
    "# Utterance transcripts\n",
    "validate transcripts after `copy_transcripts.py`"
   ]
  },
  {
   "cell_type": "markdown",
   "metadata": {},
   "source": [
    "Errors for num_speakers != 2\n",
    "```\n",
    "[x] conv_114_run_5_set_3_trial_17_item_17_condition_G_first_B\n",
    "[x] conv_128_run_1_set_1_trial_1_item_2_condition_G_first_A\n",
    "\n",
    "[#] conv_146_run_5_set_3_trial_19_item_20_condition_G_first_A\n",
    "[#] conv_147_run_1_set_1_trial_2_item_1_condition_G_first_A\n",
    "\n",
    "[-] conv_103_run_2_set_1_trial_2_item_5.0_condition_G_first_B\n",
    "[!] conv_103_run_3_set_1_trial_7_item_12.0_condition_G_first_B\n",
    "[*] conv_105_run_1_set_1_trial_1_item_1_condition_G_first_B\n",
    "[*] conv_106_run_3_set_2_trial_10_item_10_condition_G_first_A\n",
    "[*] conv_113_run_2_set_1_trial_8_item_7_condition_G_first_B\n",
    "[*] conv_127_run_2_set_1_trial_4_item_7_condition_G_first_A\n",
    "[*] conv_128_run_2_set_1_trial_5_item_6_condition_G_first_A\n",
    "[*] conv_128_run_5_set_3_trial_17_item_17_condition_G_first_B\n",
    "[*] conv_130_run_3_set_2_trial_9_item_9_condition_G_first_A\n",
    "[*] conv_130_run_4_set_2_trial_14_item_14_condition_G_first_B\n",
    "[*] conv_134_run_1_set_1_trial_2_item_1_condition_G_first_A\n",
    "[*] conv_143_run_4_set_3_trial_8_item_15_condition_G_first_B\n",
    "[*] conv_147_run_5_set_3_trial_20_item_19_condition_G_first_B\n",
    "[*] conv_148_run_1_set_1_trial_2_item_2_condition_G_first_A\n",
    "[*] conv_148_run_2_set_1_trial_6_item_5_condition_G_first_A\n",
    "[*] conv_153_run_5_set_3_trial_18_item_17_condition_G_first_A\n",
    "[*] conv_172_run_3_set_2_trial_10_item_10_condition_G_first_A\n",
    "[*] conv_172_run_5_set_3_trial_20_item_20_condition_G_first_A\n",
    "[*] conv_173_run_2_set_1_trial_8_item_7_condition_G_first_B\n",
    "\n",
    "x = one subject spoke the entire prompt\n",
    "* = fixed in `fix_transcripts.sh`\n",
    "! = fixed but timings look wrong\n",
    "# = good as-is (self-correct)\n",
    "- = replaced file with new version\n",
    "```"
   ]
  },
  {
   "cell_type": "code",
   "execution_count": 11,
   "metadata": {},
   "outputs": [
    {
     "data": {
      "text/plain": [
       "590"
      ]
     },
     "execution_count": 11,
     "metadata": {},
     "output_type": "execute_result"
    }
   ],
   "source": [
    "transpath = Path(root=\"stimuli\", datatype=\"transcript\", suffix=\"utterance\", ext=\".csv\")\n",
    "files = glob(transpath.starstr([\"conv\", \"datatype\"]))\n",
    "len(files)"
   ]
  },
  {
   "cell_type": "code",
   "execution_count": 12,
   "metadata": {},
   "outputs": [
    {
     "name": "stdout",
     "output_type": "stream",
     "text": [
      "4389\n"
     ]
    },
    {
     "data": {
      "text/html": [
       "<div>\n",
       "<style scoped>\n",
       "    .dataframe tbody tr th:only-of-type {\n",
       "        vertical-align: middle;\n",
       "    }\n",
       "\n",
       "    .dataframe tbody tr th {\n",
       "        vertical-align: top;\n",
       "    }\n",
       "\n",
       "    .dataframe thead th {\n",
       "        text-align: right;\n",
       "    }\n",
       "</style>\n",
       "<table border=\"1\" class=\"dataframe\">\n",
       "  <thead>\n",
       "    <tr style=\"text-align: right;\">\n",
       "      <th></th>\n",
       "      <th>conv</th>\n",
       "      <th>run</th>\n",
       "      <th>trial</th>\n",
       "      <th>speaker</th>\n",
       "      <th>onset</th>\n",
       "      <th>text</th>\n",
       "    </tr>\n",
       "  </thead>\n",
       "  <tbody>\n",
       "    <tr>\n",
       "      <th>0</th>\n",
       "      <td>103</td>\n",
       "      <td>1</td>\n",
       "      <td>2</td>\n",
       "      <td>103</td>\n",
       "      <td>42</td>\n",
       "      <td>Um, uh I'd want to be famous for something, I ...</td>\n",
       "    </tr>\n",
       "    <tr>\n",
       "      <th>1</th>\n",
       "      <td>103</td>\n",
       "      <td>1</td>\n",
       "      <td>2</td>\n",
       "      <td>103</td>\n",
       "      <td>43</td>\n",
       "      <td>But honestly, I, like if you make a big discov...</td>\n",
       "    </tr>\n",
       "    <tr>\n",
       "      <th>2</th>\n",
       "      <td>103</td>\n",
       "      <td>1</td>\n",
       "      <td>2</td>\n",
       "      <td>3</td>\n",
       "      <td>44</td>\n",
       "      <td>Um I think I want to be famous also, probably ...</td>\n",
       "    </tr>\n",
       "    <tr>\n",
       "      <th>3</th>\n",
       "      <td>103</td>\n",
       "      <td>1</td>\n",
       "      <td>2</td>\n",
       "      <td>3</td>\n",
       "      <td>46</td>\n",
       "      <td>Especially because then everything that you do...</td>\n",
       "    </tr>\n",
       "    <tr>\n",
       "      <th>4</th>\n",
       "      <td>103</td>\n",
       "      <td>1</td>\n",
       "      <td>2</td>\n",
       "      <td>103</td>\n",
       "      <td>71</td>\n",
       "      <td>Yeah, definitely.</td>\n",
       "    </tr>\n",
       "  </tbody>\n",
       "</table>\n",
       "</div>"
      ],
      "text/plain": [
       "   conv  run  trial  speaker  onset   \n",
       "0   103    1      2      103     42  \\\n",
       "1   103    1      2      103     43   \n",
       "2   103    1      2        3     44   \n",
       "3   103    1      2        3     46   \n",
       "4   103    1      2      103     71   \n",
       "\n",
       "                                                text  \n",
       "0  Um, uh I'd want to be famous for something, I ...  \n",
       "1  But honestly, I, like if you make a big discov...  \n",
       "2  Um I think I want to be famous also, probably ...  \n",
       "3  Especially because then everything that you do...  \n",
       "4                                  Yeah, definitely.  "
      ]
     },
     "execution_count": 12,
     "metadata": {},
     "output_type": "execute_result"
    }
   ],
   "source": [
    "dfs = []\n",
    "for filename in files:\n",
    "    df = pd.read_csv(filename)\n",
    "    filepath = Path.frompath(filename)\n",
    "    df.insert(0, \"trial\", filepath[\"trial\"])\n",
    "    df.insert(0, \"run\", filepath[\"run\"])\n",
    "    df.insert(0, \"conv\", filepath[\"conv\"])\n",
    "    dfs.append(df)\n",
    "df = pd.concat(dfs)\n",
    "df.sort_values([\"conv\", \"run\", \"trial\", \"onset\"], inplace=True)\n",
    "df.reset_index(drop=True, inplace=True)\n",
    "\n",
    "print(len(df))\n",
    "df.head()"
   ]
  },
  {
   "cell_type": "code",
   "execution_count": 13,
   "metadata": {},
   "outputs": [
    {
     "data": {
      "text/plain": [
       "set()"
      ]
     },
     "execution_count": 13,
     "metadata": {},
     "output_type": "execute_result"
    }
   ],
   "source": [
    "# what conversations are missing?\n",
    "set(CONVS) - set(df.conv.unique().tolist())"
   ]
  },
  {
   "cell_type": "code",
   "execution_count": 14,
   "metadata": {},
   "outputs": [
    {
     "data": {
      "text/plain": [
       "Series([], Name: trial, dtype: int64)"
      ]
     },
     "execution_count": 14,
     "metadata": {},
     "output_type": "execute_result"
    }
   ],
   "source": [
    "# which conversations are missing transcripts?\n",
    "dfc = df[[\"conv\", \"run\", \"trial\"]].drop_duplicates().reset_index(drop=True)\n",
    "dft = dfc.groupby(\"conv\").trial.count()\n",
    "dft[dft.values != 10]"
   ]
  },
  {
   "cell_type": "code",
   "execution_count": 15,
   "metadata": {},
   "outputs": [
    {
     "data": {
      "text/plain": [
       "Series([], Name: onset, dtype: int64)"
      ]
     },
     "execution_count": 15,
     "metadata": {},
     "output_type": "execute_result"
    }
   ],
   "source": [
    "# any utterances with non-increasing onsets?\n",
    "df.groupby(['conv', 'run', 'trial']).onset.filter(lambda x: not x.is_monotonic_increasing)"
   ]
  },
  {
   "cell_type": "code",
   "execution_count": 16,
   "metadata": {},
   "outputs": [
    {
     "data": {
      "text/html": [
       "<div>\n",
       "<style scoped>\n",
       "    .dataframe tbody tr th:only-of-type {\n",
       "        vertical-align: middle;\n",
       "    }\n",
       "\n",
       "    .dataframe tbody tr th {\n",
       "        vertical-align: top;\n",
       "    }\n",
       "\n",
       "    .dataframe thead th {\n",
       "        text-align: right;\n",
       "    }\n",
       "</style>\n",
       "<table border=\"1\" class=\"dataframe\">\n",
       "  <thead>\n",
       "    <tr style=\"text-align: right;\">\n",
       "      <th></th>\n",
       "      <th>conv</th>\n",
       "      <th>run</th>\n",
       "      <th>trial</th>\n",
       "      <th>speaker</th>\n",
       "    </tr>\n",
       "  </thead>\n",
       "  <tbody>\n",
       "    <tr>\n",
       "      <th>768</th>\n",
       "      <td>114</td>\n",
       "      <td>5</td>\n",
       "      <td>17</td>\n",
       "      <td>114</td>\n",
       "    </tr>\n",
       "    <tr>\n",
       "      <th>1368</th>\n",
       "      <td>128</td>\n",
       "      <td>1</td>\n",
       "      <td>1</td>\n",
       "      <td>28</td>\n",
       "    </tr>\n",
       "  </tbody>\n",
       "</table>\n",
       "</div>"
      ],
      "text/plain": [
       "      conv  run  trial  speaker\n",
       "768    114    5     17      114\n",
       "1368   128    1      1       28"
      ]
     },
     "execution_count": 16,
     "metadata": {},
     "output_type": "execute_result"
    }
   ],
   "source": [
    "# which convs have only one speaker?\n",
    "# these are expected:\n",
    "# conv_114_run_5_set_3_trial_17_item_17_condition_G_first_B\n",
    "# conv_128_run_1_set_1_trial_1_item_2_condition_G_first_A\n",
    "\n",
    "ids = df.groupby(['conv', 'run', 'trial']).speaker.filter(lambda x: (x == x.iloc[0]).all())\n",
    "df.iloc[ids.index][['conv', 'run', 'trial', 'speaker']].drop_duplicates()"
   ]
  },
  {
   "cell_type": "markdown",
   "metadata": {},
   "source": [
    "## Do they match with TimingLogs?\n",
    "ignore this for now. we will assume transcripts are correct because they're based on timing logs"
   ]
  },
  {
   "cell_type": "code",
   "execution_count": 5,
   "metadata": {},
   "outputs": [
    {
     "data": {
      "text/html": [
       "<div>\n",
       "<style scoped>\n",
       "    .dataframe tbody tr th:only-of-type {\n",
       "        vertical-align: middle;\n",
       "    }\n",
       "\n",
       "    .dataframe tbody tr th {\n",
       "        vertical-align: top;\n",
       "    }\n",
       "\n",
       "    .dataframe thead th {\n",
       "        text-align: right;\n",
       "    }\n",
       "</style>\n",
       "<table border=\"1\" class=\"dataframe\">\n",
       "  <thead>\n",
       "    <tr style=\"text-align: right;\">\n",
       "      <th></th>\n",
       "      <th>conv</th>\n",
       "      <th>run</th>\n",
       "      <th>trial</th>\n",
       "      <th>speaker</th>\n",
       "      <th>onset</th>\n",
       "      <th>trial4</th>\n",
       "    </tr>\n",
       "  </thead>\n",
       "  <tbody>\n",
       "    <tr>\n",
       "      <th>0</th>\n",
       "      <td>103</td>\n",
       "      <td>1</td>\n",
       "      <td>2</td>\n",
       "      <td>103</td>\n",
       "      <td>42</td>\n",
       "      <td>2</td>\n",
       "    </tr>\n",
       "    <tr>\n",
       "      <th>1</th>\n",
       "      <td>103</td>\n",
       "      <td>1</td>\n",
       "      <td>2</td>\n",
       "      <td>103</td>\n",
       "      <td>43</td>\n",
       "      <td>2</td>\n",
       "    </tr>\n",
       "    <tr>\n",
       "      <th>2</th>\n",
       "      <td>103</td>\n",
       "      <td>1</td>\n",
       "      <td>2</td>\n",
       "      <td>3</td>\n",
       "      <td>44</td>\n",
       "      <td>2</td>\n",
       "    </tr>\n",
       "    <tr>\n",
       "      <th>3</th>\n",
       "      <td>103</td>\n",
       "      <td>1</td>\n",
       "      <td>2</td>\n",
       "      <td>3</td>\n",
       "      <td>46</td>\n",
       "      <td>2</td>\n",
       "    </tr>\n",
       "    <tr>\n",
       "      <th>4</th>\n",
       "      <td>103</td>\n",
       "      <td>1</td>\n",
       "      <td>2</td>\n",
       "      <td>103</td>\n",
       "      <td>71</td>\n",
       "      <td>2</td>\n",
       "    </tr>\n",
       "    <tr>\n",
       "      <th>...</th>\n",
       "      <td>...</td>\n",
       "      <td>...</td>\n",
       "      <td>...</td>\n",
       "      <td>...</td>\n",
       "      <td>...</td>\n",
       "      <td>...</td>\n",
       "    </tr>\n",
       "    <tr>\n",
       "      <th>4384</th>\n",
       "      <td>175</td>\n",
       "      <td>5</td>\n",
       "      <td>20</td>\n",
       "      <td>75</td>\n",
       "      <td>74</td>\n",
       "      <td>4</td>\n",
       "    </tr>\n",
       "    <tr>\n",
       "      <th>4385</th>\n",
       "      <td>175</td>\n",
       "      <td>5</td>\n",
       "      <td>20</td>\n",
       "      <td>175</td>\n",
       "      <td>106</td>\n",
       "      <td>4</td>\n",
       "    </tr>\n",
       "    <tr>\n",
       "      <th>4386</th>\n",
       "      <td>175</td>\n",
       "      <td>5</td>\n",
       "      <td>20</td>\n",
       "      <td>75</td>\n",
       "      <td>123</td>\n",
       "      <td>4</td>\n",
       "    </tr>\n",
       "    <tr>\n",
       "      <th>4387</th>\n",
       "      <td>175</td>\n",
       "      <td>5</td>\n",
       "      <td>20</td>\n",
       "      <td>175</td>\n",
       "      <td>154</td>\n",
       "      <td>4</td>\n",
       "    </tr>\n",
       "    <tr>\n",
       "      <th>4388</th>\n",
       "      <td>175</td>\n",
       "      <td>5</td>\n",
       "      <td>20</td>\n",
       "      <td>75</td>\n",
       "      <td>174</td>\n",
       "      <td>4</td>\n",
       "    </tr>\n",
       "  </tbody>\n",
       "</table>\n",
       "<p>4389 rows × 6 columns</p>\n",
       "</div>"
      ],
      "text/plain": [
       "      conv  run  trial  speaker  onset  trial4\n",
       "0      103    1      2      103     42       2\n",
       "1      103    1      2      103     43       2\n",
       "2      103    1      2        3     44       2\n",
       "3      103    1      2        3     46       2\n",
       "4      103    1      2      103     71       2\n",
       "...    ...  ...    ...      ...    ...     ...\n",
       "4384   175    5     20       75     74       4\n",
       "4385   175    5     20      175    106       4\n",
       "4386   175    5     20       75    123       4\n",
       "4387   175    5     20      175    154       4\n",
       "4388   175    5     20       75    174       4\n",
       "\n",
       "[4389 rows x 6 columns]"
      ]
     },
     "execution_count": 5,
     "metadata": {},
     "output_type": "execute_result"
    }
   ],
   "source": [
    "transdf = df.copy()\n",
    "transdf.drop(\"text\", axis=1, inplace=True)\n",
    "transdf[\"trial4\"] = 1 + (transdf.trial - 1) % 4\n",
    "transdf"
   ]
  },
  {
   "cell_type": "code",
   "execution_count": 10,
   "metadata": {},
   "outputs": [],
   "source": [
    "timingdf = timingdf[timingdf.role.isin(['speaker', 'listener'])]"
   ]
  },
  {
   "cell_type": "code",
   "execution_count": 22,
   "metadata": {},
   "outputs": [],
   "source": [
    "records = []\n",
    "for idx, group in transdf.groupby(['conv', 'run', 'trial4']):\n",
    "    conv, run, trial = idx\n",
    "\n",
    "    subdf = transdf[(transdf.conv == conv) & (transdf.run == run) & (transdf.trial4 == trial)]\n",
    "    newdf = reduce_consecutive(subdf, 'speaker')\n",
    "\n",
    "    records.append((conv, run, trial, len(group), len(newdf)))"
   ]
  },
  {
   "cell_type": "code",
   "execution_count": 26,
   "metadata": {},
   "outputs": [
    {
     "data": {
      "text/html": [
       "<div>\n",
       "<style scoped>\n",
       "    .dataframe tbody tr th:only-of-type {\n",
       "        vertical-align: middle;\n",
       "    }\n",
       "\n",
       "    .dataframe tbody tr th {\n",
       "        vertical-align: top;\n",
       "    }\n",
       "\n",
       "    .dataframe thead th {\n",
       "        text-align: right;\n",
       "    }\n",
       "</style>\n",
       "<table border=\"1\" class=\"dataframe\">\n",
       "  <thead>\n",
       "    <tr style=\"text-align: right;\">\n",
       "      <th></th>\n",
       "      <th>conv</th>\n",
       "      <th>run</th>\n",
       "      <th>trial</th>\n",
       "      <th>trans_size</th>\n",
       "      <th>time_size</th>\n",
       "      <th>matching</th>\n",
       "    </tr>\n",
       "  </thead>\n",
       "  <tbody>\n",
       "    <tr>\n",
       "      <th>0</th>\n",
       "      <td>103</td>\n",
       "      <td>1</td>\n",
       "      <td>2</td>\n",
       "      <td>11</td>\n",
       "      <td>6</td>\n",
       "      <td>False</td>\n",
       "    </tr>\n",
       "    <tr>\n",
       "      <th>1</th>\n",
       "      <td>103</td>\n",
       "      <td>1</td>\n",
       "      <td>4</td>\n",
       "      <td>6</td>\n",
       "      <td>6</td>\n",
       "      <td>True</td>\n",
       "    </tr>\n",
       "    <tr>\n",
       "      <th>2</th>\n",
       "      <td>103</td>\n",
       "      <td>2</td>\n",
       "      <td>2</td>\n",
       "      <td>14</td>\n",
       "      <td>13</td>\n",
       "      <td>False</td>\n",
       "    </tr>\n",
       "    <tr>\n",
       "      <th>3</th>\n",
       "      <td>103</td>\n",
       "      <td>2</td>\n",
       "      <td>4</td>\n",
       "      <td>10</td>\n",
       "      <td>7</td>\n",
       "      <td>False</td>\n",
       "    </tr>\n",
       "    <tr>\n",
       "      <th>4</th>\n",
       "      <td>103</td>\n",
       "      <td>3</td>\n",
       "      <td>2</td>\n",
       "      <td>7</td>\n",
       "      <td>6</td>\n",
       "      <td>False</td>\n",
       "    </tr>\n",
       "    <tr>\n",
       "      <th>...</th>\n",
       "      <td>...</td>\n",
       "      <td>...</td>\n",
       "      <td>...</td>\n",
       "      <td>...</td>\n",
       "      <td>...</td>\n",
       "      <td>...</td>\n",
       "    </tr>\n",
       "    <tr>\n",
       "      <th>585</th>\n",
       "      <td>175</td>\n",
       "      <td>3</td>\n",
       "      <td>4</td>\n",
       "      <td>9</td>\n",
       "      <td>8</td>\n",
       "      <td>False</td>\n",
       "    </tr>\n",
       "    <tr>\n",
       "      <th>586</th>\n",
       "      <td>175</td>\n",
       "      <td>4</td>\n",
       "      <td>2</td>\n",
       "      <td>14</td>\n",
       "      <td>13</td>\n",
       "      <td>False</td>\n",
       "    </tr>\n",
       "    <tr>\n",
       "      <th>587</th>\n",
       "      <td>175</td>\n",
       "      <td>4</td>\n",
       "      <td>3</td>\n",
       "      <td>12</td>\n",
       "      <td>12</td>\n",
       "      <td>True</td>\n",
       "    </tr>\n",
       "    <tr>\n",
       "      <th>588</th>\n",
       "      <td>175</td>\n",
       "      <td>5</td>\n",
       "      <td>2</td>\n",
       "      <td>12</td>\n",
       "      <td>12</td>\n",
       "      <td>True</td>\n",
       "    </tr>\n",
       "    <tr>\n",
       "      <th>589</th>\n",
       "      <td>175</td>\n",
       "      <td>5</td>\n",
       "      <td>4</td>\n",
       "      <td>7</td>\n",
       "      <td>7</td>\n",
       "      <td>True</td>\n",
       "    </tr>\n",
       "  </tbody>\n",
       "</table>\n",
       "<p>590 rows × 6 columns</p>\n",
       "</div>"
      ],
      "text/plain": [
       "     conv  run  trial  trans_size  time_size  matching\n",
       "0     103    1      2          11          6     False\n",
       "1     103    1      4           6          6      True\n",
       "2     103    2      2          14         13     False\n",
       "3     103    2      4          10          7     False\n",
       "4     103    3      2           7          6     False\n",
       "..    ...  ...    ...         ...        ...       ...\n",
       "585   175    3      4           9          8     False\n",
       "586   175    4      2          14         13     False\n",
       "587   175    4      3          12         12      True\n",
       "588   175    5      2          12         12      True\n",
       "589   175    5      4           7          7      True\n",
       "\n",
       "[590 rows x 6 columns]"
      ]
     },
     "execution_count": 26,
     "metadata": {},
     "output_type": "execute_result"
    }
   ],
   "source": [
    "matchdf = pd.DataFrame(records, columns=('conv', 'run', 'trial', 'trans_size', 'time_size'))\n",
    "matchdf['matching'] = matchdf.trans_size == matchdf.time_size\n",
    "matchdf"
   ]
  },
  {
   "cell_type": "code",
   "execution_count": 30,
   "metadata": {},
   "outputs": [],
   "source": [
    "conv = 103\n",
    "run = 1\n",
    "trial = 4"
   ]
  },
  {
   "cell_type": "code",
   "execution_count": 31,
   "metadata": {},
   "outputs": [
    {
     "data": {
      "text/html": [
       "<div>\n",
       "<style scoped>\n",
       "    .dataframe tbody tr th:only-of-type {\n",
       "        vertical-align: middle;\n",
       "    }\n",
       "\n",
       "    .dataframe tbody tr th {\n",
       "        vertical-align: top;\n",
       "    }\n",
       "\n",
       "    .dataframe thead th {\n",
       "        text-align: right;\n",
       "    }\n",
       "</style>\n",
       "<table border=\"1\" class=\"dataframe\">\n",
       "  <thead>\n",
       "    <tr style=\"text-align: right;\">\n",
       "      <th></th>\n",
       "      <th>conv</th>\n",
       "      <th>run</th>\n",
       "      <th>trial</th>\n",
       "      <th>item</th>\n",
       "      <th>condition</th>\n",
       "      <th>role</th>\n",
       "      <th>time.time</th>\n",
       "      <th>run.time</th>\n",
       "      <th>comm.time</th>\n",
       "      <th>audio_position</th>\n",
       "    </tr>\n",
       "  </thead>\n",
       "  <tbody>\n",
       "    <tr>\n",
       "      <th>21</th>\n",
       "      <td>103</td>\n",
       "      <td>1</td>\n",
       "      <td>4.0</td>\n",
       "      <td>4.0</td>\n",
       "      <td>G</td>\n",
       "      <td>listener</td>\n",
       "      <td>1.579304e+09</td>\n",
       "      <td>0.000000</td>\n",
       "      <td>0.000020</td>\n",
       "      <td>17203200</td>\n",
       "    </tr>\n",
       "    <tr>\n",
       "      <th>22</th>\n",
       "      <td>103</td>\n",
       "      <td>1</td>\n",
       "      <td>4.0</td>\n",
       "      <td>4.0</td>\n",
       "      <td>G</td>\n",
       "      <td>speaker</td>\n",
       "      <td>1.579304e+09</td>\n",
       "      <td>50.591321</td>\n",
       "      <td>50.718468</td>\n",
       "      <td>18829312</td>\n",
       "    </tr>\n",
       "    <tr>\n",
       "      <th>23</th>\n",
       "      <td>103</td>\n",
       "      <td>1</td>\n",
       "      <td>4.0</td>\n",
       "      <td>4.0</td>\n",
       "      <td>G</td>\n",
       "      <td>listener</td>\n",
       "      <td>1.579304e+09</td>\n",
       "      <td>93.299838</td>\n",
       "      <td>93.299857</td>\n",
       "      <td>20180992</td>\n",
       "    </tr>\n",
       "    <tr>\n",
       "      <th>24</th>\n",
       "      <td>103</td>\n",
       "      <td>1</td>\n",
       "      <td>4.0</td>\n",
       "      <td>4.0</td>\n",
       "      <td>G</td>\n",
       "      <td>speaker</td>\n",
       "      <td>1.579304e+09</td>\n",
       "      <td>119.805892</td>\n",
       "      <td>119.933040</td>\n",
       "      <td>21037056</td>\n",
       "    </tr>\n",
       "    <tr>\n",
       "      <th>25</th>\n",
       "      <td>103</td>\n",
       "      <td>1</td>\n",
       "      <td>4.0</td>\n",
       "      <td>4.0</td>\n",
       "      <td>G</td>\n",
       "      <td>listener</td>\n",
       "      <td>1.579304e+09</td>\n",
       "      <td>136.715433</td>\n",
       "      <td>136.715452</td>\n",
       "      <td>21557248</td>\n",
       "    </tr>\n",
       "    <tr>\n",
       "      <th>26</th>\n",
       "      <td>103</td>\n",
       "      <td>1</td>\n",
       "      <td>4.0</td>\n",
       "      <td>4.0</td>\n",
       "      <td>G</td>\n",
       "      <td>speaker</td>\n",
       "      <td>1.579304e+09</td>\n",
       "      <td>167.255569</td>\n",
       "      <td>167.382717</td>\n",
       "      <td>22544384</td>\n",
       "    </tr>\n",
       "  </tbody>\n",
       "</table>\n",
       "</div>"
      ],
      "text/plain": [
       "    conv  run  trial  item condition      role     time.time    run.time   \n",
       "21   103    1    4.0   4.0         G  listener  1.579304e+09    0.000000  \\\n",
       "22   103    1    4.0   4.0         G   speaker  1.579304e+09   50.591321   \n",
       "23   103    1    4.0   4.0         G  listener  1.579304e+09   93.299838   \n",
       "24   103    1    4.0   4.0         G   speaker  1.579304e+09  119.805892   \n",
       "25   103    1    4.0   4.0         G  listener  1.579304e+09  136.715433   \n",
       "26   103    1    4.0   4.0         G   speaker  1.579304e+09  167.255569   \n",
       "\n",
       "     comm.time  audio_position  \n",
       "21    0.000020        17203200  \n",
       "22   50.718468        18829312  \n",
       "23   93.299857        20180992  \n",
       "24  119.933040        21037056  \n",
       "25  136.715452        21557248  \n",
       "26  167.382717        22544384  "
      ]
     },
     "execution_count": 31,
     "metadata": {},
     "output_type": "execute_result"
    }
   ],
   "source": [
    "subdf = timingdf[(timingdf.conv == conv) & (timingdf.run == run) & (timingdf.trial == trial)].copy()\n",
    "subdf['run.time'] -= subdf.iloc[0]['run.time']\n",
    "subdf"
   ]
  },
  {
   "cell_type": "code",
   "execution_count": 32,
   "metadata": {},
   "outputs": [
    {
     "data": {
      "text/html": [
       "<div>\n",
       "<style scoped>\n",
       "    .dataframe tbody tr th:only-of-type {\n",
       "        vertical-align: middle;\n",
       "    }\n",
       "\n",
       "    .dataframe tbody tr th {\n",
       "        vertical-align: top;\n",
       "    }\n",
       "\n",
       "    .dataframe thead th {\n",
       "        text-align: right;\n",
       "    }\n",
       "</style>\n",
       "<table border=\"1\" class=\"dataframe\">\n",
       "  <thead>\n",
       "    <tr style=\"text-align: right;\">\n",
       "      <th></th>\n",
       "      <th>conv</th>\n",
       "      <th>run</th>\n",
       "      <th>trial</th>\n",
       "      <th>speaker</th>\n",
       "      <th>onset</th>\n",
       "      <th>trial4</th>\n",
       "    </tr>\n",
       "  </thead>\n",
       "  <tbody>\n",
       "    <tr>\n",
       "      <th>0</th>\n",
       "      <td>103</td>\n",
       "      <td>1</td>\n",
       "      <td>4</td>\n",
       "      <td>3</td>\n",
       "      <td>0</td>\n",
       "      <td>4</td>\n",
       "    </tr>\n",
       "    <tr>\n",
       "      <th>1</th>\n",
       "      <td>103</td>\n",
       "      <td>1</td>\n",
       "      <td>4</td>\n",
       "      <td>103</td>\n",
       "      <td>18</td>\n",
       "      <td>4</td>\n",
       "    </tr>\n",
       "    <tr>\n",
       "      <th>2</th>\n",
       "      <td>103</td>\n",
       "      <td>1</td>\n",
       "      <td>4</td>\n",
       "      <td>3</td>\n",
       "      <td>101</td>\n",
       "      <td>4</td>\n",
       "    </tr>\n",
       "    <tr>\n",
       "      <th>3</th>\n",
       "      <td>103</td>\n",
       "      <td>1</td>\n",
       "      <td>4</td>\n",
       "      <td>103</td>\n",
       "      <td>122</td>\n",
       "      <td>4</td>\n",
       "    </tr>\n",
       "    <tr>\n",
       "      <th>4</th>\n",
       "      <td>103</td>\n",
       "      <td>1</td>\n",
       "      <td>4</td>\n",
       "      <td>3</td>\n",
       "      <td>140</td>\n",
       "      <td>4</td>\n",
       "    </tr>\n",
       "    <tr>\n",
       "      <th>5</th>\n",
       "      <td>103</td>\n",
       "      <td>1</td>\n",
       "      <td>4</td>\n",
       "      <td>103</td>\n",
       "      <td>170</td>\n",
       "      <td>4</td>\n",
       "    </tr>\n",
       "  </tbody>\n",
       "</table>\n",
       "</div>"
      ],
      "text/plain": [
       "   conv  run  trial  speaker  onset  trial4\n",
       "0   103    1      4        3      0       4\n",
       "1   103    1      4      103     18       4\n",
       "2   103    1      4        3    101       4\n",
       "3   103    1      4      103    122       4\n",
       "4   103    1      4        3    140       4\n",
       "5   103    1      4      103    170       4"
      ]
     },
     "execution_count": 32,
     "metadata": {},
     "output_type": "execute_result"
    }
   ],
   "source": [
    "subdf = transdf[(transdf.conv == conv) & (transdf.run == run) & (transdf.trial4 == trial)]\n",
    "reduce_consecutive(subdf, 'speaker')"
   ]
  },
  {
   "cell_type": "code",
   "execution_count": null,
   "metadata": {},
   "outputs": [],
   "source": []
  },
  {
   "attachments": {},
   "cell_type": "markdown",
   "metadata": {},
   "source": [
    "# Word-level transcripts\n",
    "\n",
    "check out the processed transcripts"
   ]
  },
  {
   "cell_type": "code",
   "execution_count": 11,
   "metadata": {},
   "outputs": [
    {
     "data": {
      "text/plain": [
       "579"
      ]
     },
     "execution_count": 11,
     "metadata": {},
     "output_type": "execute_result"
    }
   ],
   "source": [
    "# new whisperx\n",
    "transpath = Path(root=\"stimuli\", datatype=\"transcript\", suffix=\"aligned\", ext=\".csv\")\n",
    "files = glob(transpath.starstr([\"conv\", \"datatype\"]))\n",
    "len(files)"
   ]
  },
  {
   "cell_type": "code",
   "execution_count": 4,
   "metadata": {},
   "outputs": [
    {
     "data": {
      "text/plain": [
       "590"
      ]
     },
     "execution_count": 4,
     "metadata": {},
     "output_type": "execute_result"
    }
   ],
   "source": [
    "transpath = Path(root=\"stimuli\", datatype=\"transcript\", suffix=\"word\", ext=\".csv\")\n",
    "files = glob(transpath.starstr([\"conv\", \"datatype\"]))\n",
    "len(files)"
   ]
  },
  {
   "cell_type": "code",
   "execution_count": 12,
   "metadata": {},
   "outputs": [
    {
     "name": "stdout",
     "output_type": "stream",
     "text": [
      "282017\n"
     ]
    },
    {
     "data": {
      "text/html": [
       "<div>\n",
       "<style scoped>\n",
       "    .dataframe tbody tr th:only-of-type {\n",
       "        vertical-align: middle;\n",
       "    }\n",
       "\n",
       "    .dataframe tbody tr th {\n",
       "        vertical-align: top;\n",
       "    }\n",
       "\n",
       "    .dataframe thead th {\n",
       "        text-align: right;\n",
       "    }\n",
       "</style>\n",
       "<table border=\"1\" class=\"dataframe\">\n",
       "  <thead>\n",
       "    <tr style=\"text-align: right;\">\n",
       "      <th></th>\n",
       "      <th>conv</th>\n",
       "      <th>run</th>\n",
       "      <th>trial</th>\n",
       "      <th>set</th>\n",
       "      <th>item</th>\n",
       "      <th>speaker</th>\n",
       "      <th>sentence</th>\n",
       "      <th>word</th>\n",
       "      <th>start</th>\n",
       "      <th>end</th>\n",
       "      <th>score</th>\n",
       "    </tr>\n",
       "  </thead>\n",
       "  <tbody>\n",
       "    <tr>\n",
       "      <th>0</th>\n",
       "      <td>103</td>\n",
       "      <td>1</td>\n",
       "      <td>4</td>\n",
       "      <td>1</td>\n",
       "      <td>4</td>\n",
       "      <td>3</td>\n",
       "      <td>1</td>\n",
       "      <td>Um,</td>\n",
       "      <td>0.02</td>\n",
       "      <td>0.060</td>\n",
       "      <td>0.000</td>\n",
       "    </tr>\n",
       "    <tr>\n",
       "      <th>1</th>\n",
       "      <td>103</td>\n",
       "      <td>1</td>\n",
       "      <td>4</td>\n",
       "      <td>1</td>\n",
       "      <td>4</td>\n",
       "      <td>3</td>\n",
       "      <td>1</td>\n",
       "      <td>I</td>\n",
       "      <td>0.08</td>\n",
       "      <td>0.100</td>\n",
       "      <td>0.001</td>\n",
       "    </tr>\n",
       "    <tr>\n",
       "      <th>2</th>\n",
       "      <td>103</td>\n",
       "      <td>1</td>\n",
       "      <td>4</td>\n",
       "      <td>1</td>\n",
       "      <td>4</td>\n",
       "      <td>3</td>\n",
       "      <td>1</td>\n",
       "      <td>think</td>\n",
       "      <td>0.12</td>\n",
       "      <td>0.240</td>\n",
       "      <td>0.100</td>\n",
       "    </tr>\n",
       "    <tr>\n",
       "      <th>3</th>\n",
       "      <td>103</td>\n",
       "      <td>1</td>\n",
       "      <td>4</td>\n",
       "      <td>1</td>\n",
       "      <td>4</td>\n",
       "      <td>3</td>\n",
       "      <td>1</td>\n",
       "      <td>the</td>\n",
       "      <td>0.26</td>\n",
       "      <td>0.360</td>\n",
       "      <td>0.332</td>\n",
       "    </tr>\n",
       "    <tr>\n",
       "      <th>4</th>\n",
       "      <td>103</td>\n",
       "      <td>1</td>\n",
       "      <td>4</td>\n",
       "      <td>1</td>\n",
       "      <td>4</td>\n",
       "      <td>3</td>\n",
       "      <td>1</td>\n",
       "      <td>perfect</td>\n",
       "      <td>0.38</td>\n",
       "      <td>0.821</td>\n",
       "      <td>0.390</td>\n",
       "    </tr>\n",
       "  </tbody>\n",
       "</table>\n",
       "</div>"
      ],
      "text/plain": [
       "   conv  run  trial  set  item  speaker  sentence     word  start    end   \n",
       "0   103    1      4    1     4        3         1      Um,   0.02  0.060  \\\n",
       "1   103    1      4    1     4        3         1        I   0.08  0.100   \n",
       "2   103    1      4    1     4        3         1    think   0.12  0.240   \n",
       "3   103    1      4    1     4        3         1      the   0.26  0.360   \n",
       "4   103    1      4    1     4        3         1  perfect   0.38  0.821   \n",
       "\n",
       "   score  \n",
       "0  0.000  \n",
       "1  0.001  \n",
       "2  0.100  \n",
       "3  0.332  \n",
       "4  0.390  "
      ]
     },
     "execution_count": 12,
     "metadata": {},
     "output_type": "execute_result"
    }
   ],
   "source": [
    "dfs = []\n",
    "for filename in files:\n",
    "    df = pd.read_csv(filename)\n",
    "    filepath = Path.frompath(filename)\n",
    "    df.insert(0, \"item\", filepath[\"item\"])\n",
    "    df.insert(0, \"set\", filepath[\"set\"])\n",
    "    df.insert(0, \"trial\", filepath[\"trial\"])\n",
    "    df.insert(0, \"run\", filepath[\"run\"])\n",
    "    df.insert(0, \"conv\", filepath[\"conv\"])\n",
    "    dfs.append(df)\n",
    "df = pd.concat(dfs)\n",
    "df.sort_values([\"conv\", \"run\", \"trial\", \"start\"], inplace=True)\n",
    "df.reset_index(drop=True, inplace=True)\n",
    "\n",
    "print(len(df))\n",
    "df.head()"
   ]
  },
  {
   "cell_type": "code",
   "execution_count": 13,
   "metadata": {},
   "outputs": [
    {
     "data": {
      "text/plain": [
       "set()"
      ]
     },
     "execution_count": 13,
     "metadata": {},
     "output_type": "execute_result"
    }
   ],
   "source": [
    "# what conversations are missing?\n",
    "set(CONVS) - set(df.conv.unique().tolist())"
   ]
  },
  {
   "cell_type": "code",
   "execution_count": 14,
   "metadata": {},
   "outputs": [
    {
     "data": {
      "text/plain": [
       "conv\n",
       "103    7\n",
       "109    9\n",
       "150    9\n",
       "155    9\n",
       "165    9\n",
       "166    7\n",
       "172    9\n",
       "Name: trial, dtype: int64"
      ]
     },
     "execution_count": 14,
     "metadata": {},
     "output_type": "execute_result"
    }
   ],
   "source": [
    "# Which trials are missing?\n",
    "dfc = df[[\"conv\", \"run\", \"trial\"]].drop_duplicates().reset_index(drop=True)\n",
    "dft = dfc.groupby(\"conv\").trial.count()\n",
    "dft[dft.values != 10]"
   ]
  },
  {
   "cell_type": "code",
   "execution_count": 10,
   "metadata": {},
   "outputs": [
    {
     "ename": "AttributeError",
     "evalue": "'DataFrame' object has no attribute 'token'",
     "output_type": "error",
     "traceback": [
      "\u001b[0;31m---------------------------------------------------------------------------\u001b[0m",
      "\u001b[0;31mAttributeError\u001b[0m                            Traceback (most recent call last)",
      "\u001b[1;32m/jukebox/hasson/zaid/fmri-convs/code/qa.ipynb Cell 36\u001b[0m line \u001b[0;36m1\n\u001b[0;32m----> <a href='vscode-notebook-cell://ssh-remote%2Bscotty/jukebox/hasson/zaid/fmri-convs/code/qa.ipynb#X43sdnNjb2RlLXJlbW90ZQ%3D%3D?line=0'>1</a>\u001b[0m df\u001b[39m.\u001b[39;49mtoken[df\u001b[39m.\u001b[39mtoken\u001b[39m.\u001b[39mstr\u001b[39m.\u001b[39mstartswith(\u001b[39m'\u001b[39m\u001b[39m[\u001b[39m\u001b[39m'\u001b[39m)]\u001b[39m.\u001b[39mvalue_counts()\n",
      "File \u001b[0;32m/scratch/zzada/cache/conda/envs/fb2b/lib/python3.10/site-packages/pandas/core/generic.py:5989\u001b[0m, in \u001b[0;36mNDFrame.__getattr__\u001b[0;34m(self, name)\u001b[0m\n\u001b[1;32m   5982\u001b[0m \u001b[39mif\u001b[39;00m (\n\u001b[1;32m   5983\u001b[0m     name \u001b[39mnot\u001b[39;00m \u001b[39min\u001b[39;00m \u001b[39mself\u001b[39m\u001b[39m.\u001b[39m_internal_names_set\n\u001b[1;32m   5984\u001b[0m     \u001b[39mand\u001b[39;00m name \u001b[39mnot\u001b[39;00m \u001b[39min\u001b[39;00m \u001b[39mself\u001b[39m\u001b[39m.\u001b[39m_metadata\n\u001b[1;32m   5985\u001b[0m     \u001b[39mand\u001b[39;00m name \u001b[39mnot\u001b[39;00m \u001b[39min\u001b[39;00m \u001b[39mself\u001b[39m\u001b[39m.\u001b[39m_accessors\n\u001b[1;32m   5986\u001b[0m     \u001b[39mand\u001b[39;00m \u001b[39mself\u001b[39m\u001b[39m.\u001b[39m_info_axis\u001b[39m.\u001b[39m_can_hold_identifiers_and_holds_name(name)\n\u001b[1;32m   5987\u001b[0m ):\n\u001b[1;32m   5988\u001b[0m     \u001b[39mreturn\u001b[39;00m \u001b[39mself\u001b[39m[name]\n\u001b[0;32m-> 5989\u001b[0m \u001b[39mreturn\u001b[39;00m \u001b[39mobject\u001b[39;49m\u001b[39m.\u001b[39;49m\u001b[39m__getattribute__\u001b[39;49m(\u001b[39mself\u001b[39;49m, name)\n",
      "\u001b[0;31mAttributeError\u001b[0m: 'DataFrame' object has no attribute 'token'"
     ]
    }
   ],
   "source": [
    "df.token[df.token.str.startswith('[')].value_counts()"
   ]
  },
  {
   "cell_type": "code",
   "execution_count": 9,
   "metadata": {},
   "outputs": [
    {
     "data": {
      "text/html": [
       "<div>\n",
       "<style scoped>\n",
       "    .dataframe tbody tr th:only-of-type {\n",
       "        vertical-align: middle;\n",
       "    }\n",
       "\n",
       "    .dataframe tbody tr th {\n",
       "        vertical-align: top;\n",
       "    }\n",
       "\n",
       "    .dataframe thead th {\n",
       "        text-align: right;\n",
       "    }\n",
       "</style>\n",
       "<table border=\"1\" class=\"dataframe\">\n",
       "  <thead>\n",
       "    <tr style=\"text-align: right;\">\n",
       "      <th></th>\n",
       "      <th>conv</th>\n",
       "      <th>run</th>\n",
       "      <th>trial</th>\n",
       "      <th>turn</th>\n",
       "      <th>utterance</th>\n",
       "      <th>speaker</th>\n",
       "      <th>onset</th>\n",
       "      <th>offset</th>\n",
       "      <th>sentence_id</th>\n",
       "      <th>is_punct</th>\n",
       "      <th>token</th>\n",
       "      <th>token_norm</th>\n",
       "    </tr>\n",
       "  </thead>\n",
       "  <tbody>\n",
       "    <tr>\n",
       "      <th>0</th>\n",
       "      <td>103</td>\n",
       "      <td>1</td>\n",
       "      <td>2</td>\n",
       "      <td>0</td>\n",
       "      <td>0</td>\n",
       "      <td>103</td>\n",
       "      <td>42</td>\n",
       "      <td>43</td>\n",
       "      <td>0</td>\n",
       "      <td>False</td>\n",
       "      <td>Um</td>\n",
       "      <td>um</td>\n",
       "    </tr>\n",
       "    <tr>\n",
       "      <th>2</th>\n",
       "      <td>103</td>\n",
       "      <td>1</td>\n",
       "      <td>2</td>\n",
       "      <td>0</td>\n",
       "      <td>0</td>\n",
       "      <td>103</td>\n",
       "      <td>42</td>\n",
       "      <td>43</td>\n",
       "      <td>0</td>\n",
       "      <td>False</td>\n",
       "      <td>uh</td>\n",
       "      <td>uh</td>\n",
       "    </tr>\n",
       "    <tr>\n",
       "      <th>3</th>\n",
       "      <td>103</td>\n",
       "      <td>1</td>\n",
       "      <td>2</td>\n",
       "      <td>0</td>\n",
       "      <td>0</td>\n",
       "      <td>103</td>\n",
       "      <td>42</td>\n",
       "      <td>43</td>\n",
       "      <td>0</td>\n",
       "      <td>False</td>\n",
       "      <td>I'd</td>\n",
       "      <td>i'd</td>\n",
       "    </tr>\n",
       "    <tr>\n",
       "      <th>4</th>\n",
       "      <td>103</td>\n",
       "      <td>1</td>\n",
       "      <td>2</td>\n",
       "      <td>0</td>\n",
       "      <td>0</td>\n",
       "      <td>103</td>\n",
       "      <td>42</td>\n",
       "      <td>43</td>\n",
       "      <td>0</td>\n",
       "      <td>False</td>\n",
       "      <td>want</td>\n",
       "      <td>want</td>\n",
       "    </tr>\n",
       "    <tr>\n",
       "      <th>5</th>\n",
       "      <td>103</td>\n",
       "      <td>1</td>\n",
       "      <td>2</td>\n",
       "      <td>0</td>\n",
       "      <td>0</td>\n",
       "      <td>103</td>\n",
       "      <td>42</td>\n",
       "      <td>43</td>\n",
       "      <td>0</td>\n",
       "      <td>False</td>\n",
       "      <td>to</td>\n",
       "      <td>to</td>\n",
       "    </tr>\n",
       "    <tr>\n",
       "      <th>...</th>\n",
       "      <td>...</td>\n",
       "      <td>...</td>\n",
       "      <td>...</td>\n",
       "      <td>...</td>\n",
       "      <td>...</td>\n",
       "      <td>...</td>\n",
       "      <td>...</td>\n",
       "      <td>...</td>\n",
       "      <td>...</td>\n",
       "      <td>...</td>\n",
       "      <td>...</td>\n",
       "      <td>...</td>\n",
       "    </tr>\n",
       "    <tr>\n",
       "      <th>347995</th>\n",
       "      <td>175</td>\n",
       "      <td>5</td>\n",
       "      <td>20</td>\n",
       "      <td>6</td>\n",
       "      <td>6</td>\n",
       "      <td>75</td>\n",
       "      <td>174</td>\n",
       "      <td>180</td>\n",
       "      <td>1</td>\n",
       "      <td>False</td>\n",
       "      <td>though</td>\n",
       "      <td>though</td>\n",
       "    </tr>\n",
       "    <tr>\n",
       "      <th>347997</th>\n",
       "      <td>175</td>\n",
       "      <td>5</td>\n",
       "      <td>20</td>\n",
       "      <td>6</td>\n",
       "      <td>6</td>\n",
       "      <td>75</td>\n",
       "      <td>174</td>\n",
       "      <td>180</td>\n",
       "      <td>1</td>\n",
       "      <td>False</td>\n",
       "      <td>if</td>\n",
       "      <td>if</td>\n",
       "    </tr>\n",
       "    <tr>\n",
       "      <th>347998</th>\n",
       "      <td>175</td>\n",
       "      <td>5</td>\n",
       "      <td>20</td>\n",
       "      <td>6</td>\n",
       "      <td>6</td>\n",
       "      <td>75</td>\n",
       "      <td>174</td>\n",
       "      <td>180</td>\n",
       "      <td>1</td>\n",
       "      <td>False</td>\n",
       "      <td>I</td>\n",
       "      <td>i</td>\n",
       "    </tr>\n",
       "    <tr>\n",
       "      <th>347999</th>\n",
       "      <td>175</td>\n",
       "      <td>5</td>\n",
       "      <td>20</td>\n",
       "      <td>6</td>\n",
       "      <td>6</td>\n",
       "      <td>75</td>\n",
       "      <td>174</td>\n",
       "      <td>180</td>\n",
       "      <td>1</td>\n",
       "      <td>False</td>\n",
       "      <td>said</td>\n",
       "      <td>said</td>\n",
       "    </tr>\n",
       "    <tr>\n",
       "      <th>348000</th>\n",
       "      <td>175</td>\n",
       "      <td>5</td>\n",
       "      <td>20</td>\n",
       "      <td>6</td>\n",
       "      <td>6</td>\n",
       "      <td>75</td>\n",
       "      <td>174</td>\n",
       "      <td>180</td>\n",
       "      <td>1</td>\n",
       "      <td>False</td>\n",
       "      <td>something</td>\n",
       "      <td>something</td>\n",
       "    </tr>\n",
       "  </tbody>\n",
       "</table>\n",
       "<p>282602 rows × 12 columns</p>\n",
       "</div>"
      ],
      "text/plain": [
       "        conv  run  trial  turn  utterance  speaker  onset  offset   \n",
       "0        103    1      2     0          0      103     42      43  \\\n",
       "2        103    1      2     0          0      103     42      43   \n",
       "3        103    1      2     0          0      103     42      43   \n",
       "4        103    1      2     0          0      103     42      43   \n",
       "5        103    1      2     0          0      103     42      43   \n",
       "...      ...  ...    ...   ...        ...      ...    ...     ...   \n",
       "347995   175    5     20     6          6       75    174     180   \n",
       "347997   175    5     20     6          6       75    174     180   \n",
       "347998   175    5     20     6          6       75    174     180   \n",
       "347999   175    5     20     6          6       75    174     180   \n",
       "348000   175    5     20     6          6       75    174     180   \n",
       "\n",
       "        sentence_id  is_punct      token token_norm  \n",
       "0                 0     False         Um         um  \n",
       "2                 0     False        uh          uh  \n",
       "3                 0     False       I'd         i'd  \n",
       "4                 0     False      want        want  \n",
       "5                 0     False        to          to  \n",
       "...             ...       ...        ...        ...  \n",
       "347995            1     False     though     though  \n",
       "347997            1     False        if          if  \n",
       "347998            1     False         I           i  \n",
       "347999            1     False      said        said  \n",
       "348000            1     False  something  something  \n",
       "\n",
       "[282602 rows x 12 columns]"
      ]
     },
     "execution_count": 9,
     "metadata": {},
     "output_type": "execute_result"
    }
   ],
   "source": [
    "df[~df.is_punct]"
   ]
  },
  {
   "cell_type": "code",
   "execution_count": 10,
   "metadata": {},
   "outputs": [
    {
     "data": {
      "text/html": [
       "<div>\n",
       "<style scoped>\n",
       "    .dataframe tbody tr th:only-of-type {\n",
       "        vertical-align: middle;\n",
       "    }\n",
       "\n",
       "    .dataframe tbody tr th {\n",
       "        vertical-align: top;\n",
       "    }\n",
       "\n",
       "    .dataframe thead th {\n",
       "        text-align: right;\n",
       "    }\n",
       "</style>\n",
       "<table border=\"1\" class=\"dataframe\">\n",
       "  <thead>\n",
       "    <tr style=\"text-align: right;\">\n",
       "      <th></th>\n",
       "      <th>conv</th>\n",
       "      <th>run</th>\n",
       "      <th>trial</th>\n",
       "      <th>turn</th>\n",
       "      <th>utterance</th>\n",
       "      <th>speaker</th>\n",
       "      <th>onset</th>\n",
       "      <th>offset</th>\n",
       "      <th>sentence_id</th>\n",
       "      <th>is_punct</th>\n",
       "      <th>token</th>\n",
       "      <th>token_norm</th>\n",
       "    </tr>\n",
       "  </thead>\n",
       "  <tbody>\n",
       "    <tr>\n",
       "      <th>147206</th>\n",
       "      <td>132</td>\n",
       "      <td>4</td>\n",
       "      <td>15</td>\n",
       "      <td>3</td>\n",
       "      <td>3</td>\n",
       "      <td>132</td>\n",
       "      <td>69</td>\n",
       "      <td>180</td>\n",
       "      <td>2</td>\n",
       "      <td>True</td>\n",
       "      <td>(</td>\n",
       "      <td>NaN</td>\n",
       "    </tr>\n",
       "    <tr>\n",
       "      <th>305690</th>\n",
       "      <td>166</td>\n",
       "      <td>3</td>\n",
       "      <td>10</td>\n",
       "      <td>19</td>\n",
       "      <td>19</td>\n",
       "      <td>166</td>\n",
       "      <td>106</td>\n",
       "      <td>109</td>\n",
       "      <td>0</td>\n",
       "      <td>True</td>\n",
       "      <td>(</td>\n",
       "      <td>NaN</td>\n",
       "    </tr>\n",
       "    <tr>\n",
       "      <th>305694</th>\n",
       "      <td>166</td>\n",
       "      <td>3</td>\n",
       "      <td>10</td>\n",
       "      <td>20</td>\n",
       "      <td>20</td>\n",
       "      <td>66</td>\n",
       "      <td>109</td>\n",
       "      <td>111</td>\n",
       "      <td>0</td>\n",
       "      <td>True</td>\n",
       "      <td>(</td>\n",
       "      <td>NaN</td>\n",
       "    </tr>\n",
       "    <tr>\n",
       "      <th>305885</th>\n",
       "      <td>166</td>\n",
       "      <td>3</td>\n",
       "      <td>10</td>\n",
       "      <td>31</td>\n",
       "      <td>31</td>\n",
       "      <td>166</td>\n",
       "      <td>162</td>\n",
       "      <td>169</td>\n",
       "      <td>1</td>\n",
       "      <td>True</td>\n",
       "      <td>(</td>\n",
       "      <td>NaN</td>\n",
       "    </tr>\n",
       "    <tr>\n",
       "      <th>305889</th>\n",
       "      <td>166</td>\n",
       "      <td>3</td>\n",
       "      <td>10</td>\n",
       "      <td>32</td>\n",
       "      <td>32</td>\n",
       "      <td>66</td>\n",
       "      <td>169</td>\n",
       "      <td>173</td>\n",
       "      <td>0</td>\n",
       "      <td>True</td>\n",
       "      <td>(</td>\n",
       "      <td>NaN</td>\n",
       "    </tr>\n",
       "    <tr>\n",
       "      <th>305958</th>\n",
       "      <td>166</td>\n",
       "      <td>3</td>\n",
       "      <td>12</td>\n",
       "      <td>5</td>\n",
       "      <td>5</td>\n",
       "      <td>166</td>\n",
       "      <td>18</td>\n",
       "      <td>24</td>\n",
       "      <td>1</td>\n",
       "      <td>True</td>\n",
       "      <td>(</td>\n",
       "      <td>NaN</td>\n",
       "    </tr>\n",
       "    <tr>\n",
       "      <th>306439</th>\n",
       "      <td>166</td>\n",
       "      <td>3</td>\n",
       "      <td>12</td>\n",
       "      <td>40</td>\n",
       "      <td>40</td>\n",
       "      <td>66</td>\n",
       "      <td>173</td>\n",
       "      <td>180</td>\n",
       "      <td>0</td>\n",
       "      <td>True</td>\n",
       "      <td>(</td>\n",
       "      <td>NaN</td>\n",
       "    </tr>\n",
       "    <tr>\n",
       "      <th>327688</th>\n",
       "      <td>172</td>\n",
       "      <td>3</td>\n",
       "      <td>10</td>\n",
       "      <td>9</td>\n",
       "      <td>9</td>\n",
       "      <td>172</td>\n",
       "      <td>120</td>\n",
       "      <td>129</td>\n",
       "      <td>0</td>\n",
       "      <td>True</td>\n",
       "      <td>(</td>\n",
       "      <td>NaN</td>\n",
       "    </tr>\n",
       "    <tr>\n",
       "      <th>331665</th>\n",
       "      <td>173</td>\n",
       "      <td>2</td>\n",
       "      <td>5</td>\n",
       "      <td>2</td>\n",
       "      <td>2</td>\n",
       "      <td>173</td>\n",
       "      <td>75</td>\n",
       "      <td>101</td>\n",
       "      <td>2</td>\n",
       "      <td>True</td>\n",
       "      <td>(</td>\n",
       "      <td>NaN</td>\n",
       "    </tr>\n",
       "  </tbody>\n",
       "</table>\n",
       "</div>"
      ],
      "text/plain": [
       "        conv  run  trial  turn  utterance  speaker  onset  offset   \n",
       "147206   132    4     15     3          3      132     69     180  \\\n",
       "305690   166    3     10    19         19      166    106     109   \n",
       "305694   166    3     10    20         20       66    109     111   \n",
       "305885   166    3     10    31         31      166    162     169   \n",
       "305889   166    3     10    32         32       66    169     173   \n",
       "305958   166    3     12     5          5      166     18      24   \n",
       "306439   166    3     12    40         40       66    173     180   \n",
       "327688   172    3     10     9          9      172    120     129   \n",
       "331665   173    2      5     2          2      173     75     101   \n",
       "\n",
       "        sentence_id  is_punct token token_norm  \n",
       "147206            2      True     (        NaN  \n",
       "305690            0      True     (        NaN  \n",
       "305694            0      True     (        NaN  \n",
       "305885            1      True     (        NaN  \n",
       "305889            0      True     (        NaN  \n",
       "305958            1      True     (        NaN  \n",
       "306439            0      True     (        NaN  \n",
       "327688            0      True     (        NaN  \n",
       "331665            2      True     (        NaN  "
      ]
     },
     "execution_count": 10,
     "metadata": {},
     "output_type": "execute_result"
    }
   ],
   "source": [
    "df[df.token.str.startswith('(')]"
   ]
  },
  {
   "cell_type": "code",
   "execution_count": 17,
   "metadata": {},
   "outputs": [],
   "source": [
    "# df_sents = df.groupby(['conv', 'run', 'trial', 'speaker', 'utterance', 'sentence_id'], sort=False).token.apply(lambda x: ''.join(x))\n",
    "df_sents = df.groupby(\n",
    "    [\"conv\", \"run\", \"trial\", \"speaker\", \"utterance\", \"sentence_id\"], sort=False\n",
    ").agg({\"onset\": \"first\", \"offset\": \"last\", \"set\": \"first\", \"item\": \"first\", \"token\": lambda x: \"\".join(x)})\n",
    "df_sents.to_csv(\"sentences.csv\")"
   ]
  },
  {
   "cell_type": "code",
   "execution_count": 18,
   "metadata": {},
   "outputs": [
    {
     "data": {
      "text/html": [
       "<div>\n",
       "<style scoped>\n",
       "    .dataframe tbody tr th:only-of-type {\n",
       "        vertical-align: middle;\n",
       "    }\n",
       "\n",
       "    .dataframe tbody tr th {\n",
       "        vertical-align: top;\n",
       "    }\n",
       "\n",
       "    .dataframe thead th {\n",
       "        text-align: right;\n",
       "    }\n",
       "</style>\n",
       "<table border=\"1\" class=\"dataframe\">\n",
       "  <thead>\n",
       "    <tr style=\"text-align: right;\">\n",
       "      <th></th>\n",
       "      <th></th>\n",
       "      <th></th>\n",
       "      <th></th>\n",
       "      <th></th>\n",
       "      <th></th>\n",
       "      <th>onset</th>\n",
       "      <th>offset</th>\n",
       "      <th>set</th>\n",
       "      <th>item</th>\n",
       "      <th>token</th>\n",
       "    </tr>\n",
       "    <tr>\n",
       "      <th>conv</th>\n",
       "      <th>run</th>\n",
       "      <th>trial</th>\n",
       "      <th>speaker</th>\n",
       "      <th>utterance</th>\n",
       "      <th>sentence_id</th>\n",
       "      <th></th>\n",
       "      <th></th>\n",
       "      <th></th>\n",
       "      <th></th>\n",
       "      <th></th>\n",
       "    </tr>\n",
       "  </thead>\n",
       "  <tbody>\n",
       "    <tr>\n",
       "      <th rowspan=\"5\" valign=\"top\">103</th>\n",
       "      <th rowspan=\"5\" valign=\"top\">1</th>\n",
       "      <th rowspan=\"5\" valign=\"top\">2</th>\n",
       "      <th rowspan=\"4\" valign=\"top\">103</th>\n",
       "      <th>0</th>\n",
       "      <th>0</th>\n",
       "      <td>42</td>\n",
       "      <td>43</td>\n",
       "      <td>1</td>\n",
       "      <td>2</td>\n",
       "      <td>Um, uh I'd want to be famous for something, I ...</td>\n",
       "    </tr>\n",
       "    <tr>\n",
       "      <th rowspan=\"3\" valign=\"top\">1</th>\n",
       "      <th>0</th>\n",
       "      <td>43</td>\n",
       "      <td>44</td>\n",
       "      <td>1</td>\n",
       "      <td>2</td>\n",
       "      <td>But honestly, I, like if you make a big discov...</td>\n",
       "    </tr>\n",
       "    <tr>\n",
       "      <th>1</th>\n",
       "      <td>43</td>\n",
       "      <td>44</td>\n",
       "      <td>1</td>\n",
       "      <td>2</td>\n",
       "      <td>I don't know, that'd be pretty cool.</td>\n",
       "    </tr>\n",
       "    <tr>\n",
       "      <th>2</th>\n",
       "      <td>43</td>\n",
       "      <td>44</td>\n",
       "      <td>1</td>\n",
       "      <td>2</td>\n",
       "      <td>Sure, I could do it.</td>\n",
       "    </tr>\n",
       "    <tr>\n",
       "      <th>3</th>\n",
       "      <th>2</th>\n",
       "      <th>0</th>\n",
       "      <td>44</td>\n",
       "      <td>46</td>\n",
       "      <td>1</td>\n",
       "      <td>2</td>\n",
       "      <td>Um I think I want to be famous also, probably ...</td>\n",
       "    </tr>\n",
       "    <tr>\n",
       "      <th>...</th>\n",
       "      <th>...</th>\n",
       "      <th>...</th>\n",
       "      <th>...</th>\n",
       "      <th>...</th>\n",
       "      <th>...</th>\n",
       "      <td>...</td>\n",
       "      <td>...</td>\n",
       "      <td>...</td>\n",
       "      <td>...</td>\n",
       "      <td>...</td>\n",
       "    </tr>\n",
       "    <tr>\n",
       "      <th rowspan=\"5\" valign=\"top\">175</th>\n",
       "      <th rowspan=\"5\" valign=\"top\">5</th>\n",
       "      <th rowspan=\"5\" valign=\"top\">20</th>\n",
       "      <th>75</th>\n",
       "      <th>4</th>\n",
       "      <th>6</th>\n",
       "      <td>123</td>\n",
       "      <td>154</td>\n",
       "      <td>3</td>\n",
       "      <td>20</td>\n",
       "      <td>Like, I don't know.</td>\n",
       "    </tr>\n",
       "    <tr>\n",
       "      <th rowspan=\"2\" valign=\"top\">175</th>\n",
       "      <th rowspan=\"2\" valign=\"top\">5</th>\n",
       "      <th>0</th>\n",
       "      <td>154</td>\n",
       "      <td>174</td>\n",
       "      <td>3</td>\n",
       "      <td>20</td>\n",
       "      <td>Yeah, I don't think that's okay.</td>\n",
       "    </tr>\n",
       "    <tr>\n",
       "      <th>1</th>\n",
       "      <td>154</td>\n",
       "      <td>174</td>\n",
       "      <td>3</td>\n",
       "      <td>20</td>\n",
       "      <td>I mean, I think, I don't know, maybe if I was ...</td>\n",
       "    </tr>\n",
       "    <tr>\n",
       "      <th rowspan=\"2\" valign=\"top\">75</th>\n",
       "      <th rowspan=\"2\" valign=\"top\">6</th>\n",
       "      <th>0</th>\n",
       "      <td>174</td>\n",
       "      <td>180</td>\n",
       "      <td>3</td>\n",
       "      <td>20</td>\n",
       "      <td>Yeah.</td>\n",
       "    </tr>\n",
       "    <tr>\n",
       "      <th>1</th>\n",
       "      <td>174</td>\n",
       "      <td>180</td>\n",
       "      <td>3</td>\n",
       "      <td>20</td>\n",
       "      <td>I, I just don't know if she'd really listen an...</td>\n",
       "    </tr>\n",
       "  </tbody>\n",
       "</table>\n",
       "<p>19095 rows × 5 columns</p>\n",
       "</div>"
      ],
      "text/plain": [
       "                                              onset  offset  set  item   \n",
       "conv run trial speaker utterance sentence_id                             \n",
       "103  1   2     103     0         0               42      43    1     2  \\\n",
       "                       1         0               43      44    1     2   \n",
       "                                 1               43      44    1     2   \n",
       "                                 2               43      44    1     2   \n",
       "               3       2         0               44      46    1     2   \n",
       "...                                             ...     ...  ...   ...   \n",
       "175  5   20    75      4         6              123     154    3    20   \n",
       "               175     5         0              154     174    3    20   \n",
       "                                 1              154     174    3    20   \n",
       "               75      6         0              174     180    3    20   \n",
       "                                 1              174     180    3    20   \n",
       "\n",
       "                                                                                          token  \n",
       "conv run trial speaker utterance sentence_id                                                     \n",
       "103  1   2     103     0         0            Um, uh I'd want to be famous for something, I ...  \n",
       "                       1         0            But honestly, I, like if you make a big discov...  \n",
       "                                 1                        I don't know, that'd be pretty cool.   \n",
       "                                 2                                         Sure, I could do it.  \n",
       "               3       2         0            Um I think I want to be famous also, probably ...  \n",
       "...                                                                                         ...  \n",
       "175  5   20    75      4         6                                          Like, I don't know.  \n",
       "               175     5         0                            Yeah, I don't think that's okay.   \n",
       "                                 1            I mean, I think, I don't know, maybe if I was ...  \n",
       "               75      6         0                                                       Yeah.   \n",
       "                                 1            I, I just don't know if she'd really listen an...  \n",
       "\n",
       "[19095 rows x 5 columns]"
      ]
     },
     "execution_count": 18,
     "metadata": {},
     "output_type": "execute_result"
    }
   ],
   "source": [
    "df_sents"
   ]
  },
  {
   "attachments": {},
   "cell_type": "markdown",
   "metadata": {},
   "source": [
    "## Aligned transcripts\n",
    "first, check that MFA created TextGrids"
   ]
  },
  {
   "cell_type": "code",
   "execution_count": 36,
   "metadata": {},
   "outputs": [
    {
     "data": {
      "text/plain": [
       "309"
      ]
     },
     "execution_count": 36,
     "metadata": {},
     "output_type": "execute_result"
    }
   ],
   "source": [
    "transpath = Path(root=\"stimuli\", datatype=\"aligned\", ext=\".TextGrid\")\n",
    "files = glob(transpath.starstr([\"conv\", \"datatype\"]))\n",
    "len(files)"
   ]
  },
  {
   "cell_type": "code",
   "execution_count": 37,
   "metadata": {},
   "outputs": [
    {
     "data": {
      "text/html": [
       "<div>\n",
       "<style scoped>\n",
       "    .dataframe tbody tr th:only-of-type {\n",
       "        vertical-align: middle;\n",
       "    }\n",
       "\n",
       "    .dataframe tbody tr th {\n",
       "        vertical-align: top;\n",
       "    }\n",
       "\n",
       "    .dataframe thead th {\n",
       "        text-align: right;\n",
       "    }\n",
       "</style>\n",
       "<table border=\"1\" class=\"dataframe\">\n",
       "  <thead>\n",
       "    <tr style=\"text-align: right;\">\n",
       "      <th></th>\n",
       "      <th>conv</th>\n",
       "      <th>run</th>\n",
       "      <th>trial</th>\n",
       "    </tr>\n",
       "  </thead>\n",
       "  <tbody>\n",
       "    <tr>\n",
       "      <th>0</th>\n",
       "      <td>101</td>\n",
       "      <td>1</td>\n",
       "      <td>1</td>\n",
       "    </tr>\n",
       "    <tr>\n",
       "      <th>1</th>\n",
       "      <td>101</td>\n",
       "      <td>1</td>\n",
       "      <td>3</td>\n",
       "    </tr>\n",
       "    <tr>\n",
       "      <th>2</th>\n",
       "      <td>101</td>\n",
       "      <td>2</td>\n",
       "      <td>6</td>\n",
       "    </tr>\n",
       "    <tr>\n",
       "      <th>3</th>\n",
       "      <td>101</td>\n",
       "      <td>2</td>\n",
       "      <td>8</td>\n",
       "    </tr>\n",
       "    <tr>\n",
       "      <th>4</th>\n",
       "      <td>101</td>\n",
       "      <td>3</td>\n",
       "      <td>10</td>\n",
       "    </tr>\n",
       "    <tr>\n",
       "      <th>...</th>\n",
       "      <td>...</td>\n",
       "      <td>...</td>\n",
       "      <td>...</td>\n",
       "    </tr>\n",
       "    <tr>\n",
       "      <th>304</th>\n",
       "      <td>174</td>\n",
       "      <td>3</td>\n",
       "      <td>12</td>\n",
       "    </tr>\n",
       "    <tr>\n",
       "      <th>305</th>\n",
       "      <td>174</td>\n",
       "      <td>4</td>\n",
       "      <td>13</td>\n",
       "    </tr>\n",
       "    <tr>\n",
       "      <th>306</th>\n",
       "      <td>174</td>\n",
       "      <td>4</td>\n",
       "      <td>15</td>\n",
       "    </tr>\n",
       "    <tr>\n",
       "      <th>307</th>\n",
       "      <td>174</td>\n",
       "      <td>5</td>\n",
       "      <td>18</td>\n",
       "    </tr>\n",
       "    <tr>\n",
       "      <th>308</th>\n",
       "      <td>174</td>\n",
       "      <td>5</td>\n",
       "      <td>20</td>\n",
       "    </tr>\n",
       "  </tbody>\n",
       "</table>\n",
       "<p>309 rows × 3 columns</p>\n",
       "</div>"
      ],
      "text/plain": [
       "     conv  run  trial\n",
       "0     101    1      1\n",
       "1     101    1      3\n",
       "2     101    2      6\n",
       "3     101    2      8\n",
       "4     101    3     10\n",
       "..    ...  ...    ...\n",
       "304   174    3     12\n",
       "305   174    4     13\n",
       "306   174    4     15\n",
       "307   174    5     18\n",
       "308   174    5     20\n",
       "\n",
       "[309 rows x 3 columns]"
      ]
     },
     "execution_count": 37,
     "metadata": {},
     "output_type": "execute_result"
    }
   ],
   "source": [
    "records = []\n",
    "for file in files:\n",
    "    path = Path.frompath(file)\n",
    "    records.append([path[\"conv\"], path[\"run\"], path[\"trial\"]])\n",
    "df = pd.DataFrame(records, columns=[\"conv\", \"run\", \"trial\"])\n",
    "df.sort_values([\"conv\", \"run\", \"trial\"], inplace=True)\n",
    "df.reset_index(drop=True, inplace=True)\n",
    "df"
   ]
  },
  {
   "cell_type": "code",
   "execution_count": 38,
   "metadata": {},
   "outputs": [
    {
     "data": {
      "text/plain": [
       "{119}"
      ]
     },
     "execution_count": 38,
     "metadata": {},
     "output_type": "execute_result"
    }
   ],
   "source": [
    "# what conversations are missing?\n",
    "set(CONVS_STRANGERS) - set(df.conv.unique().tolist())"
   ]
  },
  {
   "cell_type": "code",
   "execution_count": 39,
   "metadata": {},
   "outputs": [
    {
     "data": {
      "text/plain": [
       "conv\n",
       "143    11\n",
       "171     8\n",
       "Name: trial, dtype: int64"
      ]
     },
     "execution_count": 39,
     "metadata": {},
     "output_type": "execute_result"
    }
   ],
   "source": [
    "# Which trials are missing?\n",
    "dft = df.groupby(\"conv\").trial.count()\n",
    "dft[dft.values != 10]"
   ]
  },
  {
   "attachments": {},
   "cell_type": "markdown",
   "metadata": {},
   "source": [
    "# Merged transcripts"
   ]
  },
  {
   "cell_type": "code",
   "execution_count": 51,
   "metadata": {},
   "outputs": [
    {
     "data": {
      "text/plain": [
       "332"
      ]
     },
     "execution_count": 51,
     "metadata": {},
     "output_type": "execute_result"
    }
   ],
   "source": [
    "transpath = Path(root=\"stimuli\", datatype=\"aligned\", ext=\".csv\")\n",
    "files = glob(transpath.starstr([\"conv\", \"datatype\"]))\n",
    "len(files)"
   ]
  },
  {
   "cell_type": "code",
   "execution_count": 54,
   "metadata": {},
   "outputs": [
    {
     "name": "stdout",
     "output_type": "stream",
     "text": [
      "147285\n"
     ]
    },
    {
     "data": {
      "text/html": [
       "<div>\n",
       "<style scoped>\n",
       "    .dataframe tbody tr th:only-of-type {\n",
       "        vertical-align: middle;\n",
       "    }\n",
       "\n",
       "    .dataframe tbody tr th {\n",
       "        vertical-align: top;\n",
       "    }\n",
       "\n",
       "    .dataframe thead th {\n",
       "        text-align: right;\n",
       "    }\n",
       "</style>\n",
       "<table border=\"1\" class=\"dataframe\">\n",
       "  <thead>\n",
       "    <tr style=\"text-align: right;\">\n",
       "      <th></th>\n",
       "      <th>conv</th>\n",
       "      <th>run</th>\n",
       "      <th>trial</th>\n",
       "      <th>turn</th>\n",
       "      <th>utterance</th>\n",
       "      <th>speaker</th>\n",
       "      <th>sentence_id</th>\n",
       "      <th>token</th>\n",
       "      <th>token_norm</th>\n",
       "      <th>onset</th>\n",
       "      <th>offset</th>\n",
       "    </tr>\n",
       "  </thead>\n",
       "  <tbody>\n",
       "    <tr>\n",
       "      <th>0</th>\n",
       "      <td>101</td>\n",
       "      <td>1</td>\n",
       "      <td>1</td>\n",
       "      <td>0</td>\n",
       "      <td>0</td>\n",
       "      <td>1</td>\n",
       "      <td>0.0</td>\n",
       "      <td>Hi</td>\n",
       "      <td>hi</td>\n",
       "      <td>4.00</td>\n",
       "      <td>4.34</td>\n",
       "    </tr>\n",
       "    <tr>\n",
       "      <th>1</th>\n",
       "      <td>101</td>\n",
       "      <td>1</td>\n",
       "      <td>1</td>\n",
       "      <td>0</td>\n",
       "      <td>0</td>\n",
       "      <td>1</td>\n",
       "      <td>1.0</td>\n",
       "      <td>Um</td>\n",
       "      <td>um</td>\n",
       "      <td>4.34</td>\n",
       "      <td>4.59</td>\n",
       "    </tr>\n",
       "    <tr>\n",
       "      <th>2</th>\n",
       "      <td>101</td>\n",
       "      <td>1</td>\n",
       "      <td>1</td>\n",
       "      <td>0</td>\n",
       "      <td>0</td>\n",
       "      <td>1</td>\n",
       "      <td>1.0</td>\n",
       "      <td>so</td>\n",
       "      <td>so</td>\n",
       "      <td>4.72</td>\n",
       "      <td>5.18</td>\n",
       "    </tr>\n",
       "    <tr>\n",
       "      <th>3</th>\n",
       "      <td>101</td>\n",
       "      <td>1</td>\n",
       "      <td>1</td>\n",
       "      <td>0</td>\n",
       "      <td>0</td>\n",
       "      <td>1</td>\n",
       "      <td>1.0</td>\n",
       "      <td>given</td>\n",
       "      <td>given</td>\n",
       "      <td>5.36</td>\n",
       "      <td>5.69</td>\n",
       "    </tr>\n",
       "    <tr>\n",
       "      <th>4</th>\n",
       "      <td>101</td>\n",
       "      <td>1</td>\n",
       "      <td>1</td>\n",
       "      <td>0</td>\n",
       "      <td>0</td>\n",
       "      <td>1</td>\n",
       "      <td>1.0</td>\n",
       "      <td>the</td>\n",
       "      <td>the</td>\n",
       "      <td>5.69</td>\n",
       "      <td>7.92</td>\n",
       "    </tr>\n",
       "  </tbody>\n",
       "</table>\n",
       "</div>"
      ],
      "text/plain": [
       "   conv  run  trial  turn  utterance  speaker  sentence_id   token token_norm   \n",
       "0   101    1      1     0          0        1          0.0      Hi         hi  \\\n",
       "1   101    1      1     0          0        1          1.0      Um         um   \n",
       "2   101    1      1     0          0        1          1.0     so          so   \n",
       "3   101    1      1     0          0        1          1.0  given       given   \n",
       "4   101    1      1     0          0        1          1.0    the         the   \n",
       "\n",
       "   onset  offset  \n",
       "0   4.00    4.34  \n",
       "1   4.34    4.59  \n",
       "2   4.72    5.18  \n",
       "3   5.36    5.69  \n",
       "4   5.69    7.92  "
      ]
     },
     "execution_count": 54,
     "metadata": {},
     "output_type": "execute_result"
    }
   ],
   "source": [
    "dfs = []\n",
    "for filename in files:\n",
    "    if \"analysis\" in filename:\n",
    "        continue\n",
    "    df = pd.read_csv(filename, index_col=0)\n",
    "    filepath = Path.frompath(filename)\n",
    "    df.insert(0, \"conv\", filepath[\"conv\"])\n",
    "    dfs.append(df)\n",
    "df = pd.concat(dfs)\n",
    "df.sort_values([\"conv\", \"run\", \"trial\", \"onset\"], inplace=True)\n",
    "df.reset_index(drop=True, inplace=True)\n",
    "\n",
    "print(len(df))\n",
    "df.head()"
   ]
  },
  {
   "cell_type": "code",
   "execution_count": 56,
   "metadata": {},
   "outputs": [
    {
     "data": {
      "text/plain": [
       "{119, 171}"
      ]
     },
     "execution_count": 56,
     "metadata": {},
     "output_type": "execute_result"
    }
   ],
   "source": [
    "# what conversations are missing?\n",
    "set(CONVS_STRANGERS) - set(df.conv.unique().tolist())"
   ]
  },
  {
   "cell_type": "code",
   "execution_count": 57,
   "metadata": {},
   "outputs": [
    {
     "data": {
      "text/plain": [
       "conv\n",
       "143    11\n",
       "Name: trial, dtype: int64"
      ]
     },
     "execution_count": 57,
     "metadata": {},
     "output_type": "execute_result"
    }
   ],
   "source": [
    "# Which trials are missing?\n",
    "dfc = df[[\"conv\", \"run\", \"trial\"]].drop_duplicates().reset_index(drop=True)\n",
    "dft = dfc.groupby(\"conv\").trial.count()\n",
    "dft[dft.values != 10]"
   ]
  },
  {
   "cell_type": "code",
   "execution_count": 61,
   "metadata": {},
   "outputs": [
    {
     "data": {
      "text/plain": [
       "conv\n",
       "101    10\n",
       "104    10\n",
       "105    10\n",
       "106    10\n",
       "107    10\n",
       "108    10\n",
       "111    10\n",
       "112    10\n",
       "114    10\n",
       "116    10\n",
       "117    10\n",
       "120    10\n",
       "122    10\n",
       "123    10\n",
       "126    10\n",
       "128    10\n",
       "129    10\n",
       "131    10\n",
       "132    10\n",
       "133    10\n",
       "137    10\n",
       "138    10\n",
       "142    10\n",
       "143    11\n",
       "153    10\n",
       "156    10\n",
       "157    10\n",
       "158    10\n",
       "163    10\n",
       "174    10\n",
       "Name: trial, dtype: int64"
      ]
     },
     "execution_count": 61,
     "metadata": {},
     "output_type": "execute_result"
    }
   ],
   "source": [
    "dft"
   ]
  },
  {
   "cell_type": "code",
   "execution_count": 62,
   "metadata": {},
   "outputs": [
    {
     "data": {
      "text/plain": [
       "count    301.000000\n",
       "mean     489.318937\n",
       "std       59.304451\n",
       "min      123.000000\n",
       "25%      458.000000\n",
       "50%      492.000000\n",
       "75%      525.000000\n",
       "max      665.000000\n",
       "Name: token, dtype: float64"
      ]
     },
     "execution_count": 62,
     "metadata": {},
     "output_type": "execute_result"
    }
   ],
   "source": [
    "# Number of words per trial\n",
    "df.groupby([\"conv\", \"run\", \"trial\"]).token.count().describe()"
   ]
  },
  {
   "cell_type": "code",
   "execution_count": 7,
   "metadata": {},
   "outputs": [
    {
     "data": {
      "text/plain": [
       "count    382.000000\n",
       "mean     244.298429\n",
       "std       62.107222\n",
       "min       58.000000\n",
       "25%      205.000000\n",
       "50%      244.500000\n",
       "75%      280.000000\n",
       "max      469.000000\n",
       "Name: token, dtype: float64"
      ]
     },
     "execution_count": 7,
     "metadata": {},
     "output_type": "execute_result"
    }
   ],
   "source": [
    "# Number of words per trial per speaker (how short turns are between speakers)\n",
    "df.groupby([\"conv\", \"run\", \"trial\", \"speaker\"]).token.count().describe()"
   ]
  },
  {
   "cell_type": "code",
   "execution_count": 64,
   "metadata": {},
   "outputs": [
    {
     "data": {
      "text/plain": [
       "conv\n",
       "101    4958\n",
       "104    4848\n",
       "105    5021\n",
       "106    4734\n",
       "107    5456\n",
       "108    5181\n",
       "111    4702\n",
       "112    5036\n",
       "114    5235\n",
       "116    4204\n",
       "117    5847\n",
       "120    4907\n",
       "122    4760\n",
       "123    4457\n",
       "126    5865\n",
       "128    4477\n",
       "129    5087\n",
       "131    4570\n",
       "132    4287\n",
       "133    3985\n",
       "137    5157\n",
       "138    5565\n",
       "142    4868\n",
       "143    4501\n",
       "153    5092\n",
       "156    5121\n",
       "157    5002\n",
       "158    4591\n",
       "163    4786\n",
       "174    4985\n",
       "Name: count, dtype: int64"
      ]
     },
     "execution_count": 64,
     "metadata": {},
     "output_type": "execute_result"
    }
   ],
   "source": [
    "# Number of words per conversations\n",
    "df.conv.value_counts(sort=False)"
   ]
  },
  {
   "cell_type": "code",
   "execution_count": 63,
   "metadata": {},
   "outputs": [
    {
     "data": {
      "text/plain": [
       "conv\n",
       "101    5\n",
       "104    5\n",
       "105    5\n",
       "106    5\n",
       "107    5\n",
       "108    5\n",
       "111    5\n",
       "112    5\n",
       "114    5\n",
       "116    5\n",
       "117    5\n",
       "120    5\n",
       "122    5\n",
       "123    5\n",
       "126    5\n",
       "128    5\n",
       "129    5\n",
       "131    5\n",
       "132    5\n",
       "133    5\n",
       "137    5\n",
       "138    5\n",
       "142    5\n",
       "143    5\n",
       "153    5\n",
       "156    5\n",
       "157    5\n",
       "158    5\n",
       "163    5\n",
       "174    5\n",
       "Name: run, dtype: int64"
      ]
     },
     "execution_count": 63,
     "metadata": {},
     "output_type": "execute_result"
    }
   ],
   "source": [
    "# Runs per conversation\n",
    "# Should be 5 runs per conversation\n",
    "df[[\"conv\", \"run\"]].drop_duplicates().reset_index(drop=True).groupby(\"conv\").run.count()"
   ]
  },
  {
   "attachments": {},
   "cell_type": "markdown",
   "metadata": {},
   "source": [
    "# Brain confounds"
   ]
  },
  {
   "cell_type": "code",
   "execution_count": 31,
   "metadata": {},
   "outputs": [],
   "source": [
    "CONFOUNDS = set(\n",
    "    [\n",
    "        \"a_comp_cor_00\",\n",
    "        \"a_comp_cor_01\",\n",
    "        \"a_comp_cor_02\",\n",
    "        \"a_comp_cor_03\",\n",
    "        \"a_comp_cor_04\",\n",
    "        \"trans_x\",\n",
    "        \"trans_y\",\n",
    "        \"trans_z\",\n",
    "        \"rot_x\",\n",
    "        \"rot_y\",\n",
    "        \"rot_z\",\n",
    "        \"cosine00\",\n",
    "    ]\n",
    ")"
   ]
  },
  {
   "cell_type": "code",
   "execution_count": 19,
   "metadata": {},
   "outputs": [
    {
     "data": {
      "text/plain": [
       "data/derivatives/fmriprep/sub-*/ses-1/func/sub-*_ses-1_desc-confounds_timeseries.tsv"
      ]
     },
     "execution_count": 19,
     "metadata": {},
     "output_type": "execute_result"
    }
   ],
   "source": [
    "path = Path(\n",
    "    root=\"data/derivatives/fmriprep\",\n",
    "    datatype=\"func\",\n",
    "    sub=\"*\",\n",
    "    ses=\"1\",\n",
    "    desc=\"confounds\",\n",
    "    suffix=\"timeseries\",\n",
    "    ext=\".tsv\",\n",
    ")\n",
    "path"
   ]
  },
  {
   "cell_type": "code",
   "execution_count": 22,
   "metadata": {},
   "outputs": [
    {
     "data": {
      "text/plain": [
       "739"
      ]
     },
     "execution_count": 22,
     "metadata": {},
     "output_type": "execute_result"
    }
   ],
   "source": [
    "files = glob(path.starstr([\"sub\", \"ses\", \"datatype\"]))\n",
    "len(files)"
   ]
  },
  {
   "cell_type": "code",
   "execution_count": 33,
   "metadata": {},
   "outputs": [
    {
     "name": "stdout",
     "output_type": "stream",
     "text": [
      "data/derivatives/fmriprep/sub-101/ses-1/func/sub-101_ses-1_task-Conv_run-1_desc-confounds_timeseries.tsv\n",
      "1\n"
     ]
    }
   ],
   "source": [
    "badfiles = []\n",
    "for filepath in files:\n",
    "    df = pd.read_csv(filepath, sep=\"\\t\", nrows=0)\n",
    "    if len(CONFOUNDS.intersection(set(df.columns.tolist()))) < len(CONFOUNDS):\n",
    "        print(filepath)\n",
    "        badfiles.append(filepath)\n",
    "print(len(badfiles))"
   ]
  },
  {
   "cell_type": "code",
   "execution_count": 34,
   "metadata": {},
   "outputs": [
    {
     "data": {
      "text/html": [
       "<div>\n",
       "<style scoped>\n",
       "    .dataframe tbody tr th:only-of-type {\n",
       "        vertical-align: middle;\n",
       "    }\n",
       "\n",
       "    .dataframe tbody tr th {\n",
       "        vertical-align: top;\n",
       "    }\n",
       "\n",
       "    .dataframe thead th {\n",
       "        text-align: right;\n",
       "    }\n",
       "</style>\n",
       "<table border=\"1\" class=\"dataframe\">\n",
       "  <thead>\n",
       "    <tr style=\"text-align: right;\">\n",
       "      <th></th>\n",
       "      <th>global_signal</th>\n",
       "      <th>global_signal_derivative1</th>\n",
       "      <th>global_signal_power2</th>\n",
       "      <th>global_signal_derivative1_power2</th>\n",
       "      <th>csf</th>\n",
       "      <th>csf_derivative1</th>\n",
       "      <th>csf_power2</th>\n",
       "      <th>csf_derivative1_power2</th>\n",
       "      <th>white_matter</th>\n",
       "      <th>white_matter_derivative1</th>\n",
       "      <th>...</th>\n",
       "      <th>motion_outlier17</th>\n",
       "      <th>motion_outlier18</th>\n",
       "      <th>motion_outlier19</th>\n",
       "      <th>motion_outlier20</th>\n",
       "      <th>motion_outlier21</th>\n",
       "      <th>motion_outlier22</th>\n",
       "      <th>motion_outlier23</th>\n",
       "      <th>motion_outlier24</th>\n",
       "      <th>motion_outlier25</th>\n",
       "      <th>motion_outlier26</th>\n",
       "    </tr>\n",
       "  </thead>\n",
       "  <tbody>\n",
       "    <tr>\n",
       "      <th>0</th>\n",
       "      <td>618.441162</td>\n",
       "      <td>NaN</td>\n",
       "      <td>382469.471237</td>\n",
       "      <td>NaN</td>\n",
       "      <td>426.450592</td>\n",
       "      <td>NaN</td>\n",
       "      <td>181860.107275</td>\n",
       "      <td>NaN</td>\n",
       "      <td>520.307416</td>\n",
       "      <td>NaN</td>\n",
       "      <td>...</td>\n",
       "      <td>0.0</td>\n",
       "      <td>0.0</td>\n",
       "      <td>0.0</td>\n",
       "      <td>0.0</td>\n",
       "      <td>0.0</td>\n",
       "      <td>0.0</td>\n",
       "      <td>0.0</td>\n",
       "      <td>0.0</td>\n",
       "      <td>0.0</td>\n",
       "      <td>0.0</td>\n",
       "    </tr>\n",
       "    <tr>\n",
       "      <th>1</th>\n",
       "      <td>617.029841</td>\n",
       "      <td>-1.411321</td>\n",
       "      <td>380725.824613</td>\n",
       "      <td>1.991828</td>\n",
       "      <td>422.433100</td>\n",
       "      <td>-4.017492</td>\n",
       "      <td>178449.723778</td>\n",
       "      <td>16.140243</td>\n",
       "      <td>519.439973</td>\n",
       "      <td>-0.867443</td>\n",
       "      <td>...</td>\n",
       "      <td>0.0</td>\n",
       "      <td>0.0</td>\n",
       "      <td>0.0</td>\n",
       "      <td>0.0</td>\n",
       "      <td>0.0</td>\n",
       "      <td>0.0</td>\n",
       "      <td>0.0</td>\n",
       "      <td>0.0</td>\n",
       "      <td>0.0</td>\n",
       "      <td>0.0</td>\n",
       "    </tr>\n",
       "    <tr>\n",
       "      <th>2</th>\n",
       "      <td>616.414654</td>\n",
       "      <td>-0.615187</td>\n",
       "      <td>379967.025821</td>\n",
       "      <td>0.378455</td>\n",
       "      <td>422.615533</td>\n",
       "      <td>0.182433</td>\n",
       "      <td>178603.888907</td>\n",
       "      <td>0.033282</td>\n",
       "      <td>519.557217</td>\n",
       "      <td>0.117244</td>\n",
       "      <td>...</td>\n",
       "      <td>0.0</td>\n",
       "      <td>0.0</td>\n",
       "      <td>0.0</td>\n",
       "      <td>0.0</td>\n",
       "      <td>0.0</td>\n",
       "      <td>0.0</td>\n",
       "      <td>0.0</td>\n",
       "      <td>0.0</td>\n",
       "      <td>0.0</td>\n",
       "      <td>0.0</td>\n",
       "    </tr>\n",
       "    <tr>\n",
       "      <th>3</th>\n",
       "      <td>614.814679</td>\n",
       "      <td>-1.599975</td>\n",
       "      <td>377997.089620</td>\n",
       "      <td>2.559920</td>\n",
       "      <td>421.459828</td>\n",
       "      <td>-1.155705</td>\n",
       "      <td>177628.386916</td>\n",
       "      <td>1.335654</td>\n",
       "      <td>518.813584</td>\n",
       "      <td>-0.743632</td>\n",
       "      <td>...</td>\n",
       "      <td>0.0</td>\n",
       "      <td>0.0</td>\n",
       "      <td>0.0</td>\n",
       "      <td>0.0</td>\n",
       "      <td>0.0</td>\n",
       "      <td>0.0</td>\n",
       "      <td>0.0</td>\n",
       "      <td>0.0</td>\n",
       "      <td>0.0</td>\n",
       "      <td>0.0</td>\n",
       "    </tr>\n",
       "    <tr>\n",
       "      <th>4</th>\n",
       "      <td>615.233214</td>\n",
       "      <td>0.418535</td>\n",
       "      <td>378511.907310</td>\n",
       "      <td>0.175171</td>\n",
       "      <td>419.217436</td>\n",
       "      <td>-2.242393</td>\n",
       "      <td>175743.258343</td>\n",
       "      <td>5.028325</td>\n",
       "      <td>518.718417</td>\n",
       "      <td>-0.095167</td>\n",
       "      <td>...</td>\n",
       "      <td>0.0</td>\n",
       "      <td>0.0</td>\n",
       "      <td>0.0</td>\n",
       "      <td>0.0</td>\n",
       "      <td>0.0</td>\n",
       "      <td>0.0</td>\n",
       "      <td>0.0</td>\n",
       "      <td>0.0</td>\n",
       "      <td>0.0</td>\n",
       "      <td>0.0</td>\n",
       "    </tr>\n",
       "    <tr>\n",
       "      <th>...</th>\n",
       "      <td>...</td>\n",
       "      <td>...</td>\n",
       "      <td>...</td>\n",
       "      <td>...</td>\n",
       "      <td>...</td>\n",
       "      <td>...</td>\n",
       "      <td>...</td>\n",
       "      <td>...</td>\n",
       "      <td>...</td>\n",
       "      <td>...</td>\n",
       "      <td>...</td>\n",
       "      <td>...</td>\n",
       "      <td>...</td>\n",
       "      <td>...</td>\n",
       "      <td>...</td>\n",
       "      <td>...</td>\n",
       "      <td>...</td>\n",
       "      <td>...</td>\n",
       "      <td>...</td>\n",
       "      <td>...</td>\n",
       "      <td>...</td>\n",
       "    </tr>\n",
       "    <tr>\n",
       "      <th>61</th>\n",
       "      <td>607.126079</td>\n",
       "      <td>1.027816</td>\n",
       "      <td>368602.075615</td>\n",
       "      <td>1.056407</td>\n",
       "      <td>418.517448</td>\n",
       "      <td>-0.579977</td>\n",
       "      <td>175156.854325</td>\n",
       "      <td>0.336373</td>\n",
       "      <td>516.491259</td>\n",
       "      <td>-0.837065</td>\n",
       "      <td>...</td>\n",
       "      <td>0.0</td>\n",
       "      <td>0.0</td>\n",
       "      <td>0.0</td>\n",
       "      <td>0.0</td>\n",
       "      <td>0.0</td>\n",
       "      <td>0.0</td>\n",
       "      <td>0.0</td>\n",
       "      <td>0.0</td>\n",
       "      <td>0.0</td>\n",
       "      <td>0.0</td>\n",
       "    </tr>\n",
       "    <tr>\n",
       "      <th>62</th>\n",
       "      <td>609.078719</td>\n",
       "      <td>1.952640</td>\n",
       "      <td>370976.885342</td>\n",
       "      <td>3.812802</td>\n",
       "      <td>420.560703</td>\n",
       "      <td>2.043255</td>\n",
       "      <td>176871.304556</td>\n",
       "      <td>4.174889</td>\n",
       "      <td>517.687123</td>\n",
       "      <td>1.195864</td>\n",
       "      <td>...</td>\n",
       "      <td>0.0</td>\n",
       "      <td>0.0</td>\n",
       "      <td>0.0</td>\n",
       "      <td>0.0</td>\n",
       "      <td>0.0</td>\n",
       "      <td>0.0</td>\n",
       "      <td>0.0</td>\n",
       "      <td>0.0</td>\n",
       "      <td>1.0</td>\n",
       "      <td>0.0</td>\n",
       "    </tr>\n",
       "    <tr>\n",
       "      <th>63</th>\n",
       "      <td>608.902201</td>\n",
       "      <td>-0.176517</td>\n",
       "      <td>370761.890736</td>\n",
       "      <td>0.031158</td>\n",
       "      <td>413.767731</td>\n",
       "      <td>-6.792971</td>\n",
       "      <td>171203.735356</td>\n",
       "      <td>46.144461</td>\n",
       "      <td>517.119241</td>\n",
       "      <td>-0.567882</td>\n",
       "      <td>...</td>\n",
       "      <td>0.0</td>\n",
       "      <td>0.0</td>\n",
       "      <td>0.0</td>\n",
       "      <td>0.0</td>\n",
       "      <td>0.0</td>\n",
       "      <td>0.0</td>\n",
       "      <td>0.0</td>\n",
       "      <td>0.0</td>\n",
       "      <td>0.0</td>\n",
       "      <td>0.0</td>\n",
       "    </tr>\n",
       "    <tr>\n",
       "      <th>64</th>\n",
       "      <td>607.437951</td>\n",
       "      <td>-1.464250</td>\n",
       "      <td>368980.864067</td>\n",
       "      <td>2.144030</td>\n",
       "      <td>412.636644</td>\n",
       "      <td>-1.131087</td>\n",
       "      <td>170268.999840</td>\n",
       "      <td>1.279359</td>\n",
       "      <td>517.380701</td>\n",
       "      <td>0.261460</td>\n",
       "      <td>...</td>\n",
       "      <td>0.0</td>\n",
       "      <td>0.0</td>\n",
       "      <td>0.0</td>\n",
       "      <td>0.0</td>\n",
       "      <td>0.0</td>\n",
       "      <td>0.0</td>\n",
       "      <td>0.0</td>\n",
       "      <td>0.0</td>\n",
       "      <td>0.0</td>\n",
       "      <td>0.0</td>\n",
       "    </tr>\n",
       "    <tr>\n",
       "      <th>65</th>\n",
       "      <td>611.756504</td>\n",
       "      <td>4.318554</td>\n",
       "      <td>374246.020680</td>\n",
       "      <td>18.649905</td>\n",
       "      <td>416.859135</td>\n",
       "      <td>4.222492</td>\n",
       "      <td>173771.538776</td>\n",
       "      <td>17.829435</td>\n",
       "      <td>518.833695</td>\n",
       "      <td>1.452994</td>\n",
       "      <td>...</td>\n",
       "      <td>0.0</td>\n",
       "      <td>0.0</td>\n",
       "      <td>0.0</td>\n",
       "      <td>0.0</td>\n",
       "      <td>0.0</td>\n",
       "      <td>0.0</td>\n",
       "      <td>0.0</td>\n",
       "      <td>0.0</td>\n",
       "      <td>0.0</td>\n",
       "      <td>1.0</td>\n",
       "    </tr>\n",
       "  </tbody>\n",
       "</table>\n",
       "<p>66 rows × 101 columns</p>\n",
       "</div>"
      ],
      "text/plain": [
       "    global_signal  global_signal_derivative1  global_signal_power2   \n",
       "0      618.441162                        NaN         382469.471237  \\\n",
       "1      617.029841                  -1.411321         380725.824613   \n",
       "2      616.414654                  -0.615187         379967.025821   \n",
       "3      614.814679                  -1.599975         377997.089620   \n",
       "4      615.233214                   0.418535         378511.907310   \n",
       "..            ...                        ...                   ...   \n",
       "61     607.126079                   1.027816         368602.075615   \n",
       "62     609.078719                   1.952640         370976.885342   \n",
       "63     608.902201                  -0.176517         370761.890736   \n",
       "64     607.437951                  -1.464250         368980.864067   \n",
       "65     611.756504                   4.318554         374246.020680   \n",
       "\n",
       "    global_signal_derivative1_power2         csf  csf_derivative1   \n",
       "0                                NaN  426.450592              NaN  \\\n",
       "1                           1.991828  422.433100        -4.017492   \n",
       "2                           0.378455  422.615533         0.182433   \n",
       "3                           2.559920  421.459828        -1.155705   \n",
       "4                           0.175171  419.217436        -2.242393   \n",
       "..                               ...         ...              ...   \n",
       "61                          1.056407  418.517448        -0.579977   \n",
       "62                          3.812802  420.560703         2.043255   \n",
       "63                          0.031158  413.767731        -6.792971   \n",
       "64                          2.144030  412.636644        -1.131087   \n",
       "65                         18.649905  416.859135         4.222492   \n",
       "\n",
       "       csf_power2  csf_derivative1_power2  white_matter   \n",
       "0   181860.107275                     NaN    520.307416  \\\n",
       "1   178449.723778               16.140243    519.439973   \n",
       "2   178603.888907                0.033282    519.557217   \n",
       "3   177628.386916                1.335654    518.813584   \n",
       "4   175743.258343                5.028325    518.718417   \n",
       "..            ...                     ...           ...   \n",
       "61  175156.854325                0.336373    516.491259   \n",
       "62  176871.304556                4.174889    517.687123   \n",
       "63  171203.735356               46.144461    517.119241   \n",
       "64  170268.999840                1.279359    517.380701   \n",
       "65  173771.538776               17.829435    518.833695   \n",
       "\n",
       "    white_matter_derivative1  ...  motion_outlier17  motion_outlier18   \n",
       "0                        NaN  ...               0.0               0.0  \\\n",
       "1                  -0.867443  ...               0.0               0.0   \n",
       "2                   0.117244  ...               0.0               0.0   \n",
       "3                  -0.743632  ...               0.0               0.0   \n",
       "4                  -0.095167  ...               0.0               0.0   \n",
       "..                       ...  ...               ...               ...   \n",
       "61                 -0.837065  ...               0.0               0.0   \n",
       "62                  1.195864  ...               0.0               0.0   \n",
       "63                 -0.567882  ...               0.0               0.0   \n",
       "64                  0.261460  ...               0.0               0.0   \n",
       "65                  1.452994  ...               0.0               0.0   \n",
       "\n",
       "    motion_outlier19  motion_outlier20  motion_outlier21  motion_outlier22   \n",
       "0                0.0               0.0               0.0               0.0  \\\n",
       "1                0.0               0.0               0.0               0.0   \n",
       "2                0.0               0.0               0.0               0.0   \n",
       "3                0.0               0.0               0.0               0.0   \n",
       "4                0.0               0.0               0.0               0.0   \n",
       "..               ...               ...               ...               ...   \n",
       "61               0.0               0.0               0.0               0.0   \n",
       "62               0.0               0.0               0.0               0.0   \n",
       "63               0.0               0.0               0.0               0.0   \n",
       "64               0.0               0.0               0.0               0.0   \n",
       "65               0.0               0.0               0.0               0.0   \n",
       "\n",
       "    motion_outlier23  motion_outlier24  motion_outlier25  motion_outlier26  \n",
       "0                0.0               0.0               0.0               0.0  \n",
       "1                0.0               0.0               0.0               0.0  \n",
       "2                0.0               0.0               0.0               0.0  \n",
       "3                0.0               0.0               0.0               0.0  \n",
       "4                0.0               0.0               0.0               0.0  \n",
       "..               ...               ...               ...               ...  \n",
       "61               0.0               0.0               0.0               0.0  \n",
       "62               0.0               0.0               1.0               0.0  \n",
       "63               0.0               0.0               0.0               0.0  \n",
       "64               0.0               0.0               0.0               0.0  \n",
       "65               0.0               0.0               0.0               1.0  \n",
       "\n",
       "[66 rows x 101 columns]"
      ]
     },
     "execution_count": 34,
     "metadata": {},
     "output_type": "execute_result"
    }
   ],
   "source": [
    "df = pd.read_csv(\n",
    "    \"data/derivatives/fmriprep/sub-101/ses-1/func/sub-101_ses-1_task-Conv_run-1_desc-confounds_timeseries.tsv\",\n",
    "    sep=\"\\t\",\n",
    ")\n",
    "df"
   ]
  },
  {
   "cell_type": "code",
   "execution_count": 42,
   "metadata": {},
   "outputs": [
    {
     "data": {
      "text/plain": [
       "[]"
      ]
     },
     "execution_count": 42,
     "metadata": {},
     "output_type": "execute_result"
    }
   ],
   "source": [
    "[c for c in df.columns.tolist() if \"cosine\" in c]"
   ]
  },
  {
   "cell_type": "code",
   "execution_count": 58,
   "metadata": {},
   "outputs": [
    {
     "name": "stdout",
     "output_type": "stream",
     "text": [
      "-r--r--r--. 1 ltsoi g_tamir  16M Sep 11  2022 data/sub-101/ses-1/func/sub-101_ses-1_task-Conv_run-01_bold.nii.gz\n",
      "-r--r--r--. 1 ltsoi g_tamir 128M Sep 11  2022 data/sub-101/ses-1/func/sub-101_ses-1_task-Conv_run-02_bold.nii.gz\n",
      "-r--r--r--. 1 ltsoi g_tamir 127M Sep 11  2022 data/sub-101/ses-1/func/sub-101_ses-1_task-Conv_run-03_bold.nii.gz\n",
      "-r--r--r--. 1 ltsoi g_tamir 127M Sep 11  2022 data/sub-101/ses-1/func/sub-101_ses-1_task-Conv_run-04_bold.nii.gz\n",
      "-r--r--r--. 1 ltsoi g_tamir 127M Sep 11  2022 data/sub-101/ses-1/func/sub-101_ses-1_task-Conv_run-05_bold.nii.gz\n"
     ]
    }
   ],
   "source": [
    "!ls -lhtr data/sub-101/ses-1/func/*task-Conv*gz"
   ]
  },
  {
   "cell_type": "code",
   "execution_count": 96,
   "metadata": {},
   "outputs": [
    {
     "name": "stdout",
     "output_type": "stream",
     "text": [
      "109 1 (74, 74, 46, 544)\n",
      "109 2 (74, 74, 46, 544)\n",
      "109 3 (74, 74, 46, 544)\n",
      "109 4 (74, 74, 46, 544)\n",
      "109 5 (74, 74, 46, 544)\n"
     ]
    }
   ],
   "source": [
    "sub = 109\n",
    "for run in range(1, 6):\n",
    "    img = nib.load(\n",
    "        f\"data/sub-{sub:03d}/ses-1/func/sub-{sub:03d}_ses-1_task-Conv_run-{run:02d}_bold.nii.gz\"\n",
    "    )\n",
    "    print(sub, run, img.shape)\n",
    "    del img"
   ]
  },
  {
   "cell_type": "code",
   "execution_count": 52,
   "metadata": {},
   "outputs": [
    {
     "name": "stdout",
     "output_type": "stream",
     "text": [
      "-rw-rw-r--. 1 ltsoi games 216M May 16  2022 data/derivatives/fmriprep/sub-101/ses-1/func/sub-101_ses-1_task-Conv_run-5_space-MNI152NLin2009cAsym_desc-preproc_bold.nii.gz\n",
      "-rw-rw-r--. 1 ltsoi games 215M May 16  2022 data/derivatives/fmriprep/sub-101/ses-1/func/sub-101_ses-1_task-Conv_run-4_space-MNI152NLin2009cAsym_desc-preproc_bold.nii.gz\n",
      "-rw-rw-r--. 1 ltsoi games 215M May 16  2022 data/derivatives/fmriprep/sub-101/ses-1/func/sub-101_ses-1_task-Conv_run-3_space-MNI152NLin2009cAsym_desc-preproc_bold.nii.gz\n",
      "-rw-rw-r--. 1 ltsoi games 216M May 16  2022 data/derivatives/fmriprep/sub-101/ses-1/func/sub-101_ses-1_task-Conv_run-2_space-MNI152NLin2009cAsym_desc-preproc_bold.nii.gz\n",
      "-rw-rw-r--. 1 ltsoi games  26M May 16  2022 data/derivatives/fmriprep/sub-101/ses-1/func/sub-101_ses-1_task-Conv_run-1_space-MNI152NLin2009cAsym_desc-preproc_bold.nii.gz\n"
     ]
    }
   ],
   "source": [
    "!ls -lhtr data/derivatives/fmriprep/sub-101/ses-1/func/sub-101_ses-1_task-Conv_run-*_space-MNI152NLin2009cAsym_desc-preproc_bold.nii.gz"
   ]
  },
  {
   "attachments": {},
   "cell_type": "markdown",
   "metadata": {},
   "source": [
    "# Atlases"
   ]
  },
  {
   "cell_type": "code",
   "execution_count": 58,
   "metadata": {},
   "outputs": [
    {
     "data": {
      "text/plain": [
       "((65, 77, 65, 544),\n",
       " array([[   3. ,    0. ,    0. ,  -96.5],\n",
       "        [   0. ,    3. ,    0. , -132.5],\n",
       "        [   0. ,    0. ,    3. ,  -78.5],\n",
       "        [   0. ,    0. ,    0. ,    1. ]]))"
      ]
     },
     "execution_count": 58,
     "metadata": {},
     "output_type": "execute_result"
    }
   ],
   "source": [
    "sub, run = 150, 5\n",
    "img = nib.load(\n",
    "    f\"data/derivatives/fmriprep/sub-{sub:03d}/ses-1/func/sub-{sub:03d}_ses-1_task-Conv_run-{run}_space-MNI152NLin2009cAsym_desc-preproc_bold.nii.gz\"\n",
    ")\n",
    "img.shape, img.affine"
   ]
  },
  {
   "cell_type": "code",
   "execution_count": 32,
   "metadata": {},
   "outputs": [
    {
     "data": {
      "text/plain": [
       "(65, 77, 65)"
      ]
     },
     "execution_count": 32,
     "metadata": {},
     "output_type": "execute_result"
    }
   ],
   "source": [
    "mni_atlases = fetch_mni152(density=\"3mm\")\n",
    "mni_atlas = nib.load(mni_atlases[\"2009cAsym_brainmask\"])\n",
    "mni_atlas.shape"
   ]
  },
  {
   "cell_type": "code",
   "execution_count": 7,
   "metadata": {},
   "outputs": [
    {
     "data": {
      "text/plain": [
       "{'2009cAsym_T1w': PosixPath('/usr/people/zzada/neuromaps-data/atlases/MNI152/tpl-MNI152NLin2009cAsym_res-3mm_T1w.nii.gz'),\n",
       " '2009cAsym_T2w': PosixPath('/usr/people/zzada/neuromaps-data/atlases/MNI152/tpl-MNI152NLin2009cAsym_res-3mm_T2w.nii.gz'),\n",
       " '2009cAsym_PD': PosixPath('/usr/people/zzada/neuromaps-data/atlases/MNI152/tpl-MNI152NLin2009cAsym_res-3mm_PD.nii.gz'),\n",
       " '2009cAsym_brainmask': PosixPath('/usr/people/zzada/neuromaps-data/atlases/MNI152/tpl-MNI152NLin2009cAsym_res-3mm_desc-brain_mask.nii.gz'),\n",
       " '2009cAsym_CSF': PosixPath('/usr/people/zzada/neuromaps-data/atlases/MNI152/tpl-MNI152NLin2009cAsym_res-3mm_label-csf_probseg.nii.gz'),\n",
       " '2009cAsym_GM': PosixPath('/usr/people/zzada/neuromaps-data/atlases/MNI152/tpl-MNI152NLin2009cAsym_res-3mm_label-gm_probseg.nii.gz'),\n",
       " '2009cAsym_WM': PosixPath('/usr/people/zzada/neuromaps-data/atlases/MNI152/tpl-MNI152NLin2009cAsym_res-3mm_label-wm_probseg.nii.gz')}"
      ]
     },
     "execution_count": 7,
     "metadata": {},
     "output_type": "execute_result"
    }
   ],
   "source": [
    "mni_atlases"
   ]
  },
  {
   "cell_type": "code",
   "execution_count": 54,
   "metadata": {},
   "outputs": [
    {
     "name": "stdout",
     "output_type": "stream",
     "text": [
      "(array([0., 1.]), array([242071,  83254]))\n",
      "(array([0.        , 1.00000006]), array([255445,  69880]))\n"
     ]
    }
   ],
   "source": [
    "print(\n",
    "    np.unique(our_bm.get_fdata(), return_counts=True)\n",
    ")  # (array([0., 1.]), array([246755,  78570]))\n",
    "print(np.unique(mni_atlas.get_fdata(), return_counts=True))"
   ]
  },
  {
   "cell_type": "code",
   "execution_count": 52,
   "metadata": {},
   "outputs": [
    {
     "data": {
      "text/plain": [
       "array([[   3. ,    0. ,    0. ,  -96.5],\n",
       "       [   0. ,    3. ,    0. , -132.5],\n",
       "       [   0. ,    0. ,    3. ,  -78.5],\n",
       "       [   0. ,    0. ,    0. ,    1. ]])"
      ]
     },
     "execution_count": 52,
     "metadata": {},
     "output_type": "execute_result"
    }
   ],
   "source": [
    "our_bm.affine"
   ]
  },
  {
   "cell_type": "code",
   "execution_count": 51,
   "metadata": {},
   "outputs": [
    {
     "data": {
      "text/plain": [
       "array([[   3.,    0.,    0.,  -96.],\n",
       "       [   0.,    3.,    0., -132.],\n",
       "       [   0.,    0.,    3.,  -78.],\n",
       "       [   0.,    0.,    0.,    1.]])"
      ]
     },
     "execution_count": 51,
     "metadata": {},
     "output_type": "execute_result"
    }
   ],
   "source": [
    "mni_atlas.affine"
   ]
  },
  {
   "cell_type": "code",
   "execution_count": 28,
   "metadata": {},
   "outputs": [
    {
     "data": {
      "text/plain": [
       "(67, 79, 64)"
      ]
     },
     "execution_count": 28,
     "metadata": {},
     "output_type": "execute_result"
    }
   ],
   "source": [
    "mnimask = datasets.load_mni152_brain_mask(3)\n",
    "mnimask.shape"
   ]
  },
  {
   "cell_type": "code",
   "execution_count": 5,
   "metadata": {},
   "outputs": [],
   "source": [
    "import pandas as pd"
   ]
  },
  {
   "cell_type": "code",
   "execution_count": 29,
   "metadata": {},
   "outputs": [
    {
     "data": {
      "text/plain": [
       "array([[   3.,    0.,    0.,  -98.],\n",
       "       [   0.,    3.,    0., -134.],\n",
       "       [   0.,    0.,    3.,  -72.],\n",
       "       [   0.,    0.,    0.,    1.]])"
      ]
     },
     "execution_count": 29,
     "metadata": {},
     "output_type": "execute_result"
    }
   ],
   "source": [
    "mnimask.affine"
   ]
  },
  {
   "cell_type": "code",
   "execution_count": 58,
   "metadata": {},
   "outputs": [
    {
     "data": {
      "text/plain": [
       "array([[   3. ,    0. ,    0. ,  -96.5],\n",
       "       [   0. ,    3. ,    0. , -132.5],\n",
       "       [   0. ,    0. ,    3. ,  -78.5],\n",
       "       [   0. ,    0. ,    0. ,    1. ]])"
      ]
     },
     "execution_count": 58,
     "metadata": {},
     "output_type": "execute_result"
    }
   ],
   "source": [
    "our_bold.affine"
   ]
  },
  {
   "cell_type": "code",
   "execution_count": 6,
   "metadata": {},
   "outputs": [
    {
     "data": {
      "text/plain": [
       "(182, 218, 182)"
      ]
     },
     "execution_count": 6,
     "metadata": {},
     "output_type": "execute_result"
    }
   ],
   "source": [
    "atlas = datasets.fetch_atlas_schaefer_2018(n_rois=100, yeo_networks=7, resolution_mm=1)\n",
    "atlasimg = nib.load(atlas[\"maps\"])\n",
    "atlasimg.shape"
   ]
  },
  {
   "cell_type": "code",
   "execution_count": 7,
   "metadata": {},
   "outputs": [],
   "source": [
    "records = []\n",
    "for item in atlas[\"labels\"]:\n",
    "    records.append(item.decode().split(\"_\")[1:])\n",
    "df = pd.DataFrame(records, columns=[\"hemi\", \"network\", \"area\", \"n\"])"
   ]
  },
  {
   "cell_type": "code",
   "execution_count": 8,
   "metadata": {},
   "outputs": [
    {
     "data": {
      "text/plain": [
       "network\n",
       "Default        24\n",
       "Vis            17\n",
       "DorsAttn       15\n",
       "SomMot         14\n",
       "Cont           13\n",
       "SalVentAttn    12\n",
       "Limbic          5\n",
       "Name: count, dtype: int64"
      ]
     },
     "execution_count": 8,
     "metadata": {},
     "output_type": "execute_result"
    }
   ],
   "source": [
    "df.network.value_counts()"
   ]
  },
  {
   "cell_type": "code",
   "execution_count": 10,
   "metadata": {},
   "outputs": [
    {
     "data": {
      "text/plain": [
       "area\n",
       "Post          11\n",
       "PFC            7\n",
       "PFCl           6\n",
       "Par            6\n",
       "Temp           5\n",
       "Med            5\n",
       "pCunPCC        4\n",
       "2              4\n",
       "1              4\n",
       "6              4\n",
       "3              4\n",
       "4              4\n",
       "5              4\n",
       "7              3\n",
       "TempPole       3\n",
       "PFCdPFCm       3\n",
       "8              3\n",
       "FrOperIns      3\n",
       "OFC            2\n",
       "PrCv           2\n",
       "pCun           2\n",
       "Cing           2\n",
       "FEF            2\n",
       "TempOccPar     2\n",
       "PFCv           2\n",
       "ParOper        1\n",
       "PFCmp          1\n",
       "9              1\n",
       "Name: count, dtype: int64"
      ]
     },
     "execution_count": 10,
     "metadata": {},
     "output_type": "execute_result"
    }
   ],
   "source": [
    "df.area.value_counts()"
   ]
  },
  {
   "cell_type": "code",
   "execution_count": 9,
   "metadata": {},
   "outputs": [
    {
     "data": {
      "text/html": [
       "<div>\n",
       "<style scoped>\n",
       "    .dataframe tbody tr th:only-of-type {\n",
       "        vertical-align: middle;\n",
       "    }\n",
       "\n",
       "    .dataframe tbody tr th {\n",
       "        vertical-align: top;\n",
       "    }\n",
       "\n",
       "    .dataframe thead th {\n",
       "        text-align: right;\n",
       "    }\n",
       "</style>\n",
       "<table border=\"1\" class=\"dataframe\">\n",
       "  <thead>\n",
       "    <tr style=\"text-align: right;\">\n",
       "      <th></th>\n",
       "      <th></th>\n",
       "      <th>hemi</th>\n",
       "      <th>n</th>\n",
       "    </tr>\n",
       "    <tr>\n",
       "      <th>network</th>\n",
       "      <th>area</th>\n",
       "      <th></th>\n",
       "      <th></th>\n",
       "    </tr>\n",
       "  </thead>\n",
       "  <tbody>\n",
       "    <tr>\n",
       "      <th rowspan=\"5\" valign=\"top\">Cont</th>\n",
       "      <th>Cing</th>\n",
       "      <td>2</td>\n",
       "      <td>2</td>\n",
       "    </tr>\n",
       "    <tr>\n",
       "      <th>PFCl</th>\n",
       "      <td>5</td>\n",
       "      <td>5</td>\n",
       "    </tr>\n",
       "    <tr>\n",
       "      <th>PFCmp</th>\n",
       "      <td>1</td>\n",
       "      <td>1</td>\n",
       "    </tr>\n",
       "    <tr>\n",
       "      <th>Par</th>\n",
       "      <td>3</td>\n",
       "      <td>3</td>\n",
       "    </tr>\n",
       "    <tr>\n",
       "      <th>pCun</th>\n",
       "      <td>2</td>\n",
       "      <td>2</td>\n",
       "    </tr>\n",
       "    <tr>\n",
       "      <th rowspan=\"6\" valign=\"top\">Default</th>\n",
       "      <th>PFC</th>\n",
       "      <td>7</td>\n",
       "      <td>7</td>\n",
       "    </tr>\n",
       "    <tr>\n",
       "      <th>PFCdPFCm</th>\n",
       "      <td>3</td>\n",
       "      <td>3</td>\n",
       "    </tr>\n",
       "    <tr>\n",
       "      <th>PFCv</th>\n",
       "      <td>2</td>\n",
       "      <td>2</td>\n",
       "    </tr>\n",
       "    <tr>\n",
       "      <th>Par</th>\n",
       "      <td>3</td>\n",
       "      <td>3</td>\n",
       "    </tr>\n",
       "    <tr>\n",
       "      <th>Temp</th>\n",
       "      <td>5</td>\n",
       "      <td>5</td>\n",
       "    </tr>\n",
       "    <tr>\n",
       "      <th>pCunPCC</th>\n",
       "      <td>4</td>\n",
       "      <td>4</td>\n",
       "    </tr>\n",
       "    <tr>\n",
       "      <th rowspan=\"3\" valign=\"top\">DorsAttn</th>\n",
       "      <th>FEF</th>\n",
       "      <td>2</td>\n",
       "      <td>2</td>\n",
       "    </tr>\n",
       "    <tr>\n",
       "      <th>Post</th>\n",
       "      <td>11</td>\n",
       "      <td>11</td>\n",
       "    </tr>\n",
       "    <tr>\n",
       "      <th>PrCv</th>\n",
       "      <td>2</td>\n",
       "      <td>2</td>\n",
       "    </tr>\n",
       "    <tr>\n",
       "      <th rowspan=\"2\" valign=\"top\">Limbic</th>\n",
       "      <th>OFC</th>\n",
       "      <td>2</td>\n",
       "      <td>2</td>\n",
       "    </tr>\n",
       "    <tr>\n",
       "      <th>TempPole</th>\n",
       "      <td>3</td>\n",
       "      <td>3</td>\n",
       "    </tr>\n",
       "    <tr>\n",
       "      <th rowspan=\"5\" valign=\"top\">SalVentAttn</th>\n",
       "      <th>FrOperIns</th>\n",
       "      <td>3</td>\n",
       "      <td>3</td>\n",
       "    </tr>\n",
       "    <tr>\n",
       "      <th>Med</th>\n",
       "      <td>5</td>\n",
       "      <td>5</td>\n",
       "    </tr>\n",
       "    <tr>\n",
       "      <th>PFCl</th>\n",
       "      <td>1</td>\n",
       "      <td>1</td>\n",
       "    </tr>\n",
       "    <tr>\n",
       "      <th>ParOper</th>\n",
       "      <td>1</td>\n",
       "      <td>1</td>\n",
       "    </tr>\n",
       "    <tr>\n",
       "      <th>TempOccPar</th>\n",
       "      <td>2</td>\n",
       "      <td>2</td>\n",
       "    </tr>\n",
       "    <tr>\n",
       "      <th rowspan=\"8\" valign=\"top\">SomMot</th>\n",
       "      <th>1</th>\n",
       "      <td>2</td>\n",
       "      <td>0</td>\n",
       "    </tr>\n",
       "    <tr>\n",
       "      <th>2</th>\n",
       "      <td>2</td>\n",
       "      <td>0</td>\n",
       "    </tr>\n",
       "    <tr>\n",
       "      <th>3</th>\n",
       "      <td>2</td>\n",
       "      <td>0</td>\n",
       "    </tr>\n",
       "    <tr>\n",
       "      <th>4</th>\n",
       "      <td>2</td>\n",
       "      <td>0</td>\n",
       "    </tr>\n",
       "    <tr>\n",
       "      <th>5</th>\n",
       "      <td>2</td>\n",
       "      <td>0</td>\n",
       "    </tr>\n",
       "    <tr>\n",
       "      <th>6</th>\n",
       "      <td>2</td>\n",
       "      <td>0</td>\n",
       "    </tr>\n",
       "    <tr>\n",
       "      <th>7</th>\n",
       "      <td>1</td>\n",
       "      <td>0</td>\n",
       "    </tr>\n",
       "    <tr>\n",
       "      <th>8</th>\n",
       "      <td>1</td>\n",
       "      <td>0</td>\n",
       "    </tr>\n",
       "    <tr>\n",
       "      <th rowspan=\"9\" valign=\"top\">Vis</th>\n",
       "      <th>1</th>\n",
       "      <td>2</td>\n",
       "      <td>0</td>\n",
       "    </tr>\n",
       "    <tr>\n",
       "      <th>2</th>\n",
       "      <td>2</td>\n",
       "      <td>0</td>\n",
       "    </tr>\n",
       "    <tr>\n",
       "      <th>3</th>\n",
       "      <td>2</td>\n",
       "      <td>0</td>\n",
       "    </tr>\n",
       "    <tr>\n",
       "      <th>4</th>\n",
       "      <td>2</td>\n",
       "      <td>0</td>\n",
       "    </tr>\n",
       "    <tr>\n",
       "      <th>5</th>\n",
       "      <td>2</td>\n",
       "      <td>0</td>\n",
       "    </tr>\n",
       "    <tr>\n",
       "      <th>6</th>\n",
       "      <td>2</td>\n",
       "      <td>0</td>\n",
       "    </tr>\n",
       "    <tr>\n",
       "      <th>7</th>\n",
       "      <td>2</td>\n",
       "      <td>0</td>\n",
       "    </tr>\n",
       "    <tr>\n",
       "      <th>8</th>\n",
       "      <td>2</td>\n",
       "      <td>0</td>\n",
       "    </tr>\n",
       "    <tr>\n",
       "      <th>9</th>\n",
       "      <td>1</td>\n",
       "      <td>0</td>\n",
       "    </tr>\n",
       "  </tbody>\n",
       "</table>\n",
       "</div>"
      ],
      "text/plain": [
       "                        hemi   n\n",
       "network     area                \n",
       "Cont        Cing           2   2\n",
       "            PFCl           5   5\n",
       "            PFCmp          1   1\n",
       "            Par            3   3\n",
       "            pCun           2   2\n",
       "Default     PFC            7   7\n",
       "            PFCdPFCm       3   3\n",
       "            PFCv           2   2\n",
       "            Par            3   3\n",
       "            Temp           5   5\n",
       "            pCunPCC        4   4\n",
       "DorsAttn    FEF            2   2\n",
       "            Post          11  11\n",
       "            PrCv           2   2\n",
       "Limbic      OFC            2   2\n",
       "            TempPole       3   3\n",
       "SalVentAttn FrOperIns      3   3\n",
       "            Med            5   5\n",
       "            PFCl           1   1\n",
       "            ParOper        1   1\n",
       "            TempOccPar     2   2\n",
       "SomMot      1              2   0\n",
       "            2              2   0\n",
       "            3              2   0\n",
       "            4              2   0\n",
       "            5              2   0\n",
       "            6              2   0\n",
       "            7              1   0\n",
       "            8              1   0\n",
       "Vis         1              2   0\n",
       "            2              2   0\n",
       "            3              2   0\n",
       "            4              2   0\n",
       "            5              2   0\n",
       "            6              2   0\n",
       "            7              2   0\n",
       "            8              2   0\n",
       "            9              1   0"
      ]
     },
     "execution_count": 9,
     "metadata": {},
     "output_type": "execute_result"
    }
   ],
   "source": [
    "df.groupby([\"network\", \"area\"]).count()"
   ]
  },
  {
   "attachments": {},
   "cell_type": "markdown",
   "metadata": {},
   "source": [
    "## Language ROIs"
   ]
  },
  {
   "cell_type": "code",
   "execution_count": 8,
   "metadata": {},
   "outputs": [],
   "source": [
    "from nilearn.image import resample_to_img"
   ]
  },
  {
   "cell_type": "code",
   "execution_count": 247,
   "metadata": {},
   "outputs": [],
   "source": [
    "from neuromaps.datasets import fetch_fslr\n",
    "from neuromaps.transforms import mni152_to_fslr\n",
    "from surfplot import Plot\n",
    "from surfplot.utils import threshold\n",
    "\n",
    "surfaces = fetch_fslr(data_dir=\"mats\")\n",
    "lh, rh = surfaces[\"inflated\"]\n",
    "\n",
    "\n",
    "def plot_surface_brain(\n",
    "    data: np.ndarray,\n",
    "    title: str = \"\",\n",
    "    cmap: str = \"YlOrRd_r\",\n",
    "    val_threshold=None,\n",
    "    vmin: float = None,\n",
    "    vmax: float = None,\n",
    "):\n",
    "    stat_lh, stat_rh = mni152_to_fslr(data)  # type: ignore\n",
    "    if val_threshold:\n",
    "        stat_lh = threshold(stat_lh.agg_data(), val_threshold)\n",
    "        stat_rh = threshold(stat_rh.agg_data(), val_threshold)\n",
    "\n",
    "    p = Plot(surf_lh=lh, surf_rh=rh)  # , views='lateral', size=(400, 200), zoom=1.2)\n",
    "    # sulc_lh, sulc_rh = surfaces[\"sulc\"]\n",
    "    # p.add_layer({\"left\": sulc_lh, \"right\": sulc_rh}, cmap=\"binary_r\", cbar=False)\n",
    "\n",
    "    crange = None\n",
    "    if vmax is not None:\n",
    "        crange = (-vmax, vmax)\n",
    "        if vmin is not None:\n",
    "            crange = (vmin, vmax)\n",
    "\n",
    "    p.add_layer(\n",
    "        {\"left\": stat_lh, \"right\": stat_rh}, cmap=cmap, cbar=False, color_range=crange\n",
    "    )\n",
    "    # p.add_layer({'left': stat_lh, 'right': stat_rh}, cmap='gray', cbar=False, as_outline=True)\n",
    "\n",
    "    fig = p.build()\n",
    "    fig.suptitle(title)\n",
    "    return fig"
   ]
  },
  {
   "cell_type": "code",
   "execution_count": 300,
   "metadata": {},
   "outputs": [
    {
     "data": {
      "text/plain": [
       "((91, 109, 91),\n",
       " ['LH_IFGorb',\n",
       "  'LH_IFG',\n",
       "  'LH_MFG',\n",
       "  'LH_AntTemp',\n",
       "  'LH_MidTemp',\n",
       "  'LH_PostTemp',\n",
       "  'RH_IFGorb',\n",
       "  'RH_IFG',\n",
       "  'RH_MFG',\n",
       "  'RH_AntTemp',\n",
       "  'RH_MidTemp',\n",
       "  'RH_PostTemp'])"
      ]
     },
     "execution_count": 300,
     "metadata": {},
     "output_type": "execute_result"
    }
   ],
   "source": [
    "# Load fedorenko atlas\n",
    "ev_atlas = nib.load(\"mats/allParcels_language_SN220.nii\")\n",
    "ev_labels = [\n",
    "    \"LH_IFGorb\",\n",
    "    \"LH_IFG\",\n",
    "    \"LH_MFG\",\n",
    "    \"LH_AntTemp\",\n",
    "    \"LH_MidTemp\",\n",
    "    \"LH_PostTemp\",\n",
    "    \"RH_IFGorb\",\n",
    "    \"RH_IFG\",\n",
    "    \"RH_MFG\",\n",
    "    \"RH_AntTemp\",\n",
    "    \"RH_MidTemp\",\n",
    "    \"RH_PostTemp\",\n",
    "]\n",
    "ev_atlas.shape, ev_labels"
   ]
  },
  {
   "cell_type": "code",
   "execution_count": 288,
   "metadata": {},
   "outputs": [],
   "source": [
    "# Resample to our space\n",
    "brain_mask = (\n",
    "    \"data/derivatives/fmriprep/sub-004/ses-1/func/sub-004_ses-1_task-\"\n",
    "    \"Conv_run-1_space-MNI152NLin2009cAsym_desc-preproc_bold.nii.gz\"\n",
    ")\n",
    "ev_img = resample_to_img(ev_atlas, brain_mask, interpolation=\"nearest\")"
   ]
  },
  {
   "cell_type": "code",
   "execution_count": 263,
   "metadata": {},
   "outputs": [
    {
     "data": {
      "image/png": "[encoded data removed]",
      "text/plain": [
       "<Figure size 600x500 with 1 Axes>"
      ]
     },
     "metadata": {},
     "output_type": "display_data"
    }
   ],
   "source": [
    "fig = plot_surface_brain(ev_img, cmap=\"tab20\", val_threshold=0)\n",
    "fig.show()"
   ]
  },
  {
   "cell_type": "code",
   "execution_count": 289,
   "metadata": {},
   "outputs": [
    {
     "data": {
      "text/plain": [
       "<nibabel.nifti1.Nifti1Image at 0x7f475c061b40>"
      ]
     },
     "execution_count": 289,
     "metadata": {},
     "output_type": "execute_result"
    }
   ],
   "source": [
    "# Load schaefer atlas\n",
    "sch_atlas, sch_labels = get_schaefer()\n",
    "sch_img = nib.load(sch_atlas)\n",
    "sch_img"
   ]
  },
  {
   "cell_type": "code",
   "execution_count": 290,
   "metadata": {},
   "outputs": [
    {
     "data": {
      "text/html": [
       "<div>\n",
       "<style scoped>\n",
       "    .dataframe tbody tr th:only-of-type {\n",
       "        vertical-align: middle;\n",
       "    }\n",
       "\n",
       "    .dataframe tbody tr th {\n",
       "        vertical-align: top;\n",
       "    }\n",
       "\n",
       "    .dataframe thead th {\n",
       "        text-align: right;\n",
       "    }\n",
       "</style>\n",
       "<table border=\"1\" class=\"dataframe\">\n",
       "  <thead>\n",
       "    <tr style=\"text-align: right;\">\n",
       "      <th></th>\n",
       "      <th>hemi</th>\n",
       "      <th>network</th>\n",
       "      <th>area</th>\n",
       "      <th>n</th>\n",
       "    </tr>\n",
       "  </thead>\n",
       "  <tbody>\n",
       "    <tr>\n",
       "      <th>0</th>\n",
       "      <td>LH</td>\n",
       "      <td>VisCent</td>\n",
       "      <td>Striate</td>\n",
       "      <td>1</td>\n",
       "    </tr>\n",
       "    <tr>\n",
       "      <th>1</th>\n",
       "      <td>LH</td>\n",
       "      <td>VisCent</td>\n",
       "      <td>Striate</td>\n",
       "      <td>2</td>\n",
       "    </tr>\n",
       "    <tr>\n",
       "      <th>2</th>\n",
       "      <td>LH</td>\n",
       "      <td>VisCent</td>\n",
       "      <td>Striate</td>\n",
       "      <td>3</td>\n",
       "    </tr>\n",
       "    <tr>\n",
       "      <th>3</th>\n",
       "      <td>LH</td>\n",
       "      <td>VisCent</td>\n",
       "      <td>Striate</td>\n",
       "      <td>4</td>\n",
       "    </tr>\n",
       "    <tr>\n",
       "      <th>4</th>\n",
       "      <td>LH</td>\n",
       "      <td>VisCent</td>\n",
       "      <td>ExStr</td>\n",
       "      <td>1</td>\n",
       "    </tr>\n",
       "    <tr>\n",
       "      <th>...</th>\n",
       "      <td>...</td>\n",
       "      <td>...</td>\n",
       "      <td>...</td>\n",
       "      <td>...</td>\n",
       "    </tr>\n",
       "    <tr>\n",
       "      <th>995</th>\n",
       "      <td>RH</td>\n",
       "      <td>TempPar</td>\n",
       "      <td>18</td>\n",
       "      <td>None</td>\n",
       "    </tr>\n",
       "    <tr>\n",
       "      <th>996</th>\n",
       "      <td>RH</td>\n",
       "      <td>TempPar</td>\n",
       "      <td>19</td>\n",
       "      <td>None</td>\n",
       "    </tr>\n",
       "    <tr>\n",
       "      <th>997</th>\n",
       "      <td>RH</td>\n",
       "      <td>TempPar</td>\n",
       "      <td>20</td>\n",
       "      <td>None</td>\n",
       "    </tr>\n",
       "    <tr>\n",
       "      <th>998</th>\n",
       "      <td>RH</td>\n",
       "      <td>TempPar</td>\n",
       "      <td>21</td>\n",
       "      <td>None</td>\n",
       "    </tr>\n",
       "    <tr>\n",
       "      <th>999</th>\n",
       "      <td>RH</td>\n",
       "      <td>TempPar</td>\n",
       "      <td>22</td>\n",
       "      <td>None</td>\n",
       "    </tr>\n",
       "  </tbody>\n",
       "</table>\n",
       "<p>1000 rows × 4 columns</p>\n",
       "</div>"
      ],
      "text/plain": [
       "    hemi  network     area     n\n",
       "0     LH  VisCent  Striate     1\n",
       "1     LH  VisCent  Striate     2\n",
       "2     LH  VisCent  Striate     3\n",
       "3     LH  VisCent  Striate     4\n",
       "4     LH  VisCent    ExStr     1\n",
       "..   ...      ...      ...   ...\n",
       "995   RH  TempPar       18  None\n",
       "996   RH  TempPar       19  None\n",
       "997   RH  TempPar       20  None\n",
       "998   RH  TempPar       21  None\n",
       "999   RH  TempPar       22  None\n",
       "\n",
       "[1000 rows x 4 columns]"
      ]
     },
     "execution_count": 290,
     "metadata": {},
     "output_type": "execute_result"
    }
   ],
   "source": [
    "records = []\n",
    "for item in sch_labels:\n",
    "    records.append(item.split(\"_\")[1:])\n",
    "df = pd.DataFrame(records, columns=[\"hemi\", \"network\", \"area\", \"n\"])\n",
    "df"
   ]
  },
  {
   "cell_type": "code",
   "execution_count": 291,
   "metadata": {},
   "outputs": [],
   "source": [
    "add_rois = {\n",
    "    \"SM_cent\": (\"SomMotB\", \"Cent\"),\n",
    "    \"SM_s2\": (\"SomMotB\", \"S2\"),\n",
    "    \"SM_aud\": (\"SomMotB\", \"Aud\"),\n",
    "    \"vmPFC\": (\"DefaultA\", \"PFCm\", slice(1, None)),\n",
    "    \"PMC\": (\"DefaultA\", \"pCunPCC\"),\n",
    "}"
   ]
  },
  {
   "cell_type": "code",
   "execution_count": 292,
   "metadata": {},
   "outputs": [
    {
     "data": {
      "text/plain": [
       "(65, 77, 65)"
      ]
     },
     "execution_count": 292,
     "metadata": {},
     "output_type": "execute_result"
    }
   ],
   "source": [
    "sch_data = sch_img.get_fdata().astype(np.int32)\n",
    "sch_data.shape"
   ]
  },
  {
   "cell_type": "code",
   "execution_count": 293,
   "metadata": {},
   "outputs": [
    {
     "data": {
      "text/plain": [
       "(65, 77, 65)"
      ]
     },
     "execution_count": 293,
     "metadata": {},
     "output_type": "execute_result"
    }
   ],
   "source": [
    "lang_data = ev_img.get_fdata().astype(np.int32)\n",
    "lang_data.shape"
   ]
  },
  {
   "cell_type": "code",
   "execution_count": 303,
   "metadata": {},
   "outputs": [
    {
     "data": {
      "text/plain": [
       "['LH_IFGorb',\n",
       " 'LH_IFG',\n",
       " 'LH_MFG',\n",
       " 'LH_AntTemp',\n",
       " 'LH_MidTemp',\n",
       " 'LH_PostTemp',\n",
       " 'RH_IFGorb',\n",
       " 'RH_IFG',\n",
       " 'RH_MFG',\n",
       " 'RH_AntTemp',\n",
       " 'RH_MidTemp',\n",
       " 'RH_PostTemp']"
      ]
     },
     "execution_count": 303,
     "metadata": {},
     "output_type": "execute_result"
    }
   ],
   "source": [
    "lang_labels = ev_labels.copy()\n",
    "lang_labels"
   ]
  },
  {
   "cell_type": "code",
   "execution_count": 304,
   "metadata": {},
   "outputs": [
    {
     "name": "stdout",
     "output_type": "stream",
     "text": [
      "LH SM_cent 108 118\n",
      "LH SM_s2 119 131\n",
      "LH SM_aud 133 146\n",
      "LH vmPFC 411 421\n",
      "LH PMC 388 409\n",
      "RH SM_cent 616 627\n",
      "RH SM_s2 628 642\n",
      "RH SM_aud 644 657\n",
      "RH vmPFC 938 946\n",
      "RH PMC 925 936\n"
     ]
    }
   ],
   "source": [
    "start_k = len(ev_labels) + 1\n",
    "\n",
    "for hemi in [\"LH\", \"RH\"]:\n",
    "    for roiname, parts in add_rois.items():\n",
    "        subdf = df[(df.hemi == hemi) & (df.network == parts[0]) & (df.area == parts[1])]\n",
    "        if len(parts) > 2:\n",
    "            subdf = subdf.iloc[parts[2]]\n",
    "        start_id, stop_id = subdf.index[0], subdf.index[-1]\n",
    "        print(hemi, roiname, start_id, stop_id)\n",
    "\n",
    "        lang_data[np.isin(sch_data, np.arange(start_id, stop_id + 1))] = start_k\n",
    "        lang_labels.append(f\"{hemi}_{roiname}\")\n",
    "        start_k += 1"
   ]
  },
  {
   "cell_type": "code",
   "execution_count": 298,
   "metadata": {},
   "outputs": [],
   "source": [
    "lang_img = nib.Nifti1Image(lang_data, ev_img.affine, ev_img.header)\n",
    "nib.save(lang_img, \"mats/language_rois.nii.gz\")"
   ]
  },
  {
   "cell_type": "code",
   "execution_count": 302,
   "metadata": {},
   "outputs": [],
   "source": [
    "pd.DataFrame(lang_labels).to_csv(\"mats/language_rois.csv\", header=None)"
   ]
  },
  {
   "attachments": {},
   "cell_type": "markdown",
   "metadata": {},
   "source": [
    "this is for testing"
   ]
  },
  {
   "cell_type": "code",
   "execution_count": 209,
   "metadata": {},
   "outputs": [
    {
     "name": "stdout",
     "output_type": "stream",
     "text": [
      "410 421\n"
     ]
    },
    {
     "data": {
      "text/html": [
       "<div>\n",
       "<style scoped>\n",
       "    .dataframe tbody tr th:only-of-type {\n",
       "        vertical-align: middle;\n",
       "    }\n",
       "\n",
       "    .dataframe tbody tr th {\n",
       "        vertical-align: top;\n",
       "    }\n",
       "\n",
       "    .dataframe thead th {\n",
       "        text-align: right;\n",
       "    }\n",
       "</style>\n",
       "<table border=\"1\" class=\"dataframe\">\n",
       "  <thead>\n",
       "    <tr style=\"text-align: right;\">\n",
       "      <th></th>\n",
       "      <th>hemi</th>\n",
       "      <th>network</th>\n",
       "      <th>area</th>\n",
       "      <th>n</th>\n",
       "    </tr>\n",
       "  </thead>\n",
       "  <tbody>\n",
       "    <tr>\n",
       "      <th>410</th>\n",
       "      <td>LH</td>\n",
       "      <td>DefaultA</td>\n",
       "      <td>PFCm</td>\n",
       "      <td>1</td>\n",
       "    </tr>\n",
       "    <tr>\n",
       "      <th>411</th>\n",
       "      <td>LH</td>\n",
       "      <td>DefaultA</td>\n",
       "      <td>PFCm</td>\n",
       "      <td>2</td>\n",
       "    </tr>\n",
       "    <tr>\n",
       "      <th>412</th>\n",
       "      <td>LH</td>\n",
       "      <td>DefaultA</td>\n",
       "      <td>PFCm</td>\n",
       "      <td>3</td>\n",
       "    </tr>\n",
       "    <tr>\n",
       "      <th>413</th>\n",
       "      <td>LH</td>\n",
       "      <td>DefaultA</td>\n",
       "      <td>PFCm</td>\n",
       "      <td>4</td>\n",
       "    </tr>\n",
       "    <tr>\n",
       "      <th>414</th>\n",
       "      <td>LH</td>\n",
       "      <td>DefaultA</td>\n",
       "      <td>PFCm</td>\n",
       "      <td>5</td>\n",
       "    </tr>\n",
       "    <tr>\n",
       "      <th>415</th>\n",
       "      <td>LH</td>\n",
       "      <td>DefaultA</td>\n",
       "      <td>PFCm</td>\n",
       "      <td>6</td>\n",
       "    </tr>\n",
       "    <tr>\n",
       "      <th>416</th>\n",
       "      <td>LH</td>\n",
       "      <td>DefaultA</td>\n",
       "      <td>PFCm</td>\n",
       "      <td>7</td>\n",
       "    </tr>\n",
       "    <tr>\n",
       "      <th>417</th>\n",
       "      <td>LH</td>\n",
       "      <td>DefaultA</td>\n",
       "      <td>PFCm</td>\n",
       "      <td>8</td>\n",
       "    </tr>\n",
       "    <tr>\n",
       "      <th>418</th>\n",
       "      <td>LH</td>\n",
       "      <td>DefaultA</td>\n",
       "      <td>PFCm</td>\n",
       "      <td>9</td>\n",
       "    </tr>\n",
       "    <tr>\n",
       "      <th>419</th>\n",
       "      <td>LH</td>\n",
       "      <td>DefaultA</td>\n",
       "      <td>PFCm</td>\n",
       "      <td>10</td>\n",
       "    </tr>\n",
       "    <tr>\n",
       "      <th>420</th>\n",
       "      <td>LH</td>\n",
       "      <td>DefaultA</td>\n",
       "      <td>PFCm</td>\n",
       "      <td>11</td>\n",
       "    </tr>\n",
       "    <tr>\n",
       "      <th>421</th>\n",
       "      <td>LH</td>\n",
       "      <td>DefaultA</td>\n",
       "      <td>PFCm</td>\n",
       "      <td>12</td>\n",
       "    </tr>\n",
       "  </tbody>\n",
       "</table>\n",
       "</div>"
      ],
      "text/plain": [
       "    hemi   network  area   n\n",
       "410   LH  DefaultA  PFCm   1\n",
       "411   LH  DefaultA  PFCm   2\n",
       "412   LH  DefaultA  PFCm   3\n",
       "413   LH  DefaultA  PFCm   4\n",
       "414   LH  DefaultA  PFCm   5\n",
       "415   LH  DefaultA  PFCm   6\n",
       "416   LH  DefaultA  PFCm   7\n",
       "417   LH  DefaultA  PFCm   8\n",
       "418   LH  DefaultA  PFCm   9\n",
       "419   LH  DefaultA  PFCm  10\n",
       "420   LH  DefaultA  PFCm  11\n",
       "421   LH  DefaultA  PFCm  12"
      ]
     },
     "execution_count": 209,
     "metadata": {},
     "output_type": "execute_result"
    }
   ],
   "source": [
    "subdf = df[(df.hemi == \"LH\") & (df.network == \"DefaultA\") & (df.area == \"PFCm\")]\n",
    "start_id, stop_id = subdf.index[0], subdf.index[-1]\n",
    "print(start_id, stop_id)\n",
    "subdf"
   ]
  },
  {
   "cell_type": "code",
   "execution_count": 207,
   "metadata": {},
   "outputs": [
    {
     "name": "stdout",
     "output_type": "stream",
     "text": [
      "176943.0\n"
     ]
    }
   ],
   "source": [
    "# regions = np.arange(start_id, stop_id+1)\n",
    "regions = np.arange(388, 410)\n",
    "array_data = sch_img.get_fdata()\n",
    "array_data = np.where(np.isin(array_data, regions), array_data, 0)\n",
    "array_img = nib.Nifti1Image(array_data.astype(np.int8), resampled.affine)\n",
    "print(array_data.sum())"
   ]
  },
  {
   "cell_type": "code",
   "execution_count": 250,
   "metadata": {},
   "outputs": [],
   "source": [
    "from matplotlib.colors import ListedColormap\n",
    "\n",
    "cmap = ListedColormap(\"orange\", \"regions\", N=1)"
   ]
  },
  {
   "cell_type": "code",
   "execution_count": null,
   "metadata": {},
   "outputs": [],
   "source": [
    "for i, roiname in enumerate(labels, 1):\n",
    "    region_data = array_data.astype(np.int8)\n",
    "    region_data[array_data != i] = 0\n",
    "    region_img = nib.Nifti1Image(region_data, resampled.affine)\n",
    "    fig = plot_surface_brain(region_img, cmap=cmap, title=roiname)\n",
    "    fig.show()"
   ]
  },
  {
   "cell_type": "code",
   "execution_count": 256,
   "metadata": {},
   "outputs": [],
   "source": [
    "plt.close()"
   ]
  },
  {
   "attachments": {},
   "cell_type": "markdown",
   "metadata": {},
   "source": [
    "# HRF"
   ]
  },
  {
   "cell_type": "code",
   "execution_count": 14,
   "metadata": {},
   "outputs": [],
   "source": [
    "from nilearn.glm.first_level import glover_hrf\n",
    "from constants import TR\n",
    "import matplotlib.pyplot as plt"
   ]
  },
  {
   "cell_type": "code",
   "execution_count": 15,
   "metadata": {},
   "outputs": [
    {
     "name": "stdout",
     "output_type": "stream",
     "text": [
      "\u001b[0;31mSignature:\u001b[0m \u001b[0mglover_hrf\u001b[0m\u001b[0;34m(\u001b[0m\u001b[0mtr\u001b[0m\u001b[0;34m,\u001b[0m \u001b[0moversampling\u001b[0m\u001b[0;34m=\u001b[0m\u001b[0;36m50\u001b[0m\u001b[0;34m,\u001b[0m \u001b[0mtime_length\u001b[0m\u001b[0;34m=\u001b[0m\u001b[0;36m32.0\u001b[0m\u001b[0;34m,\u001b[0m \u001b[0monset\u001b[0m\u001b[0;34m=\u001b[0m\u001b[0;36m0.0\u001b[0m\u001b[0;34m)\u001b[0m\u001b[0;34m\u001b[0m\u001b[0;34m\u001b[0m\u001b[0m\n",
      "\u001b[0;31mDocstring:\u001b[0m\n",
      "Implement the Glover hrf model.\n",
      "\n",
      "Parameters\n",
      "----------\n",
      "tr : float\n",
      "    Scan repeat time, in seconds.\n",
      "\n",
      "oversampling : int, optional\n",
      "    Temporal oversampling factor. Default=50.\n",
      "\n",
      "time_length : float, optional\n",
      "    hrf kernel length, in seconds. Default=32.\n",
      "\n",
      "onset : float, optional\n",
      "    Onset of the response. Default=0.\n",
      "\n",
      "Returns\n",
      "-------\n",
      "hrf : array of shape(length / tr * oversampling, dtype=float)\n",
      "     hrf sampling on the oversampled time grid.\n",
      "\u001b[0;31mFile:\u001b[0m      /scratch/zzada/cache/conda/envs/fb2b/lib/python3.10/site-packages/nilearn/glm/first_level/hemodynamic_models.py\n",
      "\u001b[0;31mType:\u001b[0m      function"
     ]
    }
   ],
   "source": [
    "?glover_hrf"
   ]
  },
  {
   "cell_type": "code",
   "execution_count": 16,
   "metadata": {},
   "outputs": [
    {
     "data": {
      "text/plain": [
       "(21,)"
      ]
     },
     "execution_count": 16,
     "metadata": {},
     "output_type": "execute_result"
    }
   ],
   "source": [
    "hrf = glover_hrf(TR, oversampling=1, time_length=32)\n",
    "hrf.shape"
   ]
  },
  {
   "cell_type": "code",
   "execution_count": 17,
   "metadata": {},
   "outputs": [
    {
     "data": {
      "text/plain": [
       "[<matplotlib.lines.Line2D at 0x7f90484b9ed0>]"
      ]
     },
     "execution_count": 17,
     "metadata": {},
     "output_type": "execute_result"
    },
    {
     "data": {
      "image/png": "[encoded data removed]",
      "text/plain": [
       "<Figure size 640x480 with 1 Axes>"
      ]
     },
     "metadata": {},
     "output_type": "display_data"
    }
   ],
   "source": [
    "plt.plot(hrf)"
   ]
  },
  {
   "cell_type": "code",
   "execution_count": 18,
   "metadata": {},
   "outputs": [],
   "source": [
    "impulse = np.zeros(120)\n",
    "impulse[[20, 60, 100]] = 1\n",
    "impulse_hrf = np.convolve(impulse, hrf)[: len(impulse)]"
   ]
  },
  {
   "cell_type": "code",
   "execution_count": 19,
   "metadata": {},
   "outputs": [
    {
     "data": {
      "text/plain": [
       "[<matplotlib.lines.Line2D at 0x7f904039e920>]"
      ]
     },
     "execution_count": 19,
     "metadata": {},
     "output_type": "execute_result"
    },
    {
     "data": {
      "image/png": "[encoded data removed]",
      "text/plain": [
       "<Figure size 640x480 with 1 Axes>"
      ]
     },
     "metadata": {},
     "output_type": "display_data"
    }
   ],
   "source": [
    "plt.plot(impulse)\n",
    "plt.plot(impulse_hrf)"
   ]
  },
  {
   "attachments": {},
   "cell_type": "markdown",
   "metadata": {},
   "source": [
    "# Delayer"
   ]
  },
  {
   "cell_type": "code",
   "execution_count": 4,
   "metadata": {},
   "outputs": [],
   "source": [
    "import numpy as np\n",
    "from voxelwise_tutorials.delayer import Delayer"
   ]
  },
  {
   "cell_type": "code",
   "execution_count": 5,
   "metadata": {},
   "outputs": [],
   "source": [
    "delayer = Delayer(delays=[2, 3, 4, 5])"
   ]
  },
  {
   "cell_type": "code",
   "execution_count": 6,
   "metadata": {},
   "outputs": [],
   "source": [
    "data = np.arange(1, 11).reshape(-1, 1)"
   ]
  },
  {
   "cell_type": "code",
   "execution_count": 7,
   "metadata": {},
   "outputs": [
    {
     "data": {
      "text/plain": [
       "array([[ 1],\n",
       "       [ 2],\n",
       "       [ 3],\n",
       "       [ 4],\n",
       "       [ 5],\n",
       "       [ 6],\n",
       "       [ 7],\n",
       "       [ 8],\n",
       "       [ 9],\n",
       "       [10]])"
      ]
     },
     "execution_count": 7,
     "metadata": {},
     "output_type": "execute_result"
    }
   ],
   "source": [
    "data"
   ]
  },
  {
   "cell_type": "code",
   "execution_count": 8,
   "metadata": {},
   "outputs": [
    {
     "data": {
      "text/plain": [
       "array([[0, 0, 0, 0],\n",
       "       [0, 0, 0, 0],\n",
       "       [1, 0, 0, 0],\n",
       "       [2, 1, 0, 0],\n",
       "       [3, 2, 1, 0],\n",
       "       [4, 3, 2, 1],\n",
       "       [5, 4, 3, 2],\n",
       "       [6, 5, 4, 3],\n",
       "       [7, 6, 5, 4],\n",
       "       [8, 7, 6, 5]])"
      ]
     },
     "execution_count": 8,
     "metadata": {},
     "output_type": "execute_result"
    }
   ],
   "source": [
    "delayer.fit_transform(data)"
   ]
  },
  {
   "cell_type": "code",
   "execution_count": null,
   "metadata": {},
   "outputs": [],
   "source": []
  }
 ],
 "metadata": {
  "kernelspec": {
   "display_name": "fb2b",
   "language": "python",
   "name": "python3"
  },
  "language_info": {
   "codemirror_mode": {
    "name": "ipython",
    "version": 3
   },
   "file_extension": ".py",
   "mimetype": "text/x-python",
   "name": "python",
   "nbconvert_exporter": "python",
   "pygments_lexer": "ipython3",
   "version": "3.10.11"
  },
  "orig_nbformat": 4
 },
 "nbformat": 4,
 "nbformat_minor": 2
}
