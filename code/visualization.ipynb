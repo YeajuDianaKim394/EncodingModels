{
 "cells": [
  {
   "cell_type": "code",
   "execution_count": 1,
   "metadata": {},
   "outputs": [
    {
     "name": "stdout",
     "output_type": "stream",
     "text": [
      "/mnt/cup/labs/hasson/zaid/fmri-convs\n"
     ]
    }
   ],
   "source": [
    "%cd .."
   ]
  },
  {
   "cell_type": "code",
   "execution_count": 23,
   "metadata": {},
   "outputs": [],
   "source": [
    "from glob import glob\n",
    "\n",
    "import pickle\n",
    "import nibabel as nib\n",
    "import numpy as np\n",
    "from voxelwise_tutorials.delayer import Delayer\n",
    "import matplotlib.pyplot as plt\n",
    "from nilearn.glm.first_level import glover_hrf\n",
    "from himalaya.viz import plot_alphas_diagnostic\n",
    "\n",
    "import pandas as pd\n",
    "from nilearn import datasets\n",
    "from nilearn.maskers import NiftiMasker, NiftiLabelsMasker\n",
    "from util.path import Path\n",
    "from constants import RUNS, NRUNS, TR, CONFOUNDS"
   ]
  },
  {
   "cell_type": "markdown",
   "metadata": {},
   "source": [
    "# Visualize turns"
   ]
  },
  {
   "cell_type": "code",
   "execution_count": 3,
   "metadata": {},
   "outputs": [],
   "source": [
    "sub = 32\n",
    "run = 1\n",
    "trial = 2\n",
    "item = 2\n",
    "first = \"B\"\n",
    "conv = str(sub + 100 if sub < 100 else sub)"
   ]
  },
  {
   "cell_type": "code",
   "execution_count": 4,
   "metadata": {},
   "outputs": [
    {
     "data": {
      "text/plain": [
       "(stimuli/conv-132/transcript/conv-132_run-1_set-1_trial-2_item-2_condition-G_first-B_aligned.csv,\n",
       " True)"
      ]
     },
     "execution_count": 4,
     "metadata": {},
     "output_type": "execute_result"
    }
   ],
   "source": [
    "eventpath = Path(\n",
    "    root=\"stimuli\",\n",
    "    conv=conv,\n",
    "    datatype=\"transcript\",\n",
    "    run=run,\n",
    "    set=1,\n",
    "    trial=trial,\n",
    "    item=item,\n",
    "    condition=\"G\",\n",
    "    first=first,\n",
    "    suffix=\"aligned\",\n",
    "    ext=\".csv\",\n",
    ")\n",
    "eventpath,eventpath.isfile()"
   ]
  },
  {
   "cell_type": "code",
   "execution_count": 15,
   "metadata": {},
   "outputs": [
    {
     "data": {
      "text/html": [
       "<div>\n",
       "<style scoped>\n",
       "    .dataframe tbody tr th:only-of-type {\n",
       "        vertical-align: middle;\n",
       "    }\n",
       "\n",
       "    .dataframe tbody tr th {\n",
       "        vertical-align: top;\n",
       "    }\n",
       "\n",
       "    .dataframe thead th {\n",
       "        text-align: right;\n",
       "    }\n",
       "</style>\n",
       "<table border=\"1\" class=\"dataframe\">\n",
       "  <thead>\n",
       "    <tr style=\"text-align: right;\">\n",
       "      <th></th>\n",
       "      <th>speaker</th>\n",
       "      <th>sentence</th>\n",
       "      <th>word</th>\n",
       "      <th>start</th>\n",
       "      <th>end</th>\n",
       "      <th>score</th>\n",
       "    </tr>\n",
       "  </thead>\n",
       "  <tbody>\n",
       "    <tr>\n",
       "      <th>0</th>\n",
       "      <td>132</td>\n",
       "      <td>1</td>\n",
       "      <td>Uh,</td>\n",
       "      <td>3.400</td>\n",
       "      <td>3.500</td>\n",
       "      <td>0.696</td>\n",
       "    </tr>\n",
       "    <tr>\n",
       "      <th>1</th>\n",
       "      <td>132</td>\n",
       "      <td>1</td>\n",
       "      <td>I</td>\n",
       "      <td>4.981</td>\n",
       "      <td>5.061</td>\n",
       "      <td>0.727</td>\n",
       "    </tr>\n",
       "    <tr>\n",
       "      <th>2</th>\n",
       "      <td>132</td>\n",
       "      <td>1</td>\n",
       "      <td>feel</td>\n",
       "      <td>5.081</td>\n",
       "      <td>5.221</td>\n",
       "      <td>0.719</td>\n",
       "    </tr>\n",
       "    <tr>\n",
       "      <th>3</th>\n",
       "      <td>132</td>\n",
       "      <td>1</td>\n",
       "      <td>like</td>\n",
       "      <td>5.241</td>\n",
       "      <td>5.321</td>\n",
       "      <td>0.990</td>\n",
       "    </tr>\n",
       "    <tr>\n",
       "      <th>4</th>\n",
       "      <td>132</td>\n",
       "      <td>1</td>\n",
       "      <td>I</td>\n",
       "      <td>5.381</td>\n",
       "      <td>5.421</td>\n",
       "      <td>0.201</td>\n",
       "    </tr>\n",
       "    <tr>\n",
       "      <th>...</th>\n",
       "      <td>...</td>\n",
       "      <td>...</td>\n",
       "      <td>...</td>\n",
       "      <td>...</td>\n",
       "      <td>...</td>\n",
       "      <td>...</td>\n",
       "    </tr>\n",
       "    <tr>\n",
       "      <th>483</th>\n",
       "      <td>132</td>\n",
       "      <td>2</td>\n",
       "      <td>then</td>\n",
       "      <td>175.670</td>\n",
       "      <td>175.793</td>\n",
       "      <td>0.149</td>\n",
       "    </tr>\n",
       "    <tr>\n",
       "      <th>484</th>\n",
       "      <td>132</td>\n",
       "      <td>2</td>\n",
       "      <td>I</td>\n",
       "      <td>175.813</td>\n",
       "      <td>175.833</td>\n",
       "      <td>0.050</td>\n",
       "    </tr>\n",
       "    <tr>\n",
       "      <th>485</th>\n",
       "      <td>132</td>\n",
       "      <td>2</td>\n",
       "      <td>don't</td>\n",
       "      <td>175.854</td>\n",
       "      <td>176.467</td>\n",
       "      <td>0.296</td>\n",
       "    </tr>\n",
       "    <tr>\n",
       "      <th>486</th>\n",
       "      <td>132</td>\n",
       "      <td>2</td>\n",
       "      <td>want</td>\n",
       "      <td>176.487</td>\n",
       "      <td>176.630</td>\n",
       "      <td>0.284</td>\n",
       "    </tr>\n",
       "    <tr>\n",
       "      <th>487</th>\n",
       "      <td>132</td>\n",
       "      <td>2</td>\n",
       "      <td>that.</td>\n",
       "      <td>176.650</td>\n",
       "      <td>176.814</td>\n",
       "      <td>0.559</td>\n",
       "    </tr>\n",
       "  </tbody>\n",
       "</table>\n",
       "<p>488 rows × 6 columns</p>\n",
       "</div>"
      ],
      "text/plain": [
       "     speaker  sentence   word    start      end  score\n",
       "0        132         1    Uh,    3.400    3.500  0.696\n",
       "1        132         1      I    4.981    5.061  0.727\n",
       "2        132         1   feel    5.081    5.221  0.719\n",
       "3        132         1   like    5.241    5.321  0.990\n",
       "4        132         1      I    5.381    5.421  0.201\n",
       "..       ...       ...    ...      ...      ...    ...\n",
       "483      132         2   then  175.670  175.793  0.149\n",
       "484      132         2      I  175.813  175.833  0.050\n",
       "485      132         2  don't  175.854  176.467  0.296\n",
       "486      132         2   want  176.487  176.630  0.284\n",
       "487      132         2  that.  176.650  176.814  0.559\n",
       "\n",
       "[488 rows x 6 columns]"
      ]
     },
     "execution_count": 15,
     "metadata": {},
     "output_type": "execute_result"
    }
   ],
   "source": [
    "df = pd.read_csv(eventpath)\n",
    "df.ffill(inplace=True)\n",
    "df"
   ]
  },
  {
   "cell_type": "code",
   "execution_count": 16,
   "metadata": {},
   "outputs": [
    {
     "data": {
      "text/html": [
       "<div>\n",
       "<style scoped>\n",
       "    .dataframe tbody tr th:only-of-type {\n",
       "        vertical-align: middle;\n",
       "    }\n",
       "\n",
       "    .dataframe tbody tr th {\n",
       "        vertical-align: top;\n",
       "    }\n",
       "\n",
       "    .dataframe thead th {\n",
       "        text-align: right;\n",
       "    }\n",
       "</style>\n",
       "<table border=\"1\" class=\"dataframe\">\n",
       "  <thead>\n",
       "    <tr style=\"text-align: right;\">\n",
       "      <th></th>\n",
       "      <th>speaker</th>\n",
       "      <th>sentence</th>\n",
       "      <th>word</th>\n",
       "      <th>start</th>\n",
       "      <th>end</th>\n",
       "      <th>score</th>\n",
       "    </tr>\n",
       "  </thead>\n",
       "  <tbody>\n",
       "  </tbody>\n",
       "</table>\n",
       "</div>"
      ],
      "text/plain": [
       "Empty DataFrame\n",
       "Columns: [speaker, sentence, word, start, end, score]\n",
       "Index: []"
      ]
     },
     "execution_count": 16,
     "metadata": {},
     "output_type": "execute_result"
    }
   ],
   "source": [
    "df[df.isna().sum(1).astype(bool)]"
   ]
  },
  {
   "cell_type": "code",
   "execution_count": 17,
   "metadata": {},
   "outputs": [],
   "source": [
    "xaxis = np.arange(180 * 1000) / 1000\n",
    "\n",
    "upto = int(df.start.max() * 1000) + 1\n",
    "subA = np.zeros(180000)\n",
    "subA[(df[df.speaker == sub].start * 1000).astype(int)] = 1\n",
    "\n",
    "subB = np.zeros_like(subA)\n",
    "subB[(df[df.speaker != sub].start * 1000).astype(int)] = 1"
   ]
  },
  {
   "cell_type": "code",
   "execution_count": 18,
   "metadata": {},
   "outputs": [
    {
     "data": {
      "image/png": "[encoded data removed]",
      "text/plain": [
       "<Figure size 1200x400 with 2 Axes>"
      ]
     },
     "metadata": {},
     "output_type": "display_data"
    }
   ],
   "source": [
    "fig, axes = plt.subplots(2, 1, figsize=(12, 4), sharex=True)\n",
    "axes[0].set_xlim(0, 180)\n",
    "axes[0].plot(xaxis, subA, color=\"blue\")\n",
    "axes[1].plot(xaxis, subB, color=\"red\")\n",
    "axes[1].set_xlabel(\"time (s)\")\n",
    "fig.show()"
   ]
  },
  {
   "cell_type": "markdown",
   "metadata": {},
   "source": [
    "# Loading data"
   ]
  },
  {
   "cell_type": "code",
   "execution_count": 6,
   "metadata": {},
   "outputs": [],
   "source": [
    "atlas = datasets.fetch_atlas_schaefer_2018(n_rois=1000, resolution_mm=2)"
   ]
  },
  {
   "cell_type": "code",
   "execution_count": 81,
   "metadata": {},
   "outputs": [
    {
     "data": {
      "text/plain": [
       "data/derivatives/fmriprep/sub-004/ses-1/func/sub-004_ses-1_task-Conv_run-1_space-MNI152NLin2009cAsym_desc-preproc_bold.nii.gz"
      ]
     },
     "execution_count": 81,
     "metadata": {},
     "output_type": "execute_result"
    }
   ],
   "source": [
    "# MNI\n",
    "boldpath = Path(\n",
    "    root=\"data/derivatives/fmriprep\",\n",
    "    sub=f\"{sub:03d}\",\n",
    "    ses=\"1\",\n",
    "    datatype=\"func\",\n",
    "    task=\"Conv\",\n",
    "    run=1,\n",
    "    space=\"MNI152NLin2009cAsym\",\n",
    "    desc=\"preproc\",\n",
    "    suffix=\"bold\",\n",
    "    ext=\".nii.gz\",\n",
    ")\n",
    "\n",
    "maskpath = boldpath.copy()\n",
    "maskpath.update(desc='brain', suffix='mask')\n",
    "\n",
    "boldpath"
   ]
  },
  {
   "cell_type": "code",
   "execution_count": 19,
   "metadata": {},
   "outputs": [
    {
     "data": {
      "text/plain": [
       "data/derivatives/fmriprep/sub-032/ses-1/func/sub-032_ses-1_task-Conv_run-1_space-fsaverage6_hemi-L_bold.func.gii"
      ]
     },
     "execution_count": 19,
     "metadata": {},
     "output_type": "execute_result"
    }
   ],
   "source": [
    "# surface\n",
    "boldpath = Path(\n",
    "    root=\"data/derivatives/fmriprep\",\n",
    "    sub=f\"{sub:03d}\",\n",
    "    ses=\"1\",\n",
    "    datatype=\"func\",\n",
    "    task=\"Conv\",\n",
    "    run=1,\n",
    "    space=\"fsaverage6\",\n",
    "    hemi=\"L\",\n",
    "    suffix=\"bold\",\n",
    "    ext=\".func.gii\"\n",
    ")\n",
    "\n",
    "boldpath"
   ]
  },
  {
   "cell_type": "code",
   "execution_count": 25,
   "metadata": {},
   "outputs": [],
   "source": [
    "from nilearn import signal"
   ]
  },
  {
   "cell_type": "code",
   "execution_count": 24,
   "metadata": {},
   "outputs": [],
   "source": [
    "data = nib.load(boldpath)"
   ]
  },
  {
   "cell_type": "code",
   "execution_count": 28,
   "metadata": {},
   "outputs": [
    {
     "data": {
      "text/plain": [
       "(40962, 544)"
      ]
     },
     "execution_count": 28,
     "metadata": {},
     "output_type": "execute_result"
    }
   ],
   "source": [
    "bold = data.agg_data()\n",
    "bold.shape"
   ]
  },
  {
   "cell_type": "code",
   "execution_count": 29,
   "metadata": {},
   "outputs": [
    {
     "name": "stderr",
     "output_type": "stream",
     "text": [
      "/tmp/ipykernel_165287/678679344.py:1: FutureWarning: The default strategy for standardize is currently 'zscore' which incorrectly uses population std to calculate sample zscores. The new strategy 'zscore_sample' corrects this behavior by using the sample std. In release 0.13, the default strategy will be replaced by the new strategy and the 'zscore' option will be removed. Please use 'zscore_sample' instead.\n",
      "  newd = signal.clean(bold.T)\n"
     ]
    }
   ],
   "source": [
    "newd = signal.clean(bold.T)"
   ]
  }
 ],
 "metadata": {
  "kernelspec": {
   "display_name": "fb2b",
   "language": "python",
   "name": "python3"
  },
  "language_info": {
   "codemirror_mode": {
    "name": "ipython",
    "version": 3
   },
   "file_extension": ".py",
   "mimetype": "text/x-python",
   "name": "python",
   "nbconvert_exporter": "python",
   "pygments_lexer": "ipython3",
   "version": "3.11.5"
  },
  "orig_nbformat": 4
 },
 "nbformat": 4,
 "nbformat_minor": 2
}
